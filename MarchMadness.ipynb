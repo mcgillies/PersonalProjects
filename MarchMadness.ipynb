{
 "cells": [
  {
   "cell_type": "code",
   "execution_count": 2,
   "metadata": {},
   "outputs": [
    {
     "data": {
      "text/html": [
       "<table class=\"dataframe\">\n",
       "<caption>A data.frame: 6 × 10</caption>\n",
       "<thead>\n",
       "\t<tr><th></th><th scope=col>Year</th><th scope=col>Round</th><th scope=col>Region.Number</th><th scope=col>Region.Name</th><th scope=col>Seed</th><th scope=col>Score</th><th scope=col>Team</th><th scope=col>Team.1</th><th scope=col>Score.1</th><th scope=col>Seed.1</th></tr>\n",
       "\t<tr><th></th><th scope=col>&lt;int&gt;</th><th scope=col>&lt;int&gt;</th><th scope=col>&lt;int&gt;</th><th scope=col>&lt;chr&gt;</th><th scope=col>&lt;int&gt;</th><th scope=col>&lt;int&gt;</th><th scope=col>&lt;chr&gt;</th><th scope=col>&lt;chr&gt;</th><th scope=col>&lt;int&gt;</th><th scope=col>&lt;int&gt;</th></tr>\n",
       "</thead>\n",
       "<tbody>\n",
       "\t<tr><th scope=row>1</th><td>1985</td><td>1</td><td>1</td><td>West</td><td>1</td><td>83</td><td>St Johns  </td><td>Southern    </td><td>59</td><td>16</td></tr>\n",
       "\t<tr><th scope=row>2</th><td>1985</td><td>1</td><td>1</td><td>West</td><td>2</td><td>81</td><td>VCU       </td><td>Marshall    </td><td>65</td><td>15</td></tr>\n",
       "\t<tr><th scope=row>3</th><td>1985</td><td>1</td><td>1</td><td>West</td><td>3</td><td>65</td><td>NC State  </td><td>Nevada      </td><td>56</td><td>14</td></tr>\n",
       "\t<tr><th scope=row>4</th><td>1985</td><td>1</td><td>1</td><td>West</td><td>4</td><td>85</td><td>UNLV      </td><td>San Diego St</td><td>80</td><td>13</td></tr>\n",
       "\t<tr><th scope=row>5</th><td>1985</td><td>1</td><td>1</td><td>West</td><td>5</td><td>58</td><td>Washington</td><td>Kentucky    </td><td>65</td><td>12</td></tr>\n",
       "\t<tr><th scope=row>6</th><td>1985</td><td>1</td><td>1</td><td>West</td><td>6</td><td>75</td><td>Tulsa     </td><td>UTEP        </td><td>79</td><td>11</td></tr>\n",
       "</tbody>\n",
       "</table>\n"
      ],
      "text/latex": [
       "A data.frame: 6 × 10\n",
       "\\begin{tabular}{r|llllllllll}\n",
       "  & Year & Round & Region.Number & Region.Name & Seed & Score & Team & Team.1 & Score.1 & Seed.1\\\\\n",
       "  & <int> & <int> & <int> & <chr> & <int> & <int> & <chr> & <chr> & <int> & <int>\\\\\n",
       "\\hline\n",
       "\t1 & 1985 & 1 & 1 & West & 1 & 83 & St Johns   & Southern     & 59 & 16\\\\\n",
       "\t2 & 1985 & 1 & 1 & West & 2 & 81 & VCU        & Marshall     & 65 & 15\\\\\n",
       "\t3 & 1985 & 1 & 1 & West & 3 & 65 & NC State   & Nevada       & 56 & 14\\\\\n",
       "\t4 & 1985 & 1 & 1 & West & 4 & 85 & UNLV       & San Diego St & 80 & 13\\\\\n",
       "\t5 & 1985 & 1 & 1 & West & 5 & 58 & Washington & Kentucky     & 65 & 12\\\\\n",
       "\t6 & 1985 & 1 & 1 & West & 6 & 75 & Tulsa      & UTEP         & 79 & 11\\\\\n",
       "\\end{tabular}\n"
      ],
      "text/markdown": [
       "\n",
       "A data.frame: 6 × 10\n",
       "\n",
       "| <!--/--> | Year &lt;int&gt; | Round &lt;int&gt; | Region.Number &lt;int&gt; | Region.Name &lt;chr&gt; | Seed &lt;int&gt; | Score &lt;int&gt; | Team &lt;chr&gt; | Team.1 &lt;chr&gt; | Score.1 &lt;int&gt; | Seed.1 &lt;int&gt; |\n",
       "|---|---|---|---|---|---|---|---|---|---|---|\n",
       "| 1 | 1985 | 1 | 1 | West | 1 | 83 | St Johns   | Southern     | 59 | 16 |\n",
       "| 2 | 1985 | 1 | 1 | West | 2 | 81 | VCU        | Marshall     | 65 | 15 |\n",
       "| 3 | 1985 | 1 | 1 | West | 3 | 65 | NC State   | Nevada       | 56 | 14 |\n",
       "| 4 | 1985 | 1 | 1 | West | 4 | 85 | UNLV       | San Diego St | 80 | 13 |\n",
       "| 5 | 1985 | 1 | 1 | West | 5 | 58 | Washington | Kentucky     | 65 | 12 |\n",
       "| 6 | 1985 | 1 | 1 | West | 6 | 75 | Tulsa      | UTEP         | 79 | 11 |\n",
       "\n"
      ],
      "text/plain": [
       "  Year Round Region.Number Region.Name Seed Score Team       Team.1      \n",
       "1 1985 1     1             West        1    83    St Johns   Southern    \n",
       "2 1985 1     1             West        2    81    VCU        Marshall    \n",
       "3 1985 1     1             West        3    65    NC State   Nevada      \n",
       "4 1985 1     1             West        4    85    UNLV       San Diego St\n",
       "5 1985 1     1             West        5    58    Washington Kentucky    \n",
       "6 1985 1     1             West        6    75    Tulsa      UTEP        \n",
       "  Score.1 Seed.1\n",
       "1 59      16    \n",
       "2 65      15    \n",
       "3 56      14    \n",
       "4 80      13    \n",
       "5 65      12    \n",
       "6 79      11    "
      ]
     },
     "metadata": {},
     "output_type": "display_data"
    }
   ],
   "source": [
    "data <- read.csv(\"https://query.data.world/s/ckrp22cbvmnekvrvhho272hywfarg7\", header=TRUE, stringsAsFactors=FALSE);\n",
    "head(data)"
   ]
  },
  {
   "cell_type": "code",
   "execution_count": 1,
   "metadata": {},
   "outputs": [
    {
     "name": "stderr",
     "output_type": "stream",
     "text": [
      "── \u001b[1mAttaching packages\u001b[22m ─────────────────────────────────────── tidyverse 1.3.1 ──\n",
      "\n",
      "\u001b[32m✔\u001b[39m \u001b[34mggplot2\u001b[39m 3.3.5     \u001b[32m✔\u001b[39m \u001b[34mpurrr  \u001b[39m 0.3.4\n",
      "\u001b[32m✔\u001b[39m \u001b[34mtibble \u001b[39m 3.1.6     \u001b[32m✔\u001b[39m \u001b[34mdplyr  \u001b[39m 1.0.9\n",
      "\u001b[32m✔\u001b[39m \u001b[34mtidyr  \u001b[39m 1.2.0     \u001b[32m✔\u001b[39m \u001b[34mstringr\u001b[39m 1.4.0\n",
      "\u001b[32m✔\u001b[39m \u001b[34mreadr  \u001b[39m 2.0.2     \u001b[32m✔\u001b[39m \u001b[34mforcats\u001b[39m 0.5.1\n",
      "\n",
      "Warning message:\n",
      "“package ‘tidyr’ was built under R version 4.1.2”\n",
      "Warning message:\n",
      "“package ‘dplyr’ was built under R version 4.1.2”\n",
      "── \u001b[1mConflicts\u001b[22m ────────────────────────────────────────── tidyverse_conflicts() ──\n",
      "\u001b[31m✖\u001b[39m \u001b[34mdplyr\u001b[39m::\u001b[32mfilter()\u001b[39m masks \u001b[34mstats\u001b[39m::filter()\n",
      "\u001b[31m✖\u001b[39m \u001b[34mdplyr\u001b[39m::\u001b[32mlag()\u001b[39m    masks \u001b[34mstats\u001b[39m::lag()\n",
      "\n",
      "Warning message:\n",
      "“package ‘repr’ was built under R version 4.1.2”\n",
      "\n",
      "Attaching package: ‘gridExtra’\n",
      "\n",
      "\n",
      "The following object is masked from ‘package:dplyr’:\n",
      "\n",
      "    combine\n",
      "\n",
      "\n",
      "Warning message:\n",
      "“package ‘broom’ was built under R version 4.1.2”\n"
     ]
    }
   ],
   "source": [
    "library(tidyverse)\n",
    "library(repr)\n",
    "library(digest)\n",
    "library(infer)\n",
    "library(gridExtra)\n",
    "library(cowplot)\n",
    "library(dplyr)\n",
    "library(broom)"
   ]
  },
  {
   "cell_type": "code",
   "execution_count": null,
   "metadata": {},
   "outputs": [],
   "source": [
    "eightnine <- data %>%\n",
    "filter(Seed == 8 & Seed.1 == 9) %>%\n",
    "mutate(winner = ifelse(Score > Score.1, Team, Team.1)) %>%\n",
    "mutate(winnerseed = ifelse(Score > Score.1, Seed, Seed.1)) \n",
    "\n",
    "eightnineprop <- eightnine %>%\n",
    "summarize(prop8 = mean(winnerseed == 8), prop9 = mean(winnerseed == 9))\n",
    "\n",
    "tidy(prop.test(sum(eightnine$winnerseed == 8), nrow(eightnine), p = 0.5, alternative = \"g\"))\n",
    "\n",
    "## Average 2 8-seed, 2 9-seed\n",
    "## Most likely that 8 seeds win all than 9 seeds win all\n",
    "## Too even to make predictions based on this"
   ]
  },
  {
   "cell_type": "code",
   "execution_count": null,
   "metadata": {},
   "outputs": [],
   "source": [
    "seventen <- data %>%\n",
    "filter(Seed == 7 & Seed.1 == 10) %>%\n",
    "mutate(winner = ifelse(Score > Score.1, Team, Team.1)) %>%\n",
    "mutate(winnerseed = ifelse(Score > Score.1, Seed, Seed.1))\n",
    "\n",
    "seventenprop <- seventen %>%\n",
    "summarize(prop7 = mean(winnerseed == 7), prop10 = mean(winnerseed == 10))\n",
    "seventenprop\n",
    "tidy(prop.test(sum(seventen$winnerseed == 7), nrow(seventen), p = 0.625, alternative = \"g\"))\n",
    "## At least 2 7 seeds should win\n",
    "## Most likely that 2 7 seeds win, very possible that 3 win"
   ]
  },
  {
   "cell_type": "code",
   "execution_count": null,
   "metadata": {},
   "outputs": [],
   "source": [
    "sixeleven <- data %>%\n",
    "filter(Seed == 6 & Seed.1 == 11) %>%\n",
    "mutate(winner = ifelse(Score > Score.1, Team, Team.1)) %>%\n",
    "mutate(winnerseed = ifelse(Score > Score.1, Seed, Seed.1))\n",
    "\n",
    "meanscoreeleven <- sixeleven %>%\n",
    "summarize(score11 = mean(Score.1))\n",
    "\n",
    "meanscoresix <- sixeleven %>%\n",
    "summarize(score6 = mean(Score))\n",
    "\n",
    "meanscoresixlose <- sixeleven %>%\n",
    "filter(winnerseed == 11) %>%\n",
    "summarize(score6L = mean(Score))\n",
    "\n",
    "meanscoreelevenwin <- sixeleven %>%\n",
    "filter(winnerseed == 11) %>%\n",
    "summarize(score11W = mean(Score.1))\n",
    "\n",
    "scores <- tibble(meanscoreeleven, meanscoresix, meanscoreelevenwin, meanscoresixlose)\n",
    "\n",
    "sixelevenprop <- sixeleven %>%\n",
    "summarize(prop6 = mean(winnerseed == 6), prop11 = mean(winnerseed == 11))\n",
    "sixelevenprop\n",
    "tidy(prop.test(sum(sixeleven$winnerseed == 6), nrow(sixeleven), p = 0.5, alternative = \"g\"))\n",
    "scores\n",
    "## Average 2 6 and 2 11\n",
    "## More likely that its 2 2 split rather than 3 6 seeds and 1 11 seed\n",
    "## Seems that upsets are fueled more by offensive outburts vs defensive"
   ]
  },
  {
   "cell_type": "code",
   "execution_count": null,
   "metadata": {},
   "outputs": [],
   "source": [
    "fivetwelve <- data %>%\n",
    "filter(Seed == 5 & Seed.1 == 12) %>%\n",
    "mutate(winner = ifelse(Score > Score.1, Team, Team.1)) %>%\n",
    "mutate(winnerseed = ifelse(Score > Score.1, Seed, Seed.1))\n",
    "\n",
    "fivetwelveprop <- fivetwelve %>%\n",
    "summarize(prop5 = mean(winnerseed == 5), prop12 = mean(winnerseed == 12))\n",
    "fivetwelveprop\n",
    "\n",
    "meanscoretwelve <- fivetwelve %>%\n",
    "summarize(score12 = mean(Score.1))\n",
    "\n",
    "meanscorefive <- fivetwelve %>%\n",
    "summarize(score5 = mean(Score))\n",
    "\n",
    "meanscorefivelose <- fivetwelve %>%\n",
    "filter(winnerseed == 12) %>%\n",
    "summarize(score5L = mean(Score))\n",
    "\n",
    "meanscoretwelvewin <- fivetwelve %>%\n",
    "filter(winnerseed == 12) %>%\n",
    "summarize(score12W = mean(Score.1))\n",
    "\n",
    "scores <- tibble(meanscoretwelve, meanscorefive, meanscoretwelvewin, meanscorefivelose)\n",
    "scores\n",
    "tidy(prop.test(sum(fivetwelve$winnerseed == 5), nrow(fivetwelve), p = 0.75, alternative = \"l\"))\n",
    "\n",
    "## Average 3 5 seed and 1 12 seed\n",
    "## However almost as likely that its 2-2 split\n",
    "## Look further into matchups\n",
    "## No substantial difference for offensive vs defensive"
   ]
  },
  {
   "cell_type": "code",
   "execution_count": null,
   "metadata": {},
   "outputs": [],
   "source": [
    "fourthirteen <- data %>%\n",
    "filter(Seed == 4 & Seed.1 == 13) %>%\n",
    "mutate(winner = ifelse(Score > Score.1, Team, Team.1)) %>%\n",
    "mutate(winnerseed = ifelse(Score > Score.1, Seed, Seed.1))\n",
    "\n",
    "fourthirteenprop <- fourthirteen %>%\n",
    "summarize(prop4 = mean(winnerseed == 4), prop13 = mean(winnerseed == 13))\n",
    "fourthirteenprop\n",
    "tidy(prop.test(sum(fourthirteen$winnerseed == 4), nrow(fourthirteen), p = 0.8, alternative = \"l\"))\n",
    "\n",
    "## Most likely 3 4 seeds win and one 13 seed\n",
    "## possible that all 4 seeds win, or even 2 13 seeds"
   ]
  },
  {
   "cell_type": "code",
   "execution_count": null,
   "metadata": {},
   "outputs": [],
   "source": [
    "threefourteen <- data %>%\n",
    "filter(Seed == 3 & Seed.1 == 14) %>%\n",
    "mutate(winner = ifelse(Score > Score.1, Team, Team.1)) %>%\n",
    "mutate(winnerseed = ifelse(Score > Score.1, Seed, Seed.1))\n",
    "\n",
    "threefourteenprop <- threefourteen %>%\n",
    "summarize(prop3 = mean(winnerseed == 3), prop14 = mean(winnerseed == 14))\n",
    "threefourteenprop\n",
    "tidy(prop.test(sum(threefourteen$winnerseed == 3), nrow(threefourteen), p = 0.8, alternative = \"l\"))\n",
    "\n",
    "## Most likely 3 3 seeds and one 14 seed\n",
    "## Second most likely all 3 seeds win"
   ]
  },
  {
   "cell_type": "code",
   "execution_count": null,
   "metadata": {},
   "outputs": [],
   "source": [
    "twofifteen <- data %>%\n",
    "filter(Seed == 2 & Seed.1 == 15) %>%\n",
    "mutate(winner = ifelse(Score > Score.1, Team, Team.1)) %>%\n",
    "mutate(winnerseed = ifelse(Score > Score.1, Seed, Seed.1))\n",
    "\n",
    "twofifteenprop <- twofifteen %>%\n",
    "summarize(prop2 = mean(winnerseed == 2), prop15 = mean(winnerseed == 15))\n",
    "twofifteenprop\n",
    "tidy(prop.test(sum(twofifteen$winnerseed == 2), nrow(twofifteen), p = 0.9, alternative = \"g\"))\n",
    "\n",
    "## Very likely all 2 seeds win\n",
    "## Slight chance a 15 seed wins"
   ]
  },
  {
   "cell_type": "code",
   "execution_count": null,
   "metadata": {},
   "outputs": [],
   "source": [
    "onesixteen <- data %>%\n",
    "filter(Seed == 1 & Seed.1 == 16) %>%\n",
    "mutate(winner = ifelse(Score > Score.1, Team, Team.1)) %>%\n",
    "mutate(winnerseed = ifelse(Score > Score.1, Seed, Seed.1))\n",
    "\n",
    "onesixteenprop <- onesixteen %>%\n",
    "summarize(prop1 = mean(winnerseed == 1), prop16 = mean(winnerseed == 16))\n",
    "onesixteenprop\n",
    "tidy(prop.test(sum(onesixteen$winnerseed == 1), nrow(onesixteen), p = 0.95, alternative = \"g\"))\n",
    "##Extremely likely all 1 seeds win"
   ]
  },
  {
   "cell_type": "code",
   "execution_count": null,
   "metadata": {},
   "outputs": [],
   "source": [
    "upsets <- data %>%\n",
    "mutate(winner = ifelse(Score > Score.1, Team, Team.1)) %>%\n",
    "mutate(winnerseed = ifelse(Score > Score.1, Seed, Seed.1)) %>%\n",
    "filter(winnerseed > 8)\n",
    "\n",
    "scoreloserupset <- upsets %>%\n",
    "summarize(scoreloserupset = mean(Score)) \n",
    "\n",
    "scorewinnerupset <- upsets %>%\n",
    "summarize(scorewinnerupset = mean(Score.1))\n",
    "scorelow <- data %>%\n",
    "summarize(scorelow = mean(Score))\n",
    "\n",
    "scorehigh <- data %>%\n",
    "summarize(scorehigh = mean(Score.1))\n",
    "\n",
    "scores <- tibble(scorelow, scorehigh, scoreloserupset, scorewinnerupset)\n",
    "scores\n",
    "\n",
    "## Upsets usually have a larger margin of win, generally more defence "
   ]
  },
  {
   "cell_type": "code",
   "execution_count": null,
   "metadata": {},
   "outputs": [],
   "source": []
  }
 ],
 "metadata": {
  "kernelspec": {
   "display_name": "R",
   "language": "R",
   "name": "ir"
  },
  "language_info": {
   "codemirror_mode": "r",
   "file_extension": ".r",
   "mimetype": "text/x-r-source",
   "name": "R",
   "pygments_lexer": "r",
   "version": "4.1.1"
  }
 },
 "nbformat": 4,
 "nbformat_minor": 4
}
