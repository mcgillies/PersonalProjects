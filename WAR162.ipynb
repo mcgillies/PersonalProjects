{
 "cells": [
  {
   "cell_type": "code",
   "execution_count": 1,
   "metadata": {},
   "outputs": [
    {
     "name": "stderr",
     "output_type": "stream",
     "text": [
      "── \u001b[1mAttaching packages\u001b[22m ─────────────────────────────────────── tidyverse 1.3.1 ──\n",
      "\n",
      "\u001b[32m✔\u001b[39m \u001b[34mggplot2\u001b[39m 3.3.5     \u001b[32m✔\u001b[39m \u001b[34mpurrr  \u001b[39m 0.3.4\n",
      "\u001b[32m✔\u001b[39m \u001b[34mtibble \u001b[39m 3.1.6     \u001b[32m✔\u001b[39m \u001b[34mdplyr  \u001b[39m 1.0.9\n",
      "\u001b[32m✔\u001b[39m \u001b[34mtidyr  \u001b[39m 1.2.0     \u001b[32m✔\u001b[39m \u001b[34mstringr\u001b[39m 1.4.0\n",
      "\u001b[32m✔\u001b[39m \u001b[34mreadr  \u001b[39m 2.0.2     \u001b[32m✔\u001b[39m \u001b[34mforcats\u001b[39m 0.5.1\n",
      "\n",
      "Warning message:\n",
      "“package ‘tidyr’ was built under R version 4.1.2”\n",
      "Warning message:\n",
      "“package ‘dplyr’ was built under R version 4.1.2”\n",
      "── \u001b[1mConflicts\u001b[22m ────────────────────────────────────────── tidyverse_conflicts() ──\n",
      "\u001b[31m✖\u001b[39m \u001b[34mdplyr\u001b[39m::\u001b[32mfilter()\u001b[39m masks \u001b[34mstats\u001b[39m::filter()\n",
      "\u001b[31m✖\u001b[39m \u001b[34mdplyr\u001b[39m::\u001b[32mlag()\u001b[39m    masks \u001b[34mstats\u001b[39m::lag()\n",
      "\n",
      "Warning message:\n",
      "“package ‘repr’ was built under R version 4.1.2”\n",
      "\n",
      "Attaching package: ‘gridExtra’\n",
      "\n",
      "\n",
      "The following object is masked from ‘package:dplyr’:\n",
      "\n",
      "    combine\n",
      "\n",
      "\n",
      "Warning message:\n",
      "“package ‘tidymodels’ was built under R version 4.1.2”\n",
      "── \u001b[1mAttaching packages\u001b[22m ────────────────────────────────────── tidymodels 0.2.0 ──\n",
      "\n",
      "\u001b[32m✔\u001b[39m \u001b[34mbroom       \u001b[39m 0.7.12     \u001b[32m✔\u001b[39m \u001b[34mrsample     \u001b[39m 0.1.1 \n",
      "\u001b[32m✔\u001b[39m \u001b[34mdials       \u001b[39m 0.1.0      \u001b[32m✔\u001b[39m \u001b[34mtune        \u001b[39m 0.2.0 \n",
      "\u001b[32m✔\u001b[39m \u001b[34minfer       \u001b[39m 1.0.0      \u001b[32m✔\u001b[39m \u001b[34mworkflows   \u001b[39m 0.2.6 \n",
      "\u001b[32m✔\u001b[39m \u001b[34mmodeldata   \u001b[39m 0.1.1      \u001b[32m✔\u001b[39m \u001b[34mworkflowsets\u001b[39m 0.2.1 \n",
      "\u001b[32m✔\u001b[39m \u001b[34mparsnip     \u001b[39m 0.2.1      \u001b[32m✔\u001b[39m \u001b[34myardstick   \u001b[39m 0.0.9 \n",
      "\u001b[32m✔\u001b[39m \u001b[34mrecipes     \u001b[39m 0.2.0      \n",
      "\n",
      "Warning message:\n",
      "“package ‘broom’ was built under R version 4.1.2”\n",
      "Warning message:\n",
      "“package ‘dials’ was built under R version 4.1.2”\n",
      "Warning message:\n",
      "“package ‘parsnip’ was built under R version 4.1.2”\n",
      "Warning message:\n",
      "“package ‘recipes’ was built under R version 4.1.2”\n",
      "Warning message:\n",
      "“package ‘tune’ was built under R version 4.1.2”\n",
      "Warning message:\n",
      "“package ‘workflows’ was built under R version 4.1.2”\n",
      "Warning message:\n",
      "“package ‘workflowsets’ was built under R version 4.1.2”\n",
      "── \u001b[1mConflicts\u001b[22m ───────────────────────────────────────── tidymodels_conflicts() ──\n",
      "\u001b[31m✖\u001b[39m \u001b[34mgridExtra\u001b[39m::\u001b[32mcombine()\u001b[39m masks \u001b[34mdplyr\u001b[39m::combine()\n",
      "\u001b[31m✖\u001b[39m \u001b[34mscales\u001b[39m::\u001b[32mdiscard()\u001b[39m    masks \u001b[34mpurrr\u001b[39m::discard()\n",
      "\u001b[31m✖\u001b[39m \u001b[34mdplyr\u001b[39m::\u001b[32mfilter()\u001b[39m      masks \u001b[34mstats\u001b[39m::filter()\n",
      "\u001b[31m✖\u001b[39m \u001b[34mrecipes\u001b[39m::\u001b[32mfixed()\u001b[39m     masks \u001b[34mstringr\u001b[39m::fixed()\n",
      "\u001b[31m✖\u001b[39m \u001b[34mdplyr\u001b[39m::\u001b[32mlag()\u001b[39m         masks \u001b[34mstats\u001b[39m::lag()\n",
      "\u001b[31m✖\u001b[39m \u001b[34myardstick\u001b[39m::\u001b[32mspec()\u001b[39m    masks \u001b[34mreadr\u001b[39m::spec()\n",
      "\u001b[31m✖\u001b[39m \u001b[34mrecipes\u001b[39m::\u001b[32mstep()\u001b[39m      masks \u001b[34mstats\u001b[39m::step()\n",
      "\u001b[34m•\u001b[39m Dig deeper into tidy modeling with R at \u001b[32mhttps://www.tmwr.org\u001b[39m\n",
      "\n",
      "Registered S3 method overwritten by 'GGally':\n",
      "  method from   \n",
      "  +.gg   ggplot2\n",
      "\n"
     ]
    }
   ],
   "source": [
    "library(tidyverse)\n",
    "library(repr)\n",
    "library(digest)\n",
    "library(gridExtra)\n",
    "library(cowplot)\n",
    "library(dplyr)\n",
    "library(tidymodels)\n",
    "library(GGally)"
   ]
  },
  {
   "cell_type": "markdown",
   "metadata": {},
   "source": [
    "## The worst/best 162 game season since 2015 (by WAR)"
   ]
  },
  {
   "cell_type": "code",
   "execution_count": 2,
   "metadata": {},
   "outputs": [
    {
     "data": {
      "text/html": [
       "<table class=\"dataframe\">\n",
       "<caption>A data.frame: 6 × 25</caption>\n",
       "<thead>\n",
       "\t<tr><th></th><th scope=col>Season</th><th scope=col>Name</th><th scope=col>Team</th><th scope=col>Age</th><th scope=col>G</th><th scope=col>PA</th><th scope=col>HR</th><th scope=col>R</th><th scope=col>RBI</th><th scope=col>SB</th><th scope=col>⋯</th><th scope=col>OBP</th><th scope=col>SLG</th><th scope=col>wOBA</th><th scope=col>xwOBA</th><th scope=col>wRC.</th><th scope=col>BsR</th><th scope=col>Off</th><th scope=col>Def</th><th scope=col>WAR</th><th scope=col>playerid</th></tr>\n",
       "\t<tr><th></th><th scope=col>&lt;int&gt;</th><th scope=col>&lt;chr&gt;</th><th scope=col>&lt;chr&gt;</th><th scope=col>&lt;int&gt;</th><th scope=col>&lt;int&gt;</th><th scope=col>&lt;int&gt;</th><th scope=col>&lt;int&gt;</th><th scope=col>&lt;int&gt;</th><th scope=col>&lt;int&gt;</th><th scope=col>&lt;int&gt;</th><th scope=col>⋯</th><th scope=col>&lt;dbl&gt;</th><th scope=col>&lt;dbl&gt;</th><th scope=col>&lt;dbl&gt;</th><th scope=col>&lt;lgl&gt;</th><th scope=col>&lt;int&gt;</th><th scope=col>&lt;dbl&gt;</th><th scope=col>&lt;dbl&gt;</th><th scope=col>&lt;dbl&gt;</th><th scope=col>&lt;dbl&gt;</th><th scope=col>&lt;int&gt;</th></tr>\n",
       "</thead>\n",
       "<tbody>\n",
       "\t<tr><th scope=row>1</th><td>2015</td><td>Jarrett Parker </td><td>SFG</td><td>26</td><td> 21</td><td> 54</td><td> 6</td><td> 11</td><td>14</td><td>1</td><td>⋯</td><td>0.407</td><td>0.755</td><td>0.486</td><td>NA</td><td>219</td><td> 0.2</td><td> 7.7</td><td> -1.3</td><td>0.9</td><td>11624</td></tr>\n",
       "\t<tr><th scope=row>2</th><td>2020</td><td>Juan Soto      </td><td>WSN</td><td>21</td><td> 47</td><td>196</td><td>13</td><td> 39</td><td>37</td><td>6</td><td>⋯</td><td>0.490</td><td>0.695</td><td>0.478</td><td>NA</td><td>202</td><td>-0.5</td><td>25.0</td><td> -3.9</td><td>2.6</td><td>20123</td></tr>\n",
       "\t<tr><th scope=row>3</th><td>2022</td><td>Matt Carpenter </td><td>NYY</td><td>36</td><td> 47</td><td>154</td><td>15</td><td> 28</td><td>37</td><td>0</td><td>⋯</td><td>0.412</td><td>0.727</td><td>0.472</td><td>NA</td><td>218</td><td>-0.8</td><td>19.5</td><td> -2.5</td><td>2.3</td><td> 8090</td></tr>\n",
       "\t<tr><th scope=row>4</th><td>2020</td><td>Ke'Bryan Hayes </td><td>PIT</td><td>23</td><td> 24</td><td> 95</td><td> 5</td><td> 17</td><td>11</td><td>1</td><td>⋯</td><td>0.442</td><td>0.682</td><td>0.464</td><td>NA</td><td>194</td><td> 0.3</td><td>11.7</td><td>  3.3</td><td>1.9</td><td>18577</td></tr>\n",
       "\t<tr><th scope=row>5</th><td>2015</td><td>Bryce Harper   </td><td>WSN</td><td>22</td><td>153</td><td>654</td><td>42</td><td>118</td><td>99</td><td>6</td><td>⋯</td><td>0.460</td><td>0.649</td><td>0.461</td><td>NA</td><td>197</td><td> 3.6</td><td>77.7</td><td>-10.2</td><td>9.3</td><td>11579</td></tr>\n",
       "\t<tr><th scope=row>6</th><td>2020</td><td>Freddie Freeman</td><td>ATL</td><td>30</td><td> 60</td><td>262</td><td>13</td><td> 51</td><td>53</td><td>2</td><td>⋯</td><td>0.462</td><td>0.640</td><td>0.456</td><td>NA</td><td>186</td><td>-0.3</td><td>28.4</td><td> -3.0</td><td>3.2</td><td> 5361</td></tr>\n",
       "</tbody>\n",
       "</table>\n"
      ],
      "text/latex": [
       "A data.frame: 6 × 25\n",
       "\\begin{tabular}{r|lllllllllllllllllllll}\n",
       "  & Season & Name & Team & Age & G & PA & HR & R & RBI & SB & ⋯ & OBP & SLG & wOBA & xwOBA & wRC. & BsR & Off & Def & WAR & playerid\\\\\n",
       "  & <int> & <chr> & <chr> & <int> & <int> & <int> & <int> & <int> & <int> & <int> & ⋯ & <dbl> & <dbl> & <dbl> & <lgl> & <int> & <dbl> & <dbl> & <dbl> & <dbl> & <int>\\\\\n",
       "\\hline\n",
       "\t1 & 2015 & Jarrett Parker  & SFG & 26 &  21 &  54 &  6 &  11 & 14 & 1 & ⋯ & 0.407 & 0.755 & 0.486 & NA & 219 &  0.2 &  7.7 &  -1.3 & 0.9 & 11624\\\\\n",
       "\t2 & 2020 & Juan Soto       & WSN & 21 &  47 & 196 & 13 &  39 & 37 & 6 & ⋯ & 0.490 & 0.695 & 0.478 & NA & 202 & -0.5 & 25.0 &  -3.9 & 2.6 & 20123\\\\\n",
       "\t3 & 2022 & Matt Carpenter  & NYY & 36 &  47 & 154 & 15 &  28 & 37 & 0 & ⋯ & 0.412 & 0.727 & 0.472 & NA & 218 & -0.8 & 19.5 &  -2.5 & 2.3 &  8090\\\\\n",
       "\t4 & 2020 & Ke'Bryan Hayes  & PIT & 23 &  24 &  95 &  5 &  17 & 11 & 1 & ⋯ & 0.442 & 0.682 & 0.464 & NA & 194 &  0.3 & 11.7 &   3.3 & 1.9 & 18577\\\\\n",
       "\t5 & 2015 & Bryce Harper    & WSN & 22 & 153 & 654 & 42 & 118 & 99 & 6 & ⋯ & 0.460 & 0.649 & 0.461 & NA & 197 &  3.6 & 77.7 & -10.2 & 9.3 & 11579\\\\\n",
       "\t6 & 2020 & Freddie Freeman & ATL & 30 &  60 & 262 & 13 &  51 & 53 & 2 & ⋯ & 0.462 & 0.640 & 0.456 & NA & 186 & -0.3 & 28.4 &  -3.0 & 3.2 &  5361\\\\\n",
       "\\end{tabular}\n"
      ],
      "text/markdown": [
       "\n",
       "A data.frame: 6 × 25\n",
       "\n",
       "| <!--/--> | Season &lt;int&gt; | Name &lt;chr&gt; | Team &lt;chr&gt; | Age &lt;int&gt; | G &lt;int&gt; | PA &lt;int&gt; | HR &lt;int&gt; | R &lt;int&gt; | RBI &lt;int&gt; | SB &lt;int&gt; | ⋯ ⋯ | OBP &lt;dbl&gt; | SLG &lt;dbl&gt; | wOBA &lt;dbl&gt; | xwOBA &lt;lgl&gt; | wRC. &lt;int&gt; | BsR &lt;dbl&gt; | Off &lt;dbl&gt; | Def &lt;dbl&gt; | WAR &lt;dbl&gt; | playerid &lt;int&gt; |\n",
       "|---|---|---|---|---|---|---|---|---|---|---|---|---|---|---|---|---|---|---|---|---|---|\n",
       "| 1 | 2015 | Jarrett Parker  | SFG | 26 |  21 |  54 |  6 |  11 | 14 | 1 | ⋯ | 0.407 | 0.755 | 0.486 | NA | 219 |  0.2 |  7.7 |  -1.3 | 0.9 | 11624 |\n",
       "| 2 | 2020 | Juan Soto       | WSN | 21 |  47 | 196 | 13 |  39 | 37 | 6 | ⋯ | 0.490 | 0.695 | 0.478 | NA | 202 | -0.5 | 25.0 |  -3.9 | 2.6 | 20123 |\n",
       "| 3 | 2022 | Matt Carpenter  | NYY | 36 |  47 | 154 | 15 |  28 | 37 | 0 | ⋯ | 0.412 | 0.727 | 0.472 | NA | 218 | -0.8 | 19.5 |  -2.5 | 2.3 |  8090 |\n",
       "| 4 | 2020 | Ke'Bryan Hayes  | PIT | 23 |  24 |  95 |  5 |  17 | 11 | 1 | ⋯ | 0.442 | 0.682 | 0.464 | NA | 194 |  0.3 | 11.7 |   3.3 | 1.9 | 18577 |\n",
       "| 5 | 2015 | Bryce Harper    | WSN | 22 | 153 | 654 | 42 | 118 | 99 | 6 | ⋯ | 0.460 | 0.649 | 0.461 | NA | 197 |  3.6 | 77.7 | -10.2 | 9.3 | 11579 |\n",
       "| 6 | 2020 | Freddie Freeman | ATL | 30 |  60 | 262 | 13 |  51 | 53 | 2 | ⋯ | 0.462 | 0.640 | 0.456 | NA | 186 | -0.3 | 28.4 |  -3.0 | 3.2 |  5361 |\n",
       "\n"
      ],
      "text/plain": [
       "  Season Name            Team Age G   PA  HR R   RBI SB ⋯ OBP   SLG   wOBA \n",
       "1 2015   Jarrett Parker  SFG  26   21  54  6  11 14  1  ⋯ 0.407 0.755 0.486\n",
       "2 2020   Juan Soto       WSN  21   47 196 13  39 37  6  ⋯ 0.490 0.695 0.478\n",
       "3 2022   Matt Carpenter  NYY  36   47 154 15  28 37  0  ⋯ 0.412 0.727 0.472\n",
       "4 2020   Ke'Bryan Hayes  PIT  23   24  95  5  17 11  1  ⋯ 0.442 0.682 0.464\n",
       "5 2015   Bryce Harper    WSN  22  153 654 42 118 99  6  ⋯ 0.460 0.649 0.461\n",
       "6 2020   Freddie Freeman ATL  30   60 262 13  51 53  2  ⋯ 0.462 0.640 0.456\n",
       "  xwOBA wRC. BsR  Off  Def   WAR playerid\n",
       "1 NA    219   0.2  7.7  -1.3 0.9 11624   \n",
       "2 NA    202  -0.5 25.0  -3.9 2.6 20123   \n",
       "3 NA    218  -0.8 19.5  -2.5 2.3  8090   \n",
       "4 NA    194   0.3 11.7   3.3 1.9 18577   \n",
       "5 NA    197   3.6 77.7 -10.2 9.3 11579   \n",
       "6 NA    186  -0.3 28.4  -3.0 3.2  5361   "
      ]
     },
     "metadata": {},
     "output_type": "display_data"
    }
   ],
   "source": [
    "data <- read.csv(\"downloads/FanGraphs Leaderboard (6).csv\")\n",
    "head(data)"
   ]
  },
  {
   "cell_type": "code",
   "execution_count": 7,
   "metadata": {},
   "outputs": [
    {
     "data": {
      "text/html": [
       "<table class=\"dataframe\">\n",
       "<caption>A data.frame: 6 × 27</caption>\n",
       "<thead>\n",
       "\t<tr><th></th><th scope=col>Season</th><th scope=col>Name</th><th scope=col>Team</th><th scope=col>Age</th><th scope=col>G</th><th scope=col>PA</th><th scope=col>HR</th><th scope=col>R</th><th scope=col>RBI</th><th scope=col>SB</th><th scope=col>⋯</th><th scope=col>wOBA</th><th scope=col>xwOBA</th><th scope=col>wRC.</th><th scope=col>BsR</th><th scope=col>Off</th><th scope=col>Def</th><th scope=col>WAR</th><th scope=col>playerid</th><th scope=col>factor</th><th scope=col>WARps</th></tr>\n",
       "\t<tr><th></th><th scope=col>&lt;int&gt;</th><th scope=col>&lt;chr&gt;</th><th scope=col>&lt;chr&gt;</th><th scope=col>&lt;int&gt;</th><th scope=col>&lt;int&gt;</th><th scope=col>&lt;int&gt;</th><th scope=col>&lt;int&gt;</th><th scope=col>&lt;int&gt;</th><th scope=col>&lt;int&gt;</th><th scope=col>&lt;int&gt;</th><th scope=col>⋯</th><th scope=col>&lt;dbl&gt;</th><th scope=col>&lt;lgl&gt;</th><th scope=col>&lt;int&gt;</th><th scope=col>&lt;dbl&gt;</th><th scope=col>&lt;dbl&gt;</th><th scope=col>&lt;dbl&gt;</th><th scope=col>&lt;dbl&gt;</th><th scope=col>&lt;int&gt;</th><th scope=col>&lt;dbl&gt;</th><th scope=col>&lt;dbl&gt;</th></tr>\n",
       "</thead>\n",
       "<tbody>\n",
       "\t<tr><th scope=row>1</th><td>2020</td><td>Chris Davis   </td><td>BAL</td><td>34</td><td>16</td><td>55</td><td>0</td><td>3</td><td>1</td><td>0</td><td>⋯</td><td>0.154</td><td>NA</td><td>-14</td><td> 0.0</td><td> -7.7</td><td>-1.8</td><td>-0.8</td><td> 9272</td><td>10.125000</td><td>-8.100000</td></tr>\n",
       "\t<tr><th scope=row>2</th><td>2017</td><td>Cody Asche    </td><td>CHW</td><td>27</td><td>19</td><td>62</td><td>1</td><td>5</td><td>4</td><td>0</td><td>⋯</td><td>0.157</td><td>NA</td><td>-11</td><td>-0.1</td><td> -8.7</td><td>-2.0</td><td>-0.9</td><td>11997</td><td> 8.526316</td><td>-7.673684</td></tr>\n",
       "\t<tr><th scope=row>3</th><td>2019</td><td>Daniel Palka  </td><td>CHW</td><td>27</td><td>30</td><td>93</td><td>2</td><td>4</td><td>4</td><td>0</td><td>⋯</td><td>0.174</td><td>NA</td><td>  1</td><td>-0.5</td><td>-12.3</td><td>-5.4</td><td>-1.4</td><td>14897</td><td> 5.400000</td><td>-7.560000</td></tr>\n",
       "\t<tr><th scope=row>4</th><td>2015</td><td>Dustin Garneau</td><td>COL</td><td>27</td><td>22</td><td>76</td><td>2</td><td>6</td><td>8</td><td>0</td><td>⋯</td><td>0.215</td><td>NA</td><td> 14</td><td> 0.3</td><td> -7.3</td><td>-4.1</td><td>-1.0</td><td> 9433</td><td> 7.363636</td><td>-7.363636</td></tr>\n",
       "\t<tr><th scope=row>5</th><td>2022</td><td>Miguel Sano   </td><td>MIN</td><td>29</td><td>20</td><td>71</td><td>1</td><td>1</td><td>3</td><td>1</td><td>⋯</td><td>0.177</td><td>NA</td><td>  9</td><td>-0.8</td><td> -8.0</td><td>-2.8</td><td>-0.9</td><td>12164</td><td> 8.100000</td><td>-7.290000</td></tr>\n",
       "\t<tr><th scope=row>6</th><td>2022</td><td>Cole Tucker   </td><td>PIT</td><td>25</td><td>18</td><td>63</td><td>0</td><td>3</td><td>2</td><td>1</td><td>⋯</td><td>0.172</td><td>NA</td><td>  4</td><td> 0.5</td><td> -6.6</td><td>-3.1</td><td>-0.8</td><td>17326</td><td> 9.000000</td><td>-7.200000</td></tr>\n",
       "</tbody>\n",
       "</table>\n"
      ],
      "text/latex": [
       "A data.frame: 6 × 27\n",
       "\\begin{tabular}{r|lllllllllllllllllllll}\n",
       "  & Season & Name & Team & Age & G & PA & HR & R & RBI & SB & ⋯ & wOBA & xwOBA & wRC. & BsR & Off & Def & WAR & playerid & factor & WARps\\\\\n",
       "  & <int> & <chr> & <chr> & <int> & <int> & <int> & <int> & <int> & <int> & <int> & ⋯ & <dbl> & <lgl> & <int> & <dbl> & <dbl> & <dbl> & <dbl> & <int> & <dbl> & <dbl>\\\\\n",
       "\\hline\n",
       "\t1 & 2020 & Chris Davis    & BAL & 34 & 16 & 55 & 0 & 3 & 1 & 0 & ⋯ & 0.154 & NA & -14 &  0.0 &  -7.7 & -1.8 & -0.8 &  9272 & 10.125000 & -8.100000\\\\\n",
       "\t2 & 2017 & Cody Asche     & CHW & 27 & 19 & 62 & 1 & 5 & 4 & 0 & ⋯ & 0.157 & NA & -11 & -0.1 &  -8.7 & -2.0 & -0.9 & 11997 &  8.526316 & -7.673684\\\\\n",
       "\t3 & 2019 & Daniel Palka   & CHW & 27 & 30 & 93 & 2 & 4 & 4 & 0 & ⋯ & 0.174 & NA &   1 & -0.5 & -12.3 & -5.4 & -1.4 & 14897 &  5.400000 & -7.560000\\\\\n",
       "\t4 & 2015 & Dustin Garneau & COL & 27 & 22 & 76 & 2 & 6 & 8 & 0 & ⋯ & 0.215 & NA &  14 &  0.3 &  -7.3 & -4.1 & -1.0 &  9433 &  7.363636 & -7.363636\\\\\n",
       "\t5 & 2022 & Miguel Sano    & MIN & 29 & 20 & 71 & 1 & 1 & 3 & 1 & ⋯ & 0.177 & NA &   9 & -0.8 &  -8.0 & -2.8 & -0.9 & 12164 &  8.100000 & -7.290000\\\\\n",
       "\t6 & 2022 & Cole Tucker    & PIT & 25 & 18 & 63 & 0 & 3 & 2 & 1 & ⋯ & 0.172 & NA &   4 &  0.5 &  -6.6 & -3.1 & -0.8 & 17326 &  9.000000 & -7.200000\\\\\n",
       "\\end{tabular}\n"
      ],
      "text/markdown": [
       "\n",
       "A data.frame: 6 × 27\n",
       "\n",
       "| <!--/--> | Season &lt;int&gt; | Name &lt;chr&gt; | Team &lt;chr&gt; | Age &lt;int&gt; | G &lt;int&gt; | PA &lt;int&gt; | HR &lt;int&gt; | R &lt;int&gt; | RBI &lt;int&gt; | SB &lt;int&gt; | ⋯ ⋯ | wOBA &lt;dbl&gt; | xwOBA &lt;lgl&gt; | wRC. &lt;int&gt; | BsR &lt;dbl&gt; | Off &lt;dbl&gt; | Def &lt;dbl&gt; | WAR &lt;dbl&gt; | playerid &lt;int&gt; | factor &lt;dbl&gt; | WARps &lt;dbl&gt; |\n",
       "|---|---|---|---|---|---|---|---|---|---|---|---|---|---|---|---|---|---|---|---|---|---|\n",
       "| 1 | 2020 | Chris Davis    | BAL | 34 | 16 | 55 | 0 | 3 | 1 | 0 | ⋯ | 0.154 | NA | -14 |  0.0 |  -7.7 | -1.8 | -0.8 |  9272 | 10.125000 | -8.100000 |\n",
       "| 2 | 2017 | Cody Asche     | CHW | 27 | 19 | 62 | 1 | 5 | 4 | 0 | ⋯ | 0.157 | NA | -11 | -0.1 |  -8.7 | -2.0 | -0.9 | 11997 |  8.526316 | -7.673684 |\n",
       "| 3 | 2019 | Daniel Palka   | CHW | 27 | 30 | 93 | 2 | 4 | 4 | 0 | ⋯ | 0.174 | NA |   1 | -0.5 | -12.3 | -5.4 | -1.4 | 14897 |  5.400000 | -7.560000 |\n",
       "| 4 | 2015 | Dustin Garneau | COL | 27 | 22 | 76 | 2 | 6 | 8 | 0 | ⋯ | 0.215 | NA |  14 |  0.3 |  -7.3 | -4.1 | -1.0 |  9433 |  7.363636 | -7.363636 |\n",
       "| 5 | 2022 | Miguel Sano    | MIN | 29 | 20 | 71 | 1 | 1 | 3 | 1 | ⋯ | 0.177 | NA |   9 | -0.8 |  -8.0 | -2.8 | -0.9 | 12164 |  8.100000 | -7.290000 |\n",
       "| 6 | 2022 | Cole Tucker    | PIT | 25 | 18 | 63 | 0 | 3 | 2 | 1 | ⋯ | 0.172 | NA |   4 |  0.5 |  -6.6 | -3.1 | -0.8 | 17326 |  9.000000 | -7.200000 |\n",
       "\n"
      ],
      "text/plain": [
       "  Season Name           Team Age G  PA HR R RBI SB ⋯ wOBA  xwOBA wRC. BsR \n",
       "1 2020   Chris Davis    BAL  34  16 55 0  3 1   0  ⋯ 0.154 NA    -14   0.0\n",
       "2 2017   Cody Asche     CHW  27  19 62 1  5 4   0  ⋯ 0.157 NA    -11  -0.1\n",
       "3 2019   Daniel Palka   CHW  27  30 93 2  4 4   0  ⋯ 0.174 NA      1  -0.5\n",
       "4 2015   Dustin Garneau COL  27  22 76 2  6 8   0  ⋯ 0.215 NA     14   0.3\n",
       "5 2022   Miguel Sano    MIN  29  20 71 1  1 3   1  ⋯ 0.177 NA      9  -0.8\n",
       "6 2022   Cole Tucker    PIT  25  18 63 0  3 2   1  ⋯ 0.172 NA      4   0.5\n",
       "  Off   Def  WAR  playerid factor    WARps    \n",
       "1  -7.7 -1.8 -0.8  9272    10.125000 -8.100000\n",
       "2  -8.7 -2.0 -0.9 11997     8.526316 -7.673684\n",
       "3 -12.3 -5.4 -1.4 14897     5.400000 -7.560000\n",
       "4  -7.3 -4.1 -1.0  9433     7.363636 -7.363636\n",
       "5  -8.0 -2.8 -0.9 12164     8.100000 -7.290000\n",
       "6  -6.6 -3.1 -0.8 17326     9.000000 -7.200000"
      ]
     },
     "metadata": {},
     "output_type": "display_data"
    }
   ],
   "source": [
    "perseason <- data %>% mutate(factor = 162/G) %>%\n",
    "mutate(WARps = WAR * factor) %>%\n",
    "arrange((WARps))\n",
    "head(perseason)"
   ]
  },
  {
   "cell_type": "code",
   "execution_count": 8,
   "metadata": {},
   "outputs": [
    {
     "data": {
      "text/html": [
       "<table class=\"dataframe\">\n",
       "<caption>A data.frame: 6 × 27</caption>\n",
       "<thead>\n",
       "\t<tr><th></th><th scope=col>Season</th><th scope=col>Name</th><th scope=col>Team</th><th scope=col>Age</th><th scope=col>G</th><th scope=col>PA</th><th scope=col>HR</th><th scope=col>R</th><th scope=col>RBI</th><th scope=col>SB</th><th scope=col>⋯</th><th scope=col>wOBA</th><th scope=col>xwOBA</th><th scope=col>wRC.</th><th scope=col>BsR</th><th scope=col>Off</th><th scope=col>Def</th><th scope=col>WAR</th><th scope=col>playerid</th><th scope=col>factor</th><th scope=col>WARps</th></tr>\n",
       "\t<tr><th></th><th scope=col>&lt;int&gt;</th><th scope=col>&lt;chr&gt;</th><th scope=col>&lt;chr&gt;</th><th scope=col>&lt;int&gt;</th><th scope=col>&lt;int&gt;</th><th scope=col>&lt;int&gt;</th><th scope=col>&lt;int&gt;</th><th scope=col>&lt;int&gt;</th><th scope=col>&lt;int&gt;</th><th scope=col>&lt;int&gt;</th><th scope=col>⋯</th><th scope=col>&lt;dbl&gt;</th><th scope=col>&lt;lgl&gt;</th><th scope=col>&lt;int&gt;</th><th scope=col>&lt;dbl&gt;</th><th scope=col>&lt;dbl&gt;</th><th scope=col>&lt;dbl&gt;</th><th scope=col>&lt;dbl&gt;</th><th scope=col>&lt;int&gt;</th><th scope=col>&lt;dbl&gt;</th><th scope=col>&lt;dbl&gt;</th></tr>\n",
       "</thead>\n",
       "<tbody>\n",
       "\t<tr><th scope=row>1</th><td>2020</td><td>Ke'Bryan Hayes</td><td>PIT</td><td>23</td><td> 24</td><td> 95</td><td> 5</td><td> 17</td><td> 11</td><td> 1</td><td>⋯</td><td>0.464</td><td>NA</td><td>194</td><td>0.3</td><td>11.7</td><td> 3.3</td><td> 1.9</td><td>18577</td><td>6.750000</td><td>12.82500</td></tr>\n",
       "\t<tr><th scope=row>2</th><td>2018</td><td>Mookie Betts  </td><td>BOS</td><td>25</td><td>136</td><td>614</td><td>32</td><td>129</td><td> 80</td><td>30</td><td>⋯</td><td>0.449</td><td>NA</td><td>185</td><td>6.9</td><td>69.3</td><td>12.9</td><td>10.6</td><td>13611</td><td>1.191176</td><td>12.62647</td></tr>\n",
       "\t<tr><th scope=row>3</th><td>2018</td><td>Mike Trout    </td><td>LAA</td><td>26</td><td>140</td><td>608</td><td>39</td><td>101</td><td> 79</td><td>24</td><td>⋯</td><td>0.447</td><td>NA</td><td>188</td><td>5.0</td><td>69.2</td><td> 2.5</td><td> 9.5</td><td>10155</td><td>1.157143</td><td>10.99286</td></tr>\n",
       "\t<tr><th scope=row>4</th><td>2021</td><td>Byron Buxton  </td><td>MIN</td><td>27</td><td> 61</td><td>254</td><td>19</td><td> 50</td><td> 32</td><td> 9</td><td>⋯</td><td>0.419</td><td>NA</td><td>171</td><td>4.4</td><td>26.5</td><td> 6.2</td><td> 4.1</td><td>14161</td><td>2.655738</td><td>10.88852</td></tr>\n",
       "\t<tr><th scope=row>5</th><td>2022</td><td>Aaron Judge   </td><td>NYY</td><td>30</td><td>128</td><td>564</td><td>51</td><td>104</td><td>113</td><td>15</td><td>⋯</td><td>0.440</td><td>NA</td><td>195</td><td>1.0</td><td>61.3</td><td> 0.2</td><td> 8.3</td><td>15640</td><td>1.265625</td><td>10.50469</td></tr>\n",
       "\t<tr><th scope=row>6</th><td>2019</td><td>Mike Trout    </td><td>LAA</td><td>27</td><td>134</td><td>600</td><td>45</td><td>110</td><td>104</td><td>11</td><td>⋯</td><td>0.436</td><td>NA</td><td>177</td><td>7.1</td><td>65.9</td><td>-1.5</td><td> 8.4</td><td>10155</td><td>1.208955</td><td>10.15522</td></tr>\n",
       "</tbody>\n",
       "</table>\n"
      ],
      "text/latex": [
       "A data.frame: 6 × 27\n",
       "\\begin{tabular}{r|lllllllllllllllllllll}\n",
       "  & Season & Name & Team & Age & G & PA & HR & R & RBI & SB & ⋯ & wOBA & xwOBA & wRC. & BsR & Off & Def & WAR & playerid & factor & WARps\\\\\n",
       "  & <int> & <chr> & <chr> & <int> & <int> & <int> & <int> & <int> & <int> & <int> & ⋯ & <dbl> & <lgl> & <int> & <dbl> & <dbl> & <dbl> & <dbl> & <int> & <dbl> & <dbl>\\\\\n",
       "\\hline\n",
       "\t1 & 2020 & Ke'Bryan Hayes & PIT & 23 &  24 &  95 &  5 &  17 &  11 &  1 & ⋯ & 0.464 & NA & 194 & 0.3 & 11.7 &  3.3 &  1.9 & 18577 & 6.750000 & 12.82500\\\\\n",
       "\t2 & 2018 & Mookie Betts   & BOS & 25 & 136 & 614 & 32 & 129 &  80 & 30 & ⋯ & 0.449 & NA & 185 & 6.9 & 69.3 & 12.9 & 10.6 & 13611 & 1.191176 & 12.62647\\\\\n",
       "\t3 & 2018 & Mike Trout     & LAA & 26 & 140 & 608 & 39 & 101 &  79 & 24 & ⋯ & 0.447 & NA & 188 & 5.0 & 69.2 &  2.5 &  9.5 & 10155 & 1.157143 & 10.99286\\\\\n",
       "\t4 & 2021 & Byron Buxton   & MIN & 27 &  61 & 254 & 19 &  50 &  32 &  9 & ⋯ & 0.419 & NA & 171 & 4.4 & 26.5 &  6.2 &  4.1 & 14161 & 2.655738 & 10.88852\\\\\n",
       "\t5 & 2022 & Aaron Judge    & NYY & 30 & 128 & 564 & 51 & 104 & 113 & 15 & ⋯ & 0.440 & NA & 195 & 1.0 & 61.3 &  0.2 &  8.3 & 15640 & 1.265625 & 10.50469\\\\\n",
       "\t6 & 2019 & Mike Trout     & LAA & 27 & 134 & 600 & 45 & 110 & 104 & 11 & ⋯ & 0.436 & NA & 177 & 7.1 & 65.9 & -1.5 &  8.4 & 10155 & 1.208955 & 10.15522\\\\\n",
       "\\end{tabular}\n"
      ],
      "text/markdown": [
       "\n",
       "A data.frame: 6 × 27\n",
       "\n",
       "| <!--/--> | Season &lt;int&gt; | Name &lt;chr&gt; | Team &lt;chr&gt; | Age &lt;int&gt; | G &lt;int&gt; | PA &lt;int&gt; | HR &lt;int&gt; | R &lt;int&gt; | RBI &lt;int&gt; | SB &lt;int&gt; | ⋯ ⋯ | wOBA &lt;dbl&gt; | xwOBA &lt;lgl&gt; | wRC. &lt;int&gt; | BsR &lt;dbl&gt; | Off &lt;dbl&gt; | Def &lt;dbl&gt; | WAR &lt;dbl&gt; | playerid &lt;int&gt; | factor &lt;dbl&gt; | WARps &lt;dbl&gt; |\n",
       "|---|---|---|---|---|---|---|---|---|---|---|---|---|---|---|---|---|---|---|---|---|---|\n",
       "| 1 | 2020 | Ke'Bryan Hayes | PIT | 23 |  24 |  95 |  5 |  17 |  11 |  1 | ⋯ | 0.464 | NA | 194 | 0.3 | 11.7 |  3.3 |  1.9 | 18577 | 6.750000 | 12.82500 |\n",
       "| 2 | 2018 | Mookie Betts   | BOS | 25 | 136 | 614 | 32 | 129 |  80 | 30 | ⋯ | 0.449 | NA | 185 | 6.9 | 69.3 | 12.9 | 10.6 | 13611 | 1.191176 | 12.62647 |\n",
       "| 3 | 2018 | Mike Trout     | LAA | 26 | 140 | 608 | 39 | 101 |  79 | 24 | ⋯ | 0.447 | NA | 188 | 5.0 | 69.2 |  2.5 |  9.5 | 10155 | 1.157143 | 10.99286 |\n",
       "| 4 | 2021 | Byron Buxton   | MIN | 27 |  61 | 254 | 19 |  50 |  32 |  9 | ⋯ | 0.419 | NA | 171 | 4.4 | 26.5 |  6.2 |  4.1 | 14161 | 2.655738 | 10.88852 |\n",
       "| 5 | 2022 | Aaron Judge    | NYY | 30 | 128 | 564 | 51 | 104 | 113 | 15 | ⋯ | 0.440 | NA | 195 | 1.0 | 61.3 |  0.2 |  8.3 | 15640 | 1.265625 | 10.50469 |\n",
       "| 6 | 2019 | Mike Trout     | LAA | 27 | 134 | 600 | 45 | 110 | 104 | 11 | ⋯ | 0.436 | NA | 177 | 7.1 | 65.9 | -1.5 |  8.4 | 10155 | 1.208955 | 10.15522 |\n",
       "\n"
      ],
      "text/plain": [
       "  Season Name           Team Age G   PA  HR R   RBI SB ⋯ wOBA  xwOBA wRC. BsR\n",
       "1 2020   Ke'Bryan Hayes PIT  23   24  95  5  17  11  1 ⋯ 0.464 NA    194  0.3\n",
       "2 2018   Mookie Betts   BOS  25  136 614 32 129  80 30 ⋯ 0.449 NA    185  6.9\n",
       "3 2018   Mike Trout     LAA  26  140 608 39 101  79 24 ⋯ 0.447 NA    188  5.0\n",
       "4 2021   Byron Buxton   MIN  27   61 254 19  50  32  9 ⋯ 0.419 NA    171  4.4\n",
       "5 2022   Aaron Judge    NYY  30  128 564 51 104 113 15 ⋯ 0.440 NA    195  1.0\n",
       "6 2019   Mike Trout     LAA  27  134 600 45 110 104 11 ⋯ 0.436 NA    177  7.1\n",
       "  Off  Def  WAR  playerid factor   WARps   \n",
       "1 11.7  3.3  1.9 18577    6.750000 12.82500\n",
       "2 69.3 12.9 10.6 13611    1.191176 12.62647\n",
       "3 69.2  2.5  9.5 10155    1.157143 10.99286\n",
       "4 26.5  6.2  4.1 14161    2.655738 10.88852\n",
       "5 61.3  0.2  8.3 15640    1.265625 10.50469\n",
       "6 65.9 -1.5  8.4 10155    1.208955 10.15522"
      ]
     },
     "metadata": {},
     "output_type": "display_data"
    }
   ],
   "source": [
    "perseason <- data %>% mutate(factor = 162/G) %>%\n",
    "mutate(WARps = WAR * factor) %>%\n",
    "arrange(desc(WARps))\n",
    "head(perseason)"
   ]
  },
  {
   "cell_type": "markdown",
   "metadata": {},
   "source": [
    "##### The best season in terms of WAR/162 was Ke'Bryan Hayes in 2020, and the worst season was Chris Davis in 2020"
   ]
  },
  {
   "cell_type": "code",
   "execution_count": null,
   "metadata": {},
   "outputs": [],
   "source": []
  }
 ],
 "metadata": {
  "kernelspec": {
   "display_name": "R",
   "language": "R",
   "name": "ir"
  },
  "language_info": {
   "codemirror_mode": "r",
   "file_extension": ".r",
   "mimetype": "text/x-r-source",
   "name": "R",
   "pygments_lexer": "r",
   "version": "4.1.1"
  }
 },
 "nbformat": 4,
 "nbformat_minor": 4
}
