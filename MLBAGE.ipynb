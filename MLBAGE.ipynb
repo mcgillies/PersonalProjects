{
 "cells": [
  {
   "cell_type": "code",
   "execution_count": 1,
   "metadata": {},
   "outputs": [
    {
     "name": "stderr",
     "output_type": "stream",
     "text": [
      "── \u001b[1mAttaching packages\u001b[22m ─────────────────────────────────────── tidyverse 1.3.1 ──\n",
      "\n",
      "\u001b[32m✔\u001b[39m \u001b[34mggplot2\u001b[39m 3.3.5     \u001b[32m✔\u001b[39m \u001b[34mpurrr  \u001b[39m 0.3.4\n",
      "\u001b[32m✔\u001b[39m \u001b[34mtibble \u001b[39m 3.1.6     \u001b[32m✔\u001b[39m \u001b[34mdplyr  \u001b[39m 1.0.9\n",
      "\u001b[32m✔\u001b[39m \u001b[34mtidyr  \u001b[39m 1.2.0     \u001b[32m✔\u001b[39m \u001b[34mstringr\u001b[39m 1.4.0\n",
      "\u001b[32m✔\u001b[39m \u001b[34mreadr  \u001b[39m 2.0.2     \u001b[32m✔\u001b[39m \u001b[34mforcats\u001b[39m 0.5.1\n",
      "\n",
      "Warning message:\n",
      "“package ‘tidyr’ was built under R version 4.1.2”\n",
      "Warning message:\n",
      "“package ‘dplyr’ was built under R version 4.1.2”\n",
      "── \u001b[1mConflicts\u001b[22m ────────────────────────────────────────── tidyverse_conflicts() ──\n",
      "\u001b[31m✖\u001b[39m \u001b[34mdplyr\u001b[39m::\u001b[32mfilter()\u001b[39m masks \u001b[34mstats\u001b[39m::filter()\n",
      "\u001b[31m✖\u001b[39m \u001b[34mdplyr\u001b[39m::\u001b[32mlag()\u001b[39m    masks \u001b[34mstats\u001b[39m::lag()\n",
      "\n",
      "Warning message:\n",
      "“package ‘repr’ was built under R version 4.1.2”\n",
      "\n",
      "Attaching package: ‘gridExtra’\n",
      "\n",
      "\n",
      "The following object is masked from ‘package:dplyr’:\n",
      "\n",
      "    combine\n",
      "\n",
      "\n",
      "Warning message:\n",
      "“package ‘tidymodels’ was built under R version 4.1.2”\n",
      "── \u001b[1mAttaching packages\u001b[22m ────────────────────────────────────── tidymodels 0.2.0 ──\n",
      "\n",
      "\u001b[32m✔\u001b[39m \u001b[34mbroom       \u001b[39m 0.7.12     \u001b[32m✔\u001b[39m \u001b[34mrsample     \u001b[39m 0.1.1 \n",
      "\u001b[32m✔\u001b[39m \u001b[34mdials       \u001b[39m 0.1.0      \u001b[32m✔\u001b[39m \u001b[34mtune        \u001b[39m 0.2.0 \n",
      "\u001b[32m✔\u001b[39m \u001b[34minfer       \u001b[39m 1.0.0      \u001b[32m✔\u001b[39m \u001b[34mworkflows   \u001b[39m 0.2.6 \n",
      "\u001b[32m✔\u001b[39m \u001b[34mmodeldata   \u001b[39m 0.1.1      \u001b[32m✔\u001b[39m \u001b[34mworkflowsets\u001b[39m 0.2.1 \n",
      "\u001b[32m✔\u001b[39m \u001b[34mparsnip     \u001b[39m 0.2.1      \u001b[32m✔\u001b[39m \u001b[34myardstick   \u001b[39m 0.0.9 \n",
      "\u001b[32m✔\u001b[39m \u001b[34mrecipes     \u001b[39m 0.2.0      \n",
      "\n",
      "Warning message:\n",
      "“package ‘broom’ was built under R version 4.1.2”\n",
      "Warning message:\n",
      "“package ‘dials’ was built under R version 4.1.2”\n",
      "Warning message:\n",
      "“package ‘parsnip’ was built under R version 4.1.2”\n",
      "Warning message:\n",
      "“package ‘recipes’ was built under R version 4.1.2”\n",
      "Warning message:\n",
      "“package ‘tune’ was built under R version 4.1.2”\n",
      "Warning message:\n",
      "“package ‘workflows’ was built under R version 4.1.2”\n",
      "Warning message:\n",
      "“package ‘workflowsets’ was built under R version 4.1.2”\n",
      "── \u001b[1mConflicts\u001b[22m ───────────────────────────────────────── tidymodels_conflicts() ──\n",
      "\u001b[31m✖\u001b[39m \u001b[34mgridExtra\u001b[39m::\u001b[32mcombine()\u001b[39m masks \u001b[34mdplyr\u001b[39m::combine()\n",
      "\u001b[31m✖\u001b[39m \u001b[34mscales\u001b[39m::\u001b[32mdiscard()\u001b[39m    masks \u001b[34mpurrr\u001b[39m::discard()\n",
      "\u001b[31m✖\u001b[39m \u001b[34mdplyr\u001b[39m::\u001b[32mfilter()\u001b[39m      masks \u001b[34mstats\u001b[39m::filter()\n",
      "\u001b[31m✖\u001b[39m \u001b[34mrecipes\u001b[39m::\u001b[32mfixed()\u001b[39m     masks \u001b[34mstringr\u001b[39m::fixed()\n",
      "\u001b[31m✖\u001b[39m \u001b[34mdplyr\u001b[39m::\u001b[32mlag()\u001b[39m         masks \u001b[34mstats\u001b[39m::lag()\n",
      "\u001b[31m✖\u001b[39m \u001b[34myardstick\u001b[39m::\u001b[32mspec()\u001b[39m    masks \u001b[34mreadr\u001b[39m::spec()\n",
      "\u001b[31m✖\u001b[39m \u001b[34mrecipes\u001b[39m::\u001b[32mstep()\u001b[39m      masks \u001b[34mstats\u001b[39m::step()\n",
      "\u001b[34m•\u001b[39m Dig deeper into tidy modeling with R at \u001b[32mhttps://www.tmwr.org\u001b[39m\n",
      "\n",
      "Registered S3 method overwritten by 'GGally':\n",
      "  method from   \n",
      "  +.gg   ggplot2\n",
      "\n"
     ]
    }
   ],
   "source": [
    "library(tidyverse)\n",
    "library(repr)\n",
    "library(digest)\n",
    "library(gridExtra)\n",
    "library(cowplot)\n",
    "library(dplyr)\n",
    "library(tidymodels)\n",
    "library(GGally)"
   ]
  },
  {
   "cell_type": "markdown",
   "metadata": {},
   "source": [
    "## Study of the effects of age on various statistics for position players in the last 12 years"
   ]
  },
  {
   "cell_type": "code",
   "execution_count": 40,
   "metadata": {},
   "outputs": [
    {
     "data": {
      "text/html": [
       "<table class=\"dataframe\">\n",
       "<caption>A data.frame: 6 × 25</caption>\n",
       "<thead>\n",
       "\t<tr><th></th><th scope=col>Season</th><th scope=col>Name</th><th scope=col>Team</th><th scope=col>Age</th><th scope=col>G</th><th scope=col>PA</th><th scope=col>HR</th><th scope=col>R</th><th scope=col>RBI</th><th scope=col>SB</th><th scope=col>⋯</th><th scope=col>OBP</th><th scope=col>SLG</th><th scope=col>wOBA</th><th scope=col>xwOBA</th><th scope=col>wRC.</th><th scope=col>BsR</th><th scope=col>Off</th><th scope=col>Def</th><th scope=col>WAR</th><th scope=col>playerid</th></tr>\n",
       "\t<tr><th></th><th scope=col>&lt;int&gt;</th><th scope=col>&lt;chr&gt;</th><th scope=col>&lt;chr&gt;</th><th scope=col>&lt;int&gt;</th><th scope=col>&lt;int&gt;</th><th scope=col>&lt;int&gt;</th><th scope=col>&lt;int&gt;</th><th scope=col>&lt;int&gt;</th><th scope=col>&lt;int&gt;</th><th scope=col>&lt;int&gt;</th><th scope=col>⋯</th><th scope=col>&lt;dbl&gt;</th><th scope=col>&lt;dbl&gt;</th><th scope=col>&lt;dbl&gt;</th><th scope=col>&lt;lgl&gt;</th><th scope=col>&lt;int&gt;</th><th scope=col>&lt;dbl&gt;</th><th scope=col>&lt;dbl&gt;</th><th scope=col>&lt;dbl&gt;</th><th scope=col>&lt;dbl&gt;</th><th scope=col>&lt;int&gt;</th></tr>\n",
       "</thead>\n",
       "<tbody>\n",
       "\t<tr><th scope=row>1</th><td>2020</td><td>Juan Soto      </td><td>WSN</td><td>21</td><td> 47</td><td>196</td><td>13</td><td> 39</td><td> 37</td><td> 6</td><td>⋯</td><td>0.490</td><td>0.695</td><td>0.478</td><td>NA</td><td>202</td><td>-0.5</td><td>25.0</td><td> -3.9</td><td> 2.6</td><td>20123</td></tr>\n",
       "\t<tr><th scope=row>2</th><td>2015</td><td>Bryce Harper   </td><td>WSN</td><td>22</td><td>153</td><td>654</td><td>42</td><td>118</td><td> 99</td><td> 6</td><td>⋯</td><td>0.460</td><td>0.649</td><td>0.461</td><td>NA</td><td>197</td><td> 3.6</td><td>77.7</td><td>-10.2</td><td> 9.3</td><td>11579</td></tr>\n",
       "\t<tr><th scope=row>3</th><td>2020</td><td>Freddie Freeman</td><td>ATL</td><td>30</td><td> 60</td><td>262</td><td>13</td><td> 51</td><td> 53</td><td> 2</td><td>⋯</td><td>0.462</td><td>0.640</td><td>0.456</td><td>NA</td><td>186</td><td>-0.3</td><td>28.4</td><td> -3.0</td><td> 3.2</td><td> 5361</td></tr>\n",
       "\t<tr><th scope=row>4</th><td>2013</td><td>Miguel Cabrera </td><td>DET</td><td>30</td><td>148</td><td>652</td><td>44</td><td>103</td><td>137</td><td> 3</td><td>⋯</td><td>0.442</td><td>0.636</td><td>0.455</td><td>NA</td><td>193</td><td>-6.0</td><td>62.6</td><td> -4.0</td><td> 8.6</td><td> 1744</td></tr>\n",
       "\t<tr><th scope=row>5</th><td>2018</td><td>Mookie Betts   </td><td>BOS</td><td>25</td><td>136</td><td>614</td><td>32</td><td>129</td><td> 80</td><td>30</td><td>⋯</td><td>0.438</td><td>0.640</td><td>0.449</td><td>NA</td><td>185</td><td> 6.9</td><td>69.3</td><td> 12.9</td><td>10.6</td><td>13611</td></tr>\n",
       "\t<tr><th scope=row>6</th><td>2018</td><td>Mike Trout     </td><td>LAA</td><td>26</td><td>140</td><td>608</td><td>39</td><td>101</td><td> 79</td><td>24</td><td>⋯</td><td>0.460</td><td>0.628</td><td>0.447</td><td>NA</td><td>188</td><td> 5.0</td><td>69.2</td><td>  2.5</td><td> 9.5</td><td>10155</td></tr>\n",
       "</tbody>\n",
       "</table>\n"
      ],
      "text/latex": [
       "A data.frame: 6 × 25\n",
       "\\begin{tabular}{r|lllllllllllllllllllll}\n",
       "  & Season & Name & Team & Age & G & PA & HR & R & RBI & SB & ⋯ & OBP & SLG & wOBA & xwOBA & wRC. & BsR & Off & Def & WAR & playerid\\\\\n",
       "  & <int> & <chr> & <chr> & <int> & <int> & <int> & <int> & <int> & <int> & <int> & ⋯ & <dbl> & <dbl> & <dbl> & <lgl> & <int> & <dbl> & <dbl> & <dbl> & <dbl> & <int>\\\\\n",
       "\\hline\n",
       "\t1 & 2020 & Juan Soto       & WSN & 21 &  47 & 196 & 13 &  39 &  37 &  6 & ⋯ & 0.490 & 0.695 & 0.478 & NA & 202 & -0.5 & 25.0 &  -3.9 &  2.6 & 20123\\\\\n",
       "\t2 & 2015 & Bryce Harper    & WSN & 22 & 153 & 654 & 42 & 118 &  99 &  6 & ⋯ & 0.460 & 0.649 & 0.461 & NA & 197 &  3.6 & 77.7 & -10.2 &  9.3 & 11579\\\\\n",
       "\t3 & 2020 & Freddie Freeman & ATL & 30 &  60 & 262 & 13 &  51 &  53 &  2 & ⋯ & 0.462 & 0.640 & 0.456 & NA & 186 & -0.3 & 28.4 &  -3.0 &  3.2 &  5361\\\\\n",
       "\t4 & 2013 & Miguel Cabrera  & DET & 30 & 148 & 652 & 44 & 103 & 137 &  3 & ⋯ & 0.442 & 0.636 & 0.455 & NA & 193 & -6.0 & 62.6 &  -4.0 &  8.6 &  1744\\\\\n",
       "\t5 & 2018 & Mookie Betts    & BOS & 25 & 136 & 614 & 32 & 129 &  80 & 30 & ⋯ & 0.438 & 0.640 & 0.449 & NA & 185 &  6.9 & 69.3 &  12.9 & 10.6 & 13611\\\\\n",
       "\t6 & 2018 & Mike Trout      & LAA & 26 & 140 & 608 & 39 & 101 &  79 & 24 & ⋯ & 0.460 & 0.628 & 0.447 & NA & 188 &  5.0 & 69.2 &   2.5 &  9.5 & 10155\\\\\n",
       "\\end{tabular}\n"
      ],
      "text/markdown": [
       "\n",
       "A data.frame: 6 × 25\n",
       "\n",
       "| <!--/--> | Season &lt;int&gt; | Name &lt;chr&gt; | Team &lt;chr&gt; | Age &lt;int&gt; | G &lt;int&gt; | PA &lt;int&gt; | HR &lt;int&gt; | R &lt;int&gt; | RBI &lt;int&gt; | SB &lt;int&gt; | ⋯ ⋯ | OBP &lt;dbl&gt; | SLG &lt;dbl&gt; | wOBA &lt;dbl&gt; | xwOBA &lt;lgl&gt; | wRC. &lt;int&gt; | BsR &lt;dbl&gt; | Off &lt;dbl&gt; | Def &lt;dbl&gt; | WAR &lt;dbl&gt; | playerid &lt;int&gt; |\n",
       "|---|---|---|---|---|---|---|---|---|---|---|---|---|---|---|---|---|---|---|---|---|---|\n",
       "| 1 | 2020 | Juan Soto       | WSN | 21 |  47 | 196 | 13 |  39 |  37 |  6 | ⋯ | 0.490 | 0.695 | 0.478 | NA | 202 | -0.5 | 25.0 |  -3.9 |  2.6 | 20123 |\n",
       "| 2 | 2015 | Bryce Harper    | WSN | 22 | 153 | 654 | 42 | 118 |  99 |  6 | ⋯ | 0.460 | 0.649 | 0.461 | NA | 197 |  3.6 | 77.7 | -10.2 |  9.3 | 11579 |\n",
       "| 3 | 2020 | Freddie Freeman | ATL | 30 |  60 | 262 | 13 |  51 |  53 |  2 | ⋯ | 0.462 | 0.640 | 0.456 | NA | 186 | -0.3 | 28.4 |  -3.0 |  3.2 |  5361 |\n",
       "| 4 | 2013 | Miguel Cabrera  | DET | 30 | 148 | 652 | 44 | 103 | 137 |  3 | ⋯ | 0.442 | 0.636 | 0.455 | NA | 193 | -6.0 | 62.6 |  -4.0 |  8.6 |  1744 |\n",
       "| 5 | 2018 | Mookie Betts    | BOS | 25 | 136 | 614 | 32 | 129 |  80 | 30 | ⋯ | 0.438 | 0.640 | 0.449 | NA | 185 |  6.9 | 69.3 |  12.9 | 10.6 | 13611 |\n",
       "| 6 | 2018 | Mike Trout      | LAA | 26 | 140 | 608 | 39 | 101 |  79 | 24 | ⋯ | 0.460 | 0.628 | 0.447 | NA | 188 |  5.0 | 69.2 |   2.5 |  9.5 | 10155 |\n",
       "\n"
      ],
      "text/plain": [
       "  Season Name            Team Age G   PA  HR R   RBI SB ⋯ OBP   SLG   wOBA \n",
       "1 2020   Juan Soto       WSN  21   47 196 13  39  37  6 ⋯ 0.490 0.695 0.478\n",
       "2 2015   Bryce Harper    WSN  22  153 654 42 118  99  6 ⋯ 0.460 0.649 0.461\n",
       "3 2020   Freddie Freeman ATL  30   60 262 13  51  53  2 ⋯ 0.462 0.640 0.456\n",
       "4 2013   Miguel Cabrera  DET  30  148 652 44 103 137  3 ⋯ 0.442 0.636 0.455\n",
       "5 2018   Mookie Betts    BOS  25  136 614 32 129  80 30 ⋯ 0.438 0.640 0.449\n",
       "6 2018   Mike Trout      LAA  26  140 608 39 101  79 24 ⋯ 0.460 0.628 0.447\n",
       "  xwOBA wRC. BsR  Off  Def   WAR  playerid\n",
       "1 NA    202  -0.5 25.0  -3.9  2.6 20123   \n",
       "2 NA    197   3.6 77.7 -10.2  9.3 11579   \n",
       "3 NA    186  -0.3 28.4  -3.0  3.2  5361   \n",
       "4 NA    193  -6.0 62.6  -4.0  8.6  1744   \n",
       "5 NA    185   6.9 69.3  12.9 10.6 13611   \n",
       "6 NA    188   5.0 69.2   2.5  9.5 10155   "
      ]
     },
     "metadata": {},
     "output_type": "display_data"
    }
   ],
   "source": [
    "data <- read.csv(\"downloads/FanGraphs Leaderboard (5).csv\") \n",
    "head(data)"
   ]
  },
  {
   "cell_type": "code",
   "execution_count": 6,
   "metadata": {},
   "outputs": [
    {
     "data": {
      "text/html": [
       "<style>\n",
       ".list-inline {list-style: none; margin:0; padding: 0}\n",
       ".list-inline>li {display: inline-block}\n",
       ".list-inline>li:not(:last-child)::after {content: \"\\00b7\"; padding: 0 .5ex}\n",
       "</style>\n",
       "<ol class=list-inline><li>'Season'</li><li>'Name'</li><li>'Team'</li><li>'Age'</li><li>'G'</li><li>'PA'</li><li>'HR'</li><li>'R'</li><li>'RBI'</li><li>'SB'</li><li>'BB.'</li><li>'K.'</li><li>'ISO'</li><li>'BABIP'</li><li>'AVG'</li><li>'OBP'</li><li>'SLG'</li><li>'wOBA'</li><li>'xwOBA'</li><li>'wRC.'</li><li>'BsR'</li><li>'Off'</li><li>'Def'</li><li>'WAR'</li><li>'playerid'</li></ol>\n"
      ],
      "text/latex": [
       "\\begin{enumerate*}\n",
       "\\item 'Season'\n",
       "\\item 'Name'\n",
       "\\item 'Team'\n",
       "\\item 'Age'\n",
       "\\item 'G'\n",
       "\\item 'PA'\n",
       "\\item 'HR'\n",
       "\\item 'R'\n",
       "\\item 'RBI'\n",
       "\\item 'SB'\n",
       "\\item 'BB.'\n",
       "\\item 'K.'\n",
       "\\item 'ISO'\n",
       "\\item 'BABIP'\n",
       "\\item 'AVG'\n",
       "\\item 'OBP'\n",
       "\\item 'SLG'\n",
       "\\item 'wOBA'\n",
       "\\item 'xwOBA'\n",
       "\\item 'wRC.'\n",
       "\\item 'BsR'\n",
       "\\item 'Off'\n",
       "\\item 'Def'\n",
       "\\item 'WAR'\n",
       "\\item 'playerid'\n",
       "\\end{enumerate*}\n"
      ],
      "text/markdown": [
       "1. 'Season'\n",
       "2. 'Name'\n",
       "3. 'Team'\n",
       "4. 'Age'\n",
       "5. 'G'\n",
       "6. 'PA'\n",
       "7. 'HR'\n",
       "8. 'R'\n",
       "9. 'RBI'\n",
       "10. 'SB'\n",
       "11. 'BB.'\n",
       "12. 'K.'\n",
       "13. 'ISO'\n",
       "14. 'BABIP'\n",
       "15. 'AVG'\n",
       "16. 'OBP'\n",
       "17. 'SLG'\n",
       "18. 'wOBA'\n",
       "19. 'xwOBA'\n",
       "20. 'wRC.'\n",
       "21. 'BsR'\n",
       "22. 'Off'\n",
       "23. 'Def'\n",
       "24. 'WAR'\n",
       "25. 'playerid'\n",
       "\n",
       "\n"
      ],
      "text/plain": [
       " [1] \"Season\"   \"Name\"     \"Team\"     \"Age\"      \"G\"        \"PA\"      \n",
       " [7] \"HR\"       \"R\"        \"RBI\"      \"SB\"       \"BB.\"      \"K.\"      \n",
       "[13] \"ISO\"      \"BABIP\"    \"AVG\"      \"OBP\"      \"SLG\"      \"wOBA\"    \n",
       "[19] \"xwOBA\"    \"wRC.\"     \"BsR\"      \"Off\"      \"Def\"      \"WAR\"     \n",
       "[25] \"playerid\""
      ]
     },
     "metadata": {},
     "output_type": "display_data"
    }
   ],
   "source": [
    "colnames(data)"
   ]
  },
  {
   "cell_type": "code",
   "execution_count": 26,
   "metadata": {},
   "outputs": [
    {
     "data": {
      "text/html": [
       "1"
      ],
      "text/latex": [
       "1"
      ],
      "text/markdown": [
       "1"
      ],
      "text/plain": [
       "[1] 1"
      ]
     },
     "metadata": {},
     "output_type": "display_data"
    },
    {
     "data": {
      "text/html": [
       "6"
      ],
      "text/latex": [
       "6"
      ],
      "text/markdown": [
       "6"
      ],
      "text/plain": [
       "[1] 6"
      ]
     },
     "metadata": {},
     "output_type": "display_data"
    },
    {
     "data": {
      "text/html": [
       "17"
      ],
      "text/latex": [
       "17"
      ],
      "text/markdown": [
       "17"
      ],
      "text/plain": [
       "[1] 17"
      ]
     },
     "metadata": {},
     "output_type": "display_data"
    },
    {
     "data": {
      "text/html": [
       "40"
      ],
      "text/latex": [
       "40"
      ],
      "text/markdown": [
       "40"
      ],
      "text/plain": [
       "[1] 40"
      ]
     },
     "metadata": {},
     "output_type": "display_data"
    },
    {
     "data": {
      "text/html": [
       "74"
      ],
      "text/latex": [
       "74"
      ],
      "text/markdown": [
       "74"
      ],
      "text/plain": [
       "[1] 74"
      ]
     },
     "metadata": {},
     "output_type": "display_data"
    },
    {
     "data": {
      "text/html": [
       "107"
      ],
      "text/latex": [
       "107"
      ],
      "text/markdown": [
       "107"
      ],
      "text/plain": [
       "[1] 107"
      ]
     },
     "metadata": {},
     "output_type": "display_data"
    },
    {
     "data": {
      "text/html": [
       "162"
      ],
      "text/latex": [
       "162"
      ],
      "text/markdown": [
       "162"
      ],
      "text/plain": [
       "[1] 162"
      ]
     },
     "metadata": {},
     "output_type": "display_data"
    },
    {
     "data": {
      "text/html": [
       "187"
      ],
      "text/latex": [
       "187"
      ],
      "text/markdown": [
       "187"
      ],
      "text/plain": [
       "[1] 187"
      ]
     },
     "metadata": {},
     "output_type": "display_data"
    },
    {
     "data": {
      "text/html": [
       "202"
      ],
      "text/latex": [
       "202"
      ],
      "text/markdown": [
       "202"
      ],
      "text/plain": [
       "[1] 202"
      ]
     },
     "metadata": {},
     "output_type": "display_data"
    },
    {
     "data": {
      "text/html": [
       "181"
      ],
      "text/latex": [
       "181"
      ],
      "text/markdown": [
       "181"
      ],
      "text/plain": [
       "[1] 181"
      ]
     },
     "metadata": {},
     "output_type": "display_data"
    },
    {
     "data": {
      "text/html": [
       "185"
      ],
      "text/latex": [
       "185"
      ],
      "text/markdown": [
       "185"
      ],
      "text/plain": [
       "[1] 185"
      ]
     },
     "metadata": {},
     "output_type": "display_data"
    },
    {
     "data": {
      "text/html": [
       "168"
      ],
      "text/latex": [
       "168"
      ],
      "text/markdown": [
       "168"
      ],
      "text/plain": [
       "[1] 168"
      ]
     },
     "metadata": {},
     "output_type": "display_data"
    },
    {
     "data": {
      "text/html": [
       "132"
      ],
      "text/latex": [
       "132"
      ],
      "text/markdown": [
       "132"
      ],
      "text/plain": [
       "[1] 132"
      ]
     },
     "metadata": {},
     "output_type": "display_data"
    },
    {
     "data": {
      "text/html": [
       "111"
      ],
      "text/latex": [
       "111"
      ],
      "text/markdown": [
       "111"
      ],
      "text/plain": [
       "[1] 111"
      ]
     },
     "metadata": {},
     "output_type": "display_data"
    },
    {
     "data": {
      "text/html": [
       "76"
      ],
      "text/latex": [
       "76"
      ],
      "text/markdown": [
       "76"
      ],
      "text/plain": [
       "[1] 76"
      ]
     },
     "metadata": {},
     "output_type": "display_data"
    },
    {
     "data": {
      "text/html": [
       "73"
      ],
      "text/latex": [
       "73"
      ],
      "text/markdown": [
       "73"
      ],
      "text/plain": [
       "[1] 73"
      ]
     },
     "metadata": {},
     "output_type": "display_data"
    },
    {
     "data": {
      "text/html": [
       "41"
      ],
      "text/latex": [
       "41"
      ],
      "text/markdown": [
       "41"
      ],
      "text/plain": [
       "[1] 41"
      ]
     },
     "metadata": {},
     "output_type": "display_data"
    },
    {
     "data": {
      "text/html": [
       "33"
      ],
      "text/latex": [
       "33"
      ],
      "text/markdown": [
       "33"
      ],
      "text/plain": [
       "[1] 33"
      ]
     },
     "metadata": {},
     "output_type": "display_data"
    },
    {
     "data": {
      "text/html": [
       "25"
      ],
      "text/latex": [
       "25"
      ],
      "text/markdown": [
       "25"
      ],
      "text/plain": [
       "[1] 25"
      ]
     },
     "metadata": {},
     "output_type": "display_data"
    },
    {
     "data": {
      "text/html": [
       "10"
      ],
      "text/latex": [
       "10"
      ],
      "text/markdown": [
       "10"
      ],
      "text/plain": [
       "[1] 10"
      ]
     },
     "metadata": {},
     "output_type": "display_data"
    },
    {
     "data": {
      "text/html": [
       "10"
      ],
      "text/latex": [
       "10"
      ],
      "text/markdown": [
       "10"
      ],
      "text/plain": [
       "[1] 10"
      ]
     },
     "metadata": {},
     "output_type": "display_data"
    },
    {
     "data": {
      "text/html": [
       "4"
      ],
      "text/latex": [
       "4"
      ],
      "text/markdown": [
       "4"
      ],
      "text/plain": [
       "[1] 4"
      ]
     },
     "metadata": {},
     "output_type": "display_data"
    },
    {
     "data": {
      "text/html": [
       "1"
      ],
      "text/latex": [
       "1"
      ],
      "text/markdown": [
       "1"
      ],
      "text/plain": [
       "[1] 1"
      ]
     },
     "metadata": {},
     "output_type": "display_data"
    }
   ],
   "source": [
    "length(which(data$Age == 19))\n",
    "length(which(data$Age == 20))\n",
    "length(which(data$Age == 21))\n",
    "length(which(data$Age == 22))\n",
    "length(which(data$Age == 23))\n",
    "length(which(data$Age == 24))\n",
    "length(which(data$Age == 25))\n",
    "length(which(data$Age == 26))\n",
    "length(which(data$Age == 27))\n",
    "length(which(data$Age == 28))\n",
    "length(which(data$Age == 29))\n",
    "length(which(data$Age == 30))\n",
    "length(which(data$Age == 31))\n",
    "length(which(data$Age == 32))\n",
    "length(which(data$Age == 33))\n",
    "length(which(data$Age == 34))\n",
    "length(which(data$Age == 35))\n",
    "length(which(data$Age == 36))\n",
    "length(which(data$Age == 37))\n",
    "length(which(data$Age == 38))\n",
    "length(which(data$Age == 39))\n",
    "length(which(data$Age == 40))\n",
    "length(which(data$Age == 41))\n",
    "\n",
    "## VERY small sample size from 19-21 and from 38-41.. these results do not contain much significance"
   ]
  },
  {
   "cell_type": "code",
   "execution_count": 24,
   "metadata": {},
   "outputs": [
    {
     "data": {
      "text/html": [
       "<table class=\"dataframe\">\n",
       "<caption>A grouped_df: 1846 × 25</caption>\n",
       "<thead>\n",
       "\t<tr><th scope=col>Season</th><th scope=col>Name</th><th scope=col>Team</th><th scope=col>Age</th><th scope=col>G</th><th scope=col>PA</th><th scope=col>HR</th><th scope=col>R</th><th scope=col>RBI</th><th scope=col>SB</th><th scope=col>⋯</th><th scope=col>OBP</th><th scope=col>SLG</th><th scope=col>wOBA</th><th scope=col>xwOBA</th><th scope=col>wRC.</th><th scope=col>BsR</th><th scope=col>Off</th><th scope=col>Def</th><th scope=col>WAR</th><th scope=col>playerid</th></tr>\n",
       "\t<tr><th scope=col>&lt;int&gt;</th><th scope=col>&lt;chr&gt;</th><th scope=col>&lt;chr&gt;</th><th scope=col>&lt;int&gt;</th><th scope=col>&lt;int&gt;</th><th scope=col>&lt;int&gt;</th><th scope=col>&lt;int&gt;</th><th scope=col>&lt;int&gt;</th><th scope=col>&lt;int&gt;</th><th scope=col>&lt;int&gt;</th><th scope=col>⋯</th><th scope=col>&lt;dbl&gt;</th><th scope=col>&lt;dbl&gt;</th><th scope=col>&lt;dbl&gt;</th><th scope=col>&lt;lgl&gt;</th><th scope=col>&lt;int&gt;</th><th scope=col>&lt;dbl&gt;</th><th scope=col>&lt;dbl&gt;</th><th scope=col>&lt;dbl&gt;</th><th scope=col>&lt;dbl&gt;</th><th scope=col>&lt;int&gt;</th></tr>\n",
       "</thead>\n",
       "<tbody>\n",
       "\t<tr><td>2020</td><td>Juan Soto       </td><td>WSN</td><td>21</td><td> 47</td><td>196</td><td>13</td><td> 39</td><td> 37</td><td> 6</td><td>⋯</td><td>0.490</td><td>0.695</td><td>0.478</td><td>NA</td><td>202</td><td>-0.5</td><td>25.0</td><td> -3.9</td><td> 2.6</td><td>20123</td></tr>\n",
       "\t<tr><td>2015</td><td>Bryce Harper    </td><td>WSN</td><td>22</td><td>153</td><td>654</td><td>42</td><td>118</td><td> 99</td><td> 6</td><td>⋯</td><td>0.460</td><td>0.649</td><td>0.461</td><td>NA</td><td>197</td><td> 3.6</td><td>77.7</td><td>-10.2</td><td> 9.3</td><td>11579</td></tr>\n",
       "\t<tr><td>2020</td><td>Freddie Freeman </td><td>ATL</td><td>30</td><td> 60</td><td>262</td><td>13</td><td> 51</td><td> 53</td><td> 2</td><td>⋯</td><td>0.462</td><td>0.640</td><td>0.456</td><td>NA</td><td>186</td><td>-0.3</td><td>28.4</td><td> -3.0</td><td> 3.2</td><td> 5361</td></tr>\n",
       "\t<tr><td>2013</td><td>Miguel Cabrera  </td><td>DET</td><td>30</td><td>148</td><td>652</td><td>44</td><td>103</td><td>137</td><td> 3</td><td>⋯</td><td>0.442</td><td>0.636</td><td>0.455</td><td>NA</td><td>193</td><td>-6.0</td><td>62.6</td><td> -4.0</td><td> 8.6</td><td> 1744</td></tr>\n",
       "\t<tr><td>2018</td><td>Mookie Betts    </td><td>BOS</td><td>25</td><td>136</td><td>614</td><td>32</td><td>129</td><td> 80</td><td>30</td><td>⋯</td><td>0.438</td><td>0.640</td><td>0.449</td><td>NA</td><td>185</td><td> 6.9</td><td>69.3</td><td> 12.9</td><td>10.6</td><td>13611</td></tr>\n",
       "\t<tr><td>2018</td><td>Mike Trout      </td><td>LAA</td><td>26</td><td>140</td><td>608</td><td>39</td><td>101</td><td> 79</td><td>24</td><td>⋯</td><td>0.460</td><td>0.628</td><td>0.447</td><td>NA</td><td>188</td><td> 5.0</td><td>69.2</td><td>  2.5</td><td> 9.5</td><td>10155</td></tr>\n",
       "\t<tr><td>2010</td><td>Josh Hamilton   </td><td>TEX</td><td>29</td><td>133</td><td>571</td><td>32</td><td> 95</td><td>100</td><td> 8</td><td>⋯</td><td>0.411</td><td>0.633</td><td>0.445</td><td>NA</td><td>175</td><td> 4.9</td><td>55.3</td><td>  5.9</td><td> 8.4</td><td> 1875</td></tr>\n",
       "\t<tr><td>2020</td><td>Marcell Ozuna   </td><td>ATL</td><td>29</td><td> 60</td><td>267</td><td>18</td><td> 38</td><td> 56</td><td> 0</td><td>⋯</td><td>0.431</td><td>0.636</td><td>0.444</td><td>NA</td><td>178</td><td>-0.2</td><td>26.4</td><td> -8.1</td><td> 2.5</td><td>10324</td></tr>\n",
       "\t<tr><td>2011</td><td>Jose Bautista   </td><td>TOR</td><td>30</td><td>149</td><td>655</td><td>43</td><td>105</td><td>103</td><td> 9</td><td>⋯</td><td>0.447</td><td>0.608</td><td>0.443</td><td>NA</td><td>180</td><td> 4.9</td><td>66.3</td><td>-11.1</td><td> 8.1</td><td> 1887</td></tr>\n",
       "\t<tr><td>2019</td><td>Christian Yelich</td><td>MIL</td><td>27</td><td>130</td><td>580</td><td>44</td><td>100</td><td> 97</td><td>30</td><td>⋯</td><td>0.429</td><td>0.671</td><td>0.442</td><td>NA</td><td>174</td><td> 8.5</td><td>65.2</td><td> -9.6</td><td> 7.2</td><td>11477</td></tr>\n",
       "\t<tr><td>2022</td><td>Aaron Judge     </td><td>NYY</td><td>30</td><td>128</td><td>564</td><td>51</td><td>104</td><td>113</td><td>15</td><td>⋯</td><td>0.398</td><td>0.661</td><td>0.440</td><td>NA</td><td>195</td><td> 1.0</td><td>61.3</td><td>  0.2</td><td> 8.3</td><td>15640</td></tr>\n",
       "\t<tr><td>2022</td><td>Paul Goldschmidt</td><td>STL</td><td>34</td><td>125</td><td>547</td><td>33</td><td> 95</td><td>105</td><td> 5</td><td>⋯</td><td>0.417</td><td>0.613</td><td>0.438</td><td>NA</td><td>189</td><td> 2.4</td><td>59.2</td><td>-14.0</td><td> 6.7</td><td> 9218</td></tr>\n",
       "\t<tr><td>2010</td><td>Joey Votto      </td><td>CIN</td><td>26</td><td>150</td><td>648</td><td>37</td><td>106</td><td>113</td><td>16</td><td>⋯</td><td>0.424</td><td>0.600</td><td>0.438</td><td>NA</td><td>172</td><td> 1.1</td><td>57.0</td><td>-10.1</td><td> 6.9</td><td> 4314</td></tr>\n",
       "\t<tr><td>2011</td><td>Miguel Cabrera  </td><td>DET</td><td>28</td><td>161</td><td>688</td><td>30</td><td>111</td><td>105</td><td> 2</td><td>⋯</td><td>0.448</td><td>0.586</td><td>0.437</td><td>NA</td><td>177</td><td>-5.5</td><td>56.1</td><td>-16.8</td><td> 6.6</td><td> 1744</td></tr>\n",
       "\t<tr><td>2017</td><td>Mike Trout      </td><td>LAA</td><td>25</td><td>114</td><td>507</td><td>33</td><td> 92</td><td> 72</td><td>22</td><td>⋯</td><td>0.442</td><td>0.629</td><td>0.437</td><td>NA</td><td>180</td><td> 4.0</td><td>54.4</td><td> -7.2</td><td> 6.4</td><td>10155</td></tr>\n",
       "\t<tr><td>2019</td><td>Mike Trout      </td><td>LAA</td><td>27</td><td>134</td><td>600</td><td>45</td><td>110</td><td>104</td><td>11</td><td>⋯</td><td>0.438</td><td>0.645</td><td>0.436</td><td>NA</td><td>177</td><td> 7.1</td><td>65.9</td><td> -1.5</td><td> 8.4</td><td>10155</td></tr>\n",
       "\t<tr><td>2010</td><td>Miguel Cabrera  </td><td>DET</td><td>27</td><td>150</td><td>648</td><td>38</td><td>111</td><td>126</td><td> 3</td><td>⋯</td><td>0.420</td><td>0.622</td><td>0.431</td><td>NA</td><td>171</td><td>-1.9</td><td>52.0</td><td>-16.4</td><td> 6.1</td><td> 1744</td></tr>\n",
       "\t<tr><td>2021</td><td>Bryce Harper    </td><td>PHI</td><td>28</td><td>141</td><td>599</td><td>35</td><td>101</td><td> 84</td><td>13</td><td>⋯</td><td>0.429</td><td>0.615</td><td>0.431</td><td>NA</td><td>171</td><td>-2.5</td><td>51.4</td><td> -5.5</td><td> 6.6</td><td>11579</td></tr>\n",
       "\t<tr><td>2017</td><td>Aaron Judge     </td><td>NYY</td><td>25</td><td>155</td><td>678</td><td>52</td><td>128</td><td>114</td><td> 9</td><td>⋯</td><td>0.422</td><td>0.627</td><td>0.430</td><td>NA</td><td>174</td><td> 0.0</td><td>61.8</td><td>  4.3</td><td> 8.8</td><td>15640</td></tr>\n",
       "\t<tr><td>2020</td><td>DJ LeMahieu     </td><td>NYY</td><td>31</td><td> 50</td><td>216</td><td>10</td><td> 41</td><td> 27</td><td> 3</td><td>⋯</td><td>0.421</td><td>0.590</td><td>0.429</td><td>NA</td><td>177</td><td> 0.7</td><td>21.3</td><td> -2.7</td><td> 2.4</td><td> 9874</td></tr>\n",
       "\t<tr><td>2017</td><td>Joey Votto      </td><td>CIN</td><td>33</td><td>162</td><td>707</td><td>36</td><td>106</td><td>100</td><td> 5</td><td>⋯</td><td>0.454</td><td>0.578</td><td>0.428</td><td>NA</td><td>163</td><td>-9.6</td><td>47.7</td><td>-10.7</td><td> 6.1</td><td> 4314</td></tr>\n",
       "\t<tr><td>2018</td><td>J.D. Martinez   </td><td>BOS</td><td>30</td><td>150</td><td>649</td><td>43</td><td>111</td><td>130</td><td> 6</td><td>⋯</td><td>0.402</td><td>0.629</td><td>0.427</td><td>NA</td><td>170</td><td>-4.1</td><td>50.5</td><td>-17.7</td><td> 5.6</td><td> 6184</td></tr>\n",
       "\t<tr><td>2015</td><td>Joey Votto      </td><td>CIN</td><td>31</td><td>158</td><td>695</td><td>29</td><td> 95</td><td> 80</td><td>11</td><td>⋯</td><td>0.459</td><td>0.541</td><td>0.427</td><td>NA</td><td>174</td><td>-1.1</td><td>58.7</td><td>-11.8</td><td> 7.3</td><td> 4314</td></tr>\n",
       "\t<tr><td>2011</td><td>Ryan Braun      </td><td>MIL</td><td>27</td><td>150</td><td>629</td><td>33</td><td>109</td><td>111</td><td>33</td><td>⋯</td><td>0.397</td><td>0.597</td><td>0.426</td><td>NA</td><td>171</td><td> 6.3</td><td>58.2</td><td>-10.5</td><td> 7.1</td><td> 3410</td></tr>\n",
       "\t<tr><td>2013</td><td>Mike Trout      </td><td>LAA</td><td>21</td><td>157</td><td>716</td><td>27</td><td>109</td><td> 97</td><td>33</td><td>⋯</td><td>0.432</td><td>0.557</td><td>0.423</td><td>NA</td><td>176</td><td> 8.2</td><td>70.5</td><td>  0.5</td><td>10.2</td><td>10155</td></tr>\n",
       "\t<tr><td>2018</td><td>Christian Yelich</td><td>MIL</td><td>26</td><td>147</td><td>651</td><td>36</td><td>118</td><td>110</td><td>22</td><td>⋯</td><td>0.402</td><td>0.598</td><td>0.422</td><td>NA</td><td>167</td><td> 5.8</td><td>59.1</td><td> -5.5</td><td> 7.6</td><td>11477</td></tr>\n",
       "\t<tr><td>2010</td><td>Jose Bautista   </td><td>TOR</td><td>29</td><td>161</td><td>683</td><td>54</td><td>109</td><td>124</td><td> 9</td><td>⋯</td><td>0.378</td><td>0.617</td><td>0.422</td><td>NA</td><td>165</td><td>-0.9</td><td>51.6</td><td>-12.8</td><td> 6.5</td><td> 1887</td></tr>\n",
       "\t<tr><td>2013</td><td>Chris Davis     </td><td>BAL</td><td>27</td><td>160</td><td>673</td><td>53</td><td>103</td><td>138</td><td> 4</td><td>⋯</td><td>0.370</td><td>0.634</td><td>0.421</td><td>NA</td><td>168</td><td> 4.7</td><td>56.4</td><td>-12.8</td><td> 7.1</td><td> 9272</td></tr>\n",
       "\t<tr><td>2021</td><td>Juan Soto       </td><td>WSN</td><td>22</td><td>151</td><td>654</td><td>29</td><td>111</td><td> 95</td><td> 9</td><td>⋯</td><td>0.465</td><td>0.534</td><td>0.420</td><td>NA</td><td>163</td><td>-3.3</td><td>49.3</td><td> -1.1</td><td> 7.0</td><td>20123</td></tr>\n",
       "\t<tr><td>2016</td><td>David Ortiz     </td><td>BOS</td><td>40</td><td>151</td><td>626</td><td>38</td><td> 79</td><td>127</td><td> 2</td><td>⋯</td><td>0.401</td><td>0.620</td><td>0.419</td><td>NA</td><td>163</td><td>-9.8</td><td>37.5</td><td>-15.1</td><td> 4.5</td><td>  745</td></tr>\n",
       "\t<tr><td>⋮</td><td>⋮</td><td>⋮</td><td>⋮</td><td>⋮</td><td>⋮</td><td>⋮</td><td>⋮</td><td>⋮</td><td>⋮</td><td>⋱</td><td>⋮</td><td>⋮</td><td>⋮</td><td>⋮</td><td>⋮</td><td>⋮</td><td>⋮</td><td>⋮</td><td>⋮</td><td>⋮</td></tr>\n",
       "\t<tr><td>2017</td><td>Alex Gordon       </td><td>KCR  </td><td>33</td><td>148</td><td>541</td><td> 9</td><td>52</td><td>45</td><td> 7</td><td>⋯</td><td>0.293</td><td>0.315</td><td>0.269</td><td>NA</td><td>62</td><td> 0.9</td><td>-24.7</td><td> 3.7</td><td>-0.3</td><td> 5209</td></tr>\n",
       "\t<tr><td>2014</td><td>Allen Craig       </td><td>- - -</td><td>29</td><td>126</td><td>505</td><td> 8</td><td>41</td><td>46</td><td> 2</td><td>⋯</td><td>0.279</td><td>0.315</td><td>0.269</td><td>NA</td><td>68</td><td>-6.4</td><td>-24.2</td><td>-6.0</td><td>-1.6</td><td> 3433</td></tr>\n",
       "\t<tr><td>2019</td><td>Orlando Arcia     </td><td>MIL  </td><td>24</td><td>152</td><td>546</td><td>15</td><td>51</td><td>59</td><td> 8</td><td>⋯</td><td>0.283</td><td>0.350</td><td>0.269</td><td>NA</td><td>61</td><td> 0.9</td><td>-27.3</td><td> 0.8</td><td>-0.9</td><td>13185</td></tr>\n",
       "\t<tr><td>2017</td><td>Alcides Escobar   </td><td>KCR  </td><td>30</td><td>162</td><td>629</td><td> 6</td><td>71</td><td>54</td><td> 4</td><td>⋯</td><td>0.272</td><td>0.357</td><td>0.269</td><td>NA</td><td>61</td><td> 3.5</td><td>-26.6</td><td>14.5</td><td> 0.9</td><td> 6310</td></tr>\n",
       "\t<tr><td>2015</td><td>Jean Segura       </td><td>MIL  </td><td>25</td><td>142</td><td>584</td><td> 6</td><td>57</td><td>50</td><td>25</td><td>⋯</td><td>0.281</td><td>0.336</td><td>0.268</td><td>NA</td><td>64</td><td> 2.9</td><td>-21.8</td><td> 4.3</td><td> 0.1</td><td> 5933</td></tr>\n",
       "\t<tr><td>2011</td><td>Alex Rios         </td><td>CHW  </td><td>30</td><td>145</td><td>570</td><td>13</td><td>64</td><td>44</td><td>11</td><td>⋯</td><td>0.265</td><td>0.348</td><td>0.267</td><td>NA</td><td>60</td><td> 0.6</td><td>-25.9</td><td>-6.3</td><td>-1.4</td><td> 2090</td></tr>\n",
       "\t<tr><td>2020</td><td>Jonathan Villar   </td><td>- - -</td><td>29</td><td> 52</td><td>207</td><td> 2</td><td>13</td><td>15</td><td>16</td><td>⋯</td><td>0.301</td><td>0.292</td><td>0.266</td><td>NA</td><td>64</td><td> 0.7</td><td> -8.7</td><td>-8.1</td><td>-1.1</td><td>10071</td></tr>\n",
       "\t<tr><td>2015</td><td>Wilson Ramos      </td><td>WSN  </td><td>27</td><td>128</td><td>504</td><td>15</td><td>41</td><td>68</td><td> 0</td><td>⋯</td><td>0.258</td><td>0.358</td><td>0.265</td><td>NA</td><td>62</td><td>-1.7</td><td>-23.7</td><td> 3.6</td><td>-0.5</td><td> 1433</td></tr>\n",
       "\t<tr><td>2016</td><td>Alexei Ramirez    </td><td>- - -</td><td>34</td><td>145</td><td>506</td><td> 6</td><td>38</td><td>48</td><td> 8</td><td>⋯</td><td>0.277</td><td>0.333</td><td>0.264</td><td>NA</td><td>63</td><td>-2.6</td><td>-25.9</td><td>-5.2</td><td>-1.5</td><td> 5133</td></tr>\n",
       "\t<tr><td>2022</td><td>Miguel Rojas      </td><td>MIA  </td><td>33</td><td>114</td><td>426</td><td> 6</td><td>32</td><td>31</td><td> 9</td><td>⋯</td><td>0.275</td><td>0.322</td><td>0.264</td><td>NA</td><td>70</td><td>-2.8</td><td>-17.9</td><td>10.4</td><td> 0.7</td><td> 7802</td></tr>\n",
       "\t<tr><td>2022</td><td>Nicky Lopez       </td><td>KCR  </td><td>27</td><td>124</td><td>427</td><td> 0</td><td>47</td><td>17</td><td>12</td><td>⋯</td><td>0.294</td><td>0.287</td><td>0.263</td><td>NA</td><td>65</td><td> 5.2</td><td>-11.5</td><td>10.9</td><td> 1.3</td><td>19339</td></tr>\n",
       "\t<tr><td>2020</td><td>Erik Gonzalez     </td><td>PIT  </td><td>28</td><td> 50</td><td>193</td><td> 3</td><td>14</td><td>20</td><td> 2</td><td>⋯</td><td>0.255</td><td>0.359</td><td>0.262</td><td>NA</td><td>60</td><td> 0.2</td><td> -9.6</td><td> 3.0</td><td> 0.2</td><td>13369</td></tr>\n",
       "\t<tr><td>2020</td><td>Evan White        </td><td>SEA  </td><td>24</td><td> 54</td><td>202</td><td> 8</td><td>19</td><td>26</td><td> 1</td><td>⋯</td><td>0.252</td><td>0.346</td><td>0.261</td><td>NA</td><td>67</td><td> 1.0</td><td> -7.2</td><td> 0.6</td><td> 0.1</td><td>20078</td></tr>\n",
       "\t<tr><td>2018</td><td>Alcides Escobar   </td><td>KCR  </td><td>31</td><td>140</td><td>531</td><td> 4</td><td>54</td><td>34</td><td> 8</td><td>⋯</td><td>0.279</td><td>0.313</td><td>0.261</td><td>NA</td><td>59</td><td> 2.5</td><td>-23.6</td><td>-2.9</td><td>-0.9</td><td> 6310</td></tr>\n",
       "\t<tr><td>2014</td><td>Matt Dominguez    </td><td>HOU  </td><td>24</td><td>157</td><td>607</td><td>16</td><td>51</td><td>57</td><td> 0</td><td>⋯</td><td>0.256</td><td>0.330</td><td>0.260</td><td>NA</td><td>65</td><td>-6.3</td><td>-29.8</td><td>-1.4</td><td>-1.3</td><td> 4903</td></tr>\n",
       "\t<tr><td>2020</td><td>Eduardo Escobar   </td><td>ARI  </td><td>31</td><td> 54</td><td>222</td><td> 4</td><td>22</td><td>20</td><td> 1</td><td>⋯</td><td>0.270</td><td>0.335</td><td>0.257</td><td>NA</td><td>55</td><td>-0.9</td><td>-13.7</td><td> 0.7</td><td>-0.5</td><td> 6153</td></tr>\n",
       "\t<tr><td>2016</td><td>Adeiny Hechavarria</td><td>MIA  </td><td>27</td><td>155</td><td>547</td><td> 3</td><td>52</td><td>38</td><td> 1</td><td>⋯</td><td>0.283</td><td>0.311</td><td>0.256</td><td>NA</td><td>59</td><td> 1.8</td><td>-25.6</td><td>14.5</td><td> 0.6</td><td>10459</td></tr>\n",
       "\t<tr><td>2020</td><td>Javier Baez       </td><td>CHC  </td><td>27</td><td> 59</td><td>235</td><td> 8</td><td>27</td><td>24</td><td> 3</td><td>⋯</td><td>0.238</td><td>0.360</td><td>0.256</td><td>NA</td><td>57</td><td>-0.4</td><td>-13.4</td><td> 8.1</td><td> 0.5</td><td>12979</td></tr>\n",
       "\t<tr><td>2022</td><td>Geraldo Perdomo   </td><td>ARI  </td><td>22</td><td>119</td><td>413</td><td> 4</td><td>51</td><td>34</td><td> 7</td><td>⋯</td><td>0.288</td><td>0.263</td><td>0.256</td><td>NA</td><td>59</td><td> 3.3</td><td>-16.5</td><td> 5.9</td><td> 0.4</td><td>22799</td></tr>\n",
       "\t<tr><td>2015</td><td>Chris Owings      </td><td>ARI  </td><td>23</td><td>147</td><td>552</td><td> 4</td><td>59</td><td>43</td><td>16</td><td>⋯</td><td>0.264</td><td>0.322</td><td>0.255</td><td>NA</td><td>51</td><td> 4.6</td><td>-26.7</td><td>-0.6</td><td>-1.1</td><td>10030</td></tr>\n",
       "\t<tr><td>2020</td><td>Nicky Lopez       </td><td>KCR  </td><td>25</td><td> 56</td><td>192</td><td> 1</td><td>15</td><td>13</td><td> 0</td><td>⋯</td><td>0.286</td><td>0.266</td><td>0.254</td><td>NA</td><td>54</td><td>-2.0</td><td>-13.0</td><td> 6.3</td><td> 0.2</td><td>19339</td></tr>\n",
       "\t<tr><td>2014</td><td>Zack Cozart       </td><td>CIN  </td><td>28</td><td>147</td><td>543</td><td> 4</td><td>48</td><td>38</td><td> 7</td><td>⋯</td><td>0.268</td><td>0.300</td><td>0.254</td><td>NA</td><td>56</td><td> 3.0</td><td>-23.8</td><td>19.6</td><td> 1.3</td><td> 2616</td></tr>\n",
       "\t<tr><td>2013</td><td>Darwin Barney     </td><td>CHC  </td><td>27</td><td>141</td><td>555</td><td> 7</td><td>49</td><td>41</td><td> 4</td><td>⋯</td><td>0.266</td><td>0.303</td><td>0.252</td><td>NA</td><td>54</td><td>-0.6</td><td>-29.3</td><td> 9.7</td><td>-0.3</td><td> 2430</td></tr>\n",
       "\t<tr><td>2013</td><td>Adeiny Hechavarria</td><td>MIA  </td><td>24</td><td>148</td><td>578</td><td> 3</td><td>30</td><td>42</td><td>11</td><td>⋯</td><td>0.267</td><td>0.298</td><td>0.251</td><td>NA</td><td>56</td><td>-5.1</td><td>-34.0</td><td> 4.8</td><td>-1.3</td><td>10459</td></tr>\n",
       "\t<tr><td>2021</td><td>Kevin Newman      </td><td>PIT  </td><td>27</td><td>148</td><td>554</td><td> 5</td><td>50</td><td>39</td><td> 6</td><td>⋯</td><td>0.265</td><td>0.309</td><td>0.249</td><td>NA</td><td>53</td><td> 5.1</td><td>-28.3</td><td> 8.2</td><td>-0.2</td><td>17696</td></tr>\n",
       "\t<tr><td>2010</td><td>Cesar Izturis     </td><td>BAL  </td><td>30</td><td>150</td><td>513</td><td> 1</td><td>42</td><td>28</td><td>11</td><td>⋯</td><td>0.277</td><td>0.268</td><td>0.249</td><td>NA</td><td>46</td><td> 0.0</td><td>-32.8</td><td>11.8</td><td>-0.3</td><td>  656</td></tr>\n",
       "\t<tr><td>2013</td><td>Alcides Escobar   </td><td>KCR  </td><td>26</td><td>158</td><td>642</td><td> 4</td><td>57</td><td>52</td><td>22</td><td>⋯</td><td>0.259</td><td>0.300</td><td>0.247</td><td>NA</td><td>49</td><td> 8.1</td><td>-28.8</td><td>16.8</td><td> 1.0</td><td> 6310</td></tr>\n",
       "\t<tr><td>2022</td><td>Jonathan Schoop   </td><td>DET  </td><td>30</td><td>115</td><td>447</td><td> 9</td><td>40</td><td>34</td><td> 5</td><td>⋯</td><td>0.235</td><td>0.318</td><td>0.241</td><td>NA</td><td>54</td><td> 0.0</td><td>-22.9</td><td>18.9</td><td> 1.0</td><td>11265</td></tr>\n",
       "\t<tr><td>2022</td><td>Myles Straw       </td><td>CLE  </td><td>27</td><td>122</td><td>480</td><td> 0</td><td>57</td><td>23</td><td>15</td><td>⋯</td><td>0.273</td><td>0.249</td><td>0.241</td><td>NA</td><td>52</td><td> 4.8</td><td>-20.9</td><td>14.1</td><td> 0.9</td><td>17620</td></tr>\n",
       "\t<tr><td>2018</td><td>Chris Davis       </td><td>BAL  </td><td>32</td><td>128</td><td>522</td><td>16</td><td>40</td><td>49</td><td> 2</td><td>⋯</td><td>0.243</td><td>0.296</td><td>0.239</td><td>NA</td><td>46</td><td>-1.8</td><td>-35.5</td><td>-7.1</td><td>-2.6</td><td> 9272</td></tr>\n",
       "</tbody>\n",
       "</table>\n"
      ],
      "text/latex": [
       "A grouped\\_df: 1846 × 25\n",
       "\\begin{tabular}{lllllllllllllllllllll}\n",
       " Season & Name & Team & Age & G & PA & HR & R & RBI & SB & ⋯ & OBP & SLG & wOBA & xwOBA & wRC. & BsR & Off & Def & WAR & playerid\\\\\n",
       " <int> & <chr> & <chr> & <int> & <int> & <int> & <int> & <int> & <int> & <int> & ⋯ & <dbl> & <dbl> & <dbl> & <lgl> & <int> & <dbl> & <dbl> & <dbl> & <dbl> & <int>\\\\\n",
       "\\hline\n",
       "\t 2020 & Juan Soto        & WSN & 21 &  47 & 196 & 13 &  39 &  37 &  6 & ⋯ & 0.490 & 0.695 & 0.478 & NA & 202 & -0.5 & 25.0 &  -3.9 &  2.6 & 20123\\\\\n",
       "\t 2015 & Bryce Harper     & WSN & 22 & 153 & 654 & 42 & 118 &  99 &  6 & ⋯ & 0.460 & 0.649 & 0.461 & NA & 197 &  3.6 & 77.7 & -10.2 &  9.3 & 11579\\\\\n",
       "\t 2020 & Freddie Freeman  & ATL & 30 &  60 & 262 & 13 &  51 &  53 &  2 & ⋯ & 0.462 & 0.640 & 0.456 & NA & 186 & -0.3 & 28.4 &  -3.0 &  3.2 &  5361\\\\\n",
       "\t 2013 & Miguel Cabrera   & DET & 30 & 148 & 652 & 44 & 103 & 137 &  3 & ⋯ & 0.442 & 0.636 & 0.455 & NA & 193 & -6.0 & 62.6 &  -4.0 &  8.6 &  1744\\\\\n",
       "\t 2018 & Mookie Betts     & BOS & 25 & 136 & 614 & 32 & 129 &  80 & 30 & ⋯ & 0.438 & 0.640 & 0.449 & NA & 185 &  6.9 & 69.3 &  12.9 & 10.6 & 13611\\\\\n",
       "\t 2018 & Mike Trout       & LAA & 26 & 140 & 608 & 39 & 101 &  79 & 24 & ⋯ & 0.460 & 0.628 & 0.447 & NA & 188 &  5.0 & 69.2 &   2.5 &  9.5 & 10155\\\\\n",
       "\t 2010 & Josh Hamilton    & TEX & 29 & 133 & 571 & 32 &  95 & 100 &  8 & ⋯ & 0.411 & 0.633 & 0.445 & NA & 175 &  4.9 & 55.3 &   5.9 &  8.4 &  1875\\\\\n",
       "\t 2020 & Marcell Ozuna    & ATL & 29 &  60 & 267 & 18 &  38 &  56 &  0 & ⋯ & 0.431 & 0.636 & 0.444 & NA & 178 & -0.2 & 26.4 &  -8.1 &  2.5 & 10324\\\\\n",
       "\t 2011 & Jose Bautista    & TOR & 30 & 149 & 655 & 43 & 105 & 103 &  9 & ⋯ & 0.447 & 0.608 & 0.443 & NA & 180 &  4.9 & 66.3 & -11.1 &  8.1 &  1887\\\\\n",
       "\t 2019 & Christian Yelich & MIL & 27 & 130 & 580 & 44 & 100 &  97 & 30 & ⋯ & 0.429 & 0.671 & 0.442 & NA & 174 &  8.5 & 65.2 &  -9.6 &  7.2 & 11477\\\\\n",
       "\t 2022 & Aaron Judge      & NYY & 30 & 128 & 564 & 51 & 104 & 113 & 15 & ⋯ & 0.398 & 0.661 & 0.440 & NA & 195 &  1.0 & 61.3 &   0.2 &  8.3 & 15640\\\\\n",
       "\t 2022 & Paul Goldschmidt & STL & 34 & 125 & 547 & 33 &  95 & 105 &  5 & ⋯ & 0.417 & 0.613 & 0.438 & NA & 189 &  2.4 & 59.2 & -14.0 &  6.7 &  9218\\\\\n",
       "\t 2010 & Joey Votto       & CIN & 26 & 150 & 648 & 37 & 106 & 113 & 16 & ⋯ & 0.424 & 0.600 & 0.438 & NA & 172 &  1.1 & 57.0 & -10.1 &  6.9 &  4314\\\\\n",
       "\t 2011 & Miguel Cabrera   & DET & 28 & 161 & 688 & 30 & 111 & 105 &  2 & ⋯ & 0.448 & 0.586 & 0.437 & NA & 177 & -5.5 & 56.1 & -16.8 &  6.6 &  1744\\\\\n",
       "\t 2017 & Mike Trout       & LAA & 25 & 114 & 507 & 33 &  92 &  72 & 22 & ⋯ & 0.442 & 0.629 & 0.437 & NA & 180 &  4.0 & 54.4 &  -7.2 &  6.4 & 10155\\\\\n",
       "\t 2019 & Mike Trout       & LAA & 27 & 134 & 600 & 45 & 110 & 104 & 11 & ⋯ & 0.438 & 0.645 & 0.436 & NA & 177 &  7.1 & 65.9 &  -1.5 &  8.4 & 10155\\\\\n",
       "\t 2010 & Miguel Cabrera   & DET & 27 & 150 & 648 & 38 & 111 & 126 &  3 & ⋯ & 0.420 & 0.622 & 0.431 & NA & 171 & -1.9 & 52.0 & -16.4 &  6.1 &  1744\\\\\n",
       "\t 2021 & Bryce Harper     & PHI & 28 & 141 & 599 & 35 & 101 &  84 & 13 & ⋯ & 0.429 & 0.615 & 0.431 & NA & 171 & -2.5 & 51.4 &  -5.5 &  6.6 & 11579\\\\\n",
       "\t 2017 & Aaron Judge      & NYY & 25 & 155 & 678 & 52 & 128 & 114 &  9 & ⋯ & 0.422 & 0.627 & 0.430 & NA & 174 &  0.0 & 61.8 &   4.3 &  8.8 & 15640\\\\\n",
       "\t 2020 & DJ LeMahieu      & NYY & 31 &  50 & 216 & 10 &  41 &  27 &  3 & ⋯ & 0.421 & 0.590 & 0.429 & NA & 177 &  0.7 & 21.3 &  -2.7 &  2.4 &  9874\\\\\n",
       "\t 2017 & Joey Votto       & CIN & 33 & 162 & 707 & 36 & 106 & 100 &  5 & ⋯ & 0.454 & 0.578 & 0.428 & NA & 163 & -9.6 & 47.7 & -10.7 &  6.1 &  4314\\\\\n",
       "\t 2018 & J.D. Martinez    & BOS & 30 & 150 & 649 & 43 & 111 & 130 &  6 & ⋯ & 0.402 & 0.629 & 0.427 & NA & 170 & -4.1 & 50.5 & -17.7 &  5.6 &  6184\\\\\n",
       "\t 2015 & Joey Votto       & CIN & 31 & 158 & 695 & 29 &  95 &  80 & 11 & ⋯ & 0.459 & 0.541 & 0.427 & NA & 174 & -1.1 & 58.7 & -11.8 &  7.3 &  4314\\\\\n",
       "\t 2011 & Ryan Braun       & MIL & 27 & 150 & 629 & 33 & 109 & 111 & 33 & ⋯ & 0.397 & 0.597 & 0.426 & NA & 171 &  6.3 & 58.2 & -10.5 &  7.1 &  3410\\\\\n",
       "\t 2013 & Mike Trout       & LAA & 21 & 157 & 716 & 27 & 109 &  97 & 33 & ⋯ & 0.432 & 0.557 & 0.423 & NA & 176 &  8.2 & 70.5 &   0.5 & 10.2 & 10155\\\\\n",
       "\t 2018 & Christian Yelich & MIL & 26 & 147 & 651 & 36 & 118 & 110 & 22 & ⋯ & 0.402 & 0.598 & 0.422 & NA & 167 &  5.8 & 59.1 &  -5.5 &  7.6 & 11477\\\\\n",
       "\t 2010 & Jose Bautista    & TOR & 29 & 161 & 683 & 54 & 109 & 124 &  9 & ⋯ & 0.378 & 0.617 & 0.422 & NA & 165 & -0.9 & 51.6 & -12.8 &  6.5 &  1887\\\\\n",
       "\t 2013 & Chris Davis      & BAL & 27 & 160 & 673 & 53 & 103 & 138 &  4 & ⋯ & 0.370 & 0.634 & 0.421 & NA & 168 &  4.7 & 56.4 & -12.8 &  7.1 &  9272\\\\\n",
       "\t 2021 & Juan Soto        & WSN & 22 & 151 & 654 & 29 & 111 &  95 &  9 & ⋯ & 0.465 & 0.534 & 0.420 & NA & 163 & -3.3 & 49.3 &  -1.1 &  7.0 & 20123\\\\\n",
       "\t 2016 & David Ortiz      & BOS & 40 & 151 & 626 & 38 &  79 & 127 &  2 & ⋯ & 0.401 & 0.620 & 0.419 & NA & 163 & -9.8 & 37.5 & -15.1 &  4.5 &   745\\\\\n",
       "\t ⋮ & ⋮ & ⋮ & ⋮ & ⋮ & ⋮ & ⋮ & ⋮ & ⋮ & ⋮ & ⋱ & ⋮ & ⋮ & ⋮ & ⋮ & ⋮ & ⋮ & ⋮ & ⋮ & ⋮ & ⋮\\\\\n",
       "\t 2017 & Alex Gordon        & KCR   & 33 & 148 & 541 &  9 & 52 & 45 &  7 & ⋯ & 0.293 & 0.315 & 0.269 & NA & 62 &  0.9 & -24.7 &  3.7 & -0.3 &  5209\\\\\n",
       "\t 2014 & Allen Craig        & - - - & 29 & 126 & 505 &  8 & 41 & 46 &  2 & ⋯ & 0.279 & 0.315 & 0.269 & NA & 68 & -6.4 & -24.2 & -6.0 & -1.6 &  3433\\\\\n",
       "\t 2019 & Orlando Arcia      & MIL   & 24 & 152 & 546 & 15 & 51 & 59 &  8 & ⋯ & 0.283 & 0.350 & 0.269 & NA & 61 &  0.9 & -27.3 &  0.8 & -0.9 & 13185\\\\\n",
       "\t 2017 & Alcides Escobar    & KCR   & 30 & 162 & 629 &  6 & 71 & 54 &  4 & ⋯ & 0.272 & 0.357 & 0.269 & NA & 61 &  3.5 & -26.6 & 14.5 &  0.9 &  6310\\\\\n",
       "\t 2015 & Jean Segura        & MIL   & 25 & 142 & 584 &  6 & 57 & 50 & 25 & ⋯ & 0.281 & 0.336 & 0.268 & NA & 64 &  2.9 & -21.8 &  4.3 &  0.1 &  5933\\\\\n",
       "\t 2011 & Alex Rios          & CHW   & 30 & 145 & 570 & 13 & 64 & 44 & 11 & ⋯ & 0.265 & 0.348 & 0.267 & NA & 60 &  0.6 & -25.9 & -6.3 & -1.4 &  2090\\\\\n",
       "\t 2020 & Jonathan Villar    & - - - & 29 &  52 & 207 &  2 & 13 & 15 & 16 & ⋯ & 0.301 & 0.292 & 0.266 & NA & 64 &  0.7 &  -8.7 & -8.1 & -1.1 & 10071\\\\\n",
       "\t 2015 & Wilson Ramos       & WSN   & 27 & 128 & 504 & 15 & 41 & 68 &  0 & ⋯ & 0.258 & 0.358 & 0.265 & NA & 62 & -1.7 & -23.7 &  3.6 & -0.5 &  1433\\\\\n",
       "\t 2016 & Alexei Ramirez     & - - - & 34 & 145 & 506 &  6 & 38 & 48 &  8 & ⋯ & 0.277 & 0.333 & 0.264 & NA & 63 & -2.6 & -25.9 & -5.2 & -1.5 &  5133\\\\\n",
       "\t 2022 & Miguel Rojas       & MIA   & 33 & 114 & 426 &  6 & 32 & 31 &  9 & ⋯ & 0.275 & 0.322 & 0.264 & NA & 70 & -2.8 & -17.9 & 10.4 &  0.7 &  7802\\\\\n",
       "\t 2022 & Nicky Lopez        & KCR   & 27 & 124 & 427 &  0 & 47 & 17 & 12 & ⋯ & 0.294 & 0.287 & 0.263 & NA & 65 &  5.2 & -11.5 & 10.9 &  1.3 & 19339\\\\\n",
       "\t 2020 & Erik Gonzalez      & PIT   & 28 &  50 & 193 &  3 & 14 & 20 &  2 & ⋯ & 0.255 & 0.359 & 0.262 & NA & 60 &  0.2 &  -9.6 &  3.0 &  0.2 & 13369\\\\\n",
       "\t 2020 & Evan White         & SEA   & 24 &  54 & 202 &  8 & 19 & 26 &  1 & ⋯ & 0.252 & 0.346 & 0.261 & NA & 67 &  1.0 &  -7.2 &  0.6 &  0.1 & 20078\\\\\n",
       "\t 2018 & Alcides Escobar    & KCR   & 31 & 140 & 531 &  4 & 54 & 34 &  8 & ⋯ & 0.279 & 0.313 & 0.261 & NA & 59 &  2.5 & -23.6 & -2.9 & -0.9 &  6310\\\\\n",
       "\t 2014 & Matt Dominguez     & HOU   & 24 & 157 & 607 & 16 & 51 & 57 &  0 & ⋯ & 0.256 & 0.330 & 0.260 & NA & 65 & -6.3 & -29.8 & -1.4 & -1.3 &  4903\\\\\n",
       "\t 2020 & Eduardo Escobar    & ARI   & 31 &  54 & 222 &  4 & 22 & 20 &  1 & ⋯ & 0.270 & 0.335 & 0.257 & NA & 55 & -0.9 & -13.7 &  0.7 & -0.5 &  6153\\\\\n",
       "\t 2016 & Adeiny Hechavarria & MIA   & 27 & 155 & 547 &  3 & 52 & 38 &  1 & ⋯ & 0.283 & 0.311 & 0.256 & NA & 59 &  1.8 & -25.6 & 14.5 &  0.6 & 10459\\\\\n",
       "\t 2020 & Javier Baez        & CHC   & 27 &  59 & 235 &  8 & 27 & 24 &  3 & ⋯ & 0.238 & 0.360 & 0.256 & NA & 57 & -0.4 & -13.4 &  8.1 &  0.5 & 12979\\\\\n",
       "\t 2022 & Geraldo Perdomo    & ARI   & 22 & 119 & 413 &  4 & 51 & 34 &  7 & ⋯ & 0.288 & 0.263 & 0.256 & NA & 59 &  3.3 & -16.5 &  5.9 &  0.4 & 22799\\\\\n",
       "\t 2015 & Chris Owings       & ARI   & 23 & 147 & 552 &  4 & 59 & 43 & 16 & ⋯ & 0.264 & 0.322 & 0.255 & NA & 51 &  4.6 & -26.7 & -0.6 & -1.1 & 10030\\\\\n",
       "\t 2020 & Nicky Lopez        & KCR   & 25 &  56 & 192 &  1 & 15 & 13 &  0 & ⋯ & 0.286 & 0.266 & 0.254 & NA & 54 & -2.0 & -13.0 &  6.3 &  0.2 & 19339\\\\\n",
       "\t 2014 & Zack Cozart        & CIN   & 28 & 147 & 543 &  4 & 48 & 38 &  7 & ⋯ & 0.268 & 0.300 & 0.254 & NA & 56 &  3.0 & -23.8 & 19.6 &  1.3 &  2616\\\\\n",
       "\t 2013 & Darwin Barney      & CHC   & 27 & 141 & 555 &  7 & 49 & 41 &  4 & ⋯ & 0.266 & 0.303 & 0.252 & NA & 54 & -0.6 & -29.3 &  9.7 & -0.3 &  2430\\\\\n",
       "\t 2013 & Adeiny Hechavarria & MIA   & 24 & 148 & 578 &  3 & 30 & 42 & 11 & ⋯ & 0.267 & 0.298 & 0.251 & NA & 56 & -5.1 & -34.0 &  4.8 & -1.3 & 10459\\\\\n",
       "\t 2021 & Kevin Newman       & PIT   & 27 & 148 & 554 &  5 & 50 & 39 &  6 & ⋯ & 0.265 & 0.309 & 0.249 & NA & 53 &  5.1 & -28.3 &  8.2 & -0.2 & 17696\\\\\n",
       "\t 2010 & Cesar Izturis      & BAL   & 30 & 150 & 513 &  1 & 42 & 28 & 11 & ⋯ & 0.277 & 0.268 & 0.249 & NA & 46 &  0.0 & -32.8 & 11.8 & -0.3 &   656\\\\\n",
       "\t 2013 & Alcides Escobar    & KCR   & 26 & 158 & 642 &  4 & 57 & 52 & 22 & ⋯ & 0.259 & 0.300 & 0.247 & NA & 49 &  8.1 & -28.8 & 16.8 &  1.0 &  6310\\\\\n",
       "\t 2022 & Jonathan Schoop    & DET   & 30 & 115 & 447 &  9 & 40 & 34 &  5 & ⋯ & 0.235 & 0.318 & 0.241 & NA & 54 &  0.0 & -22.9 & 18.9 &  1.0 & 11265\\\\\n",
       "\t 2022 & Myles Straw        & CLE   & 27 & 122 & 480 &  0 & 57 & 23 & 15 & ⋯ & 0.273 & 0.249 & 0.241 & NA & 52 &  4.8 & -20.9 & 14.1 &  0.9 & 17620\\\\\n",
       "\t 2018 & Chris Davis        & BAL   & 32 & 128 & 522 & 16 & 40 & 49 &  2 & ⋯ & 0.243 & 0.296 & 0.239 & NA & 46 & -1.8 & -35.5 & -7.1 & -2.6 &  9272\\\\\n",
       "\\end{tabular}\n"
      ],
      "text/markdown": [
       "\n",
       "A grouped_df: 1846 × 25\n",
       "\n",
       "| Season &lt;int&gt; | Name &lt;chr&gt; | Team &lt;chr&gt; | Age &lt;int&gt; | G &lt;int&gt; | PA &lt;int&gt; | HR &lt;int&gt; | R &lt;int&gt; | RBI &lt;int&gt; | SB &lt;int&gt; | ⋯ ⋯ | OBP &lt;dbl&gt; | SLG &lt;dbl&gt; | wOBA &lt;dbl&gt; | xwOBA &lt;lgl&gt; | wRC. &lt;int&gt; | BsR &lt;dbl&gt; | Off &lt;dbl&gt; | Def &lt;dbl&gt; | WAR &lt;dbl&gt; | playerid &lt;int&gt; |\n",
       "|---|---|---|---|---|---|---|---|---|---|---|---|---|---|---|---|---|---|---|---|---|\n",
       "| 2020 | Juan Soto        | WSN | 21 |  47 | 196 | 13 |  39 |  37 |  6 | ⋯ | 0.490 | 0.695 | 0.478 | NA | 202 | -0.5 | 25.0 |  -3.9 |  2.6 | 20123 |\n",
       "| 2015 | Bryce Harper     | WSN | 22 | 153 | 654 | 42 | 118 |  99 |  6 | ⋯ | 0.460 | 0.649 | 0.461 | NA | 197 |  3.6 | 77.7 | -10.2 |  9.3 | 11579 |\n",
       "| 2020 | Freddie Freeman  | ATL | 30 |  60 | 262 | 13 |  51 |  53 |  2 | ⋯ | 0.462 | 0.640 | 0.456 | NA | 186 | -0.3 | 28.4 |  -3.0 |  3.2 |  5361 |\n",
       "| 2013 | Miguel Cabrera   | DET | 30 | 148 | 652 | 44 | 103 | 137 |  3 | ⋯ | 0.442 | 0.636 | 0.455 | NA | 193 | -6.0 | 62.6 |  -4.0 |  8.6 |  1744 |\n",
       "| 2018 | Mookie Betts     | BOS | 25 | 136 | 614 | 32 | 129 |  80 | 30 | ⋯ | 0.438 | 0.640 | 0.449 | NA | 185 |  6.9 | 69.3 |  12.9 | 10.6 | 13611 |\n",
       "| 2018 | Mike Trout       | LAA | 26 | 140 | 608 | 39 | 101 |  79 | 24 | ⋯ | 0.460 | 0.628 | 0.447 | NA | 188 |  5.0 | 69.2 |   2.5 |  9.5 | 10155 |\n",
       "| 2010 | Josh Hamilton    | TEX | 29 | 133 | 571 | 32 |  95 | 100 |  8 | ⋯ | 0.411 | 0.633 | 0.445 | NA | 175 |  4.9 | 55.3 |   5.9 |  8.4 |  1875 |\n",
       "| 2020 | Marcell Ozuna    | ATL | 29 |  60 | 267 | 18 |  38 |  56 |  0 | ⋯ | 0.431 | 0.636 | 0.444 | NA | 178 | -0.2 | 26.4 |  -8.1 |  2.5 | 10324 |\n",
       "| 2011 | Jose Bautista    | TOR | 30 | 149 | 655 | 43 | 105 | 103 |  9 | ⋯ | 0.447 | 0.608 | 0.443 | NA | 180 |  4.9 | 66.3 | -11.1 |  8.1 |  1887 |\n",
       "| 2019 | Christian Yelich | MIL | 27 | 130 | 580 | 44 | 100 |  97 | 30 | ⋯ | 0.429 | 0.671 | 0.442 | NA | 174 |  8.5 | 65.2 |  -9.6 |  7.2 | 11477 |\n",
       "| 2022 | Aaron Judge      | NYY | 30 | 128 | 564 | 51 | 104 | 113 | 15 | ⋯ | 0.398 | 0.661 | 0.440 | NA | 195 |  1.0 | 61.3 |   0.2 |  8.3 | 15640 |\n",
       "| 2022 | Paul Goldschmidt | STL | 34 | 125 | 547 | 33 |  95 | 105 |  5 | ⋯ | 0.417 | 0.613 | 0.438 | NA | 189 |  2.4 | 59.2 | -14.0 |  6.7 |  9218 |\n",
       "| 2010 | Joey Votto       | CIN | 26 | 150 | 648 | 37 | 106 | 113 | 16 | ⋯ | 0.424 | 0.600 | 0.438 | NA | 172 |  1.1 | 57.0 | -10.1 |  6.9 |  4314 |\n",
       "| 2011 | Miguel Cabrera   | DET | 28 | 161 | 688 | 30 | 111 | 105 |  2 | ⋯ | 0.448 | 0.586 | 0.437 | NA | 177 | -5.5 | 56.1 | -16.8 |  6.6 |  1744 |\n",
       "| 2017 | Mike Trout       | LAA | 25 | 114 | 507 | 33 |  92 |  72 | 22 | ⋯ | 0.442 | 0.629 | 0.437 | NA | 180 |  4.0 | 54.4 |  -7.2 |  6.4 | 10155 |\n",
       "| 2019 | Mike Trout       | LAA | 27 | 134 | 600 | 45 | 110 | 104 | 11 | ⋯ | 0.438 | 0.645 | 0.436 | NA | 177 |  7.1 | 65.9 |  -1.5 |  8.4 | 10155 |\n",
       "| 2010 | Miguel Cabrera   | DET | 27 | 150 | 648 | 38 | 111 | 126 |  3 | ⋯ | 0.420 | 0.622 | 0.431 | NA | 171 | -1.9 | 52.0 | -16.4 |  6.1 |  1744 |\n",
       "| 2021 | Bryce Harper     | PHI | 28 | 141 | 599 | 35 | 101 |  84 | 13 | ⋯ | 0.429 | 0.615 | 0.431 | NA | 171 | -2.5 | 51.4 |  -5.5 |  6.6 | 11579 |\n",
       "| 2017 | Aaron Judge      | NYY | 25 | 155 | 678 | 52 | 128 | 114 |  9 | ⋯ | 0.422 | 0.627 | 0.430 | NA | 174 |  0.0 | 61.8 |   4.3 |  8.8 | 15640 |\n",
       "| 2020 | DJ LeMahieu      | NYY | 31 |  50 | 216 | 10 |  41 |  27 |  3 | ⋯ | 0.421 | 0.590 | 0.429 | NA | 177 |  0.7 | 21.3 |  -2.7 |  2.4 |  9874 |\n",
       "| 2017 | Joey Votto       | CIN | 33 | 162 | 707 | 36 | 106 | 100 |  5 | ⋯ | 0.454 | 0.578 | 0.428 | NA | 163 | -9.6 | 47.7 | -10.7 |  6.1 |  4314 |\n",
       "| 2018 | J.D. Martinez    | BOS | 30 | 150 | 649 | 43 | 111 | 130 |  6 | ⋯ | 0.402 | 0.629 | 0.427 | NA | 170 | -4.1 | 50.5 | -17.7 |  5.6 |  6184 |\n",
       "| 2015 | Joey Votto       | CIN | 31 | 158 | 695 | 29 |  95 |  80 | 11 | ⋯ | 0.459 | 0.541 | 0.427 | NA | 174 | -1.1 | 58.7 | -11.8 |  7.3 |  4314 |\n",
       "| 2011 | Ryan Braun       | MIL | 27 | 150 | 629 | 33 | 109 | 111 | 33 | ⋯ | 0.397 | 0.597 | 0.426 | NA | 171 |  6.3 | 58.2 | -10.5 |  7.1 |  3410 |\n",
       "| 2013 | Mike Trout       | LAA | 21 | 157 | 716 | 27 | 109 |  97 | 33 | ⋯ | 0.432 | 0.557 | 0.423 | NA | 176 |  8.2 | 70.5 |   0.5 | 10.2 | 10155 |\n",
       "| 2018 | Christian Yelich | MIL | 26 | 147 | 651 | 36 | 118 | 110 | 22 | ⋯ | 0.402 | 0.598 | 0.422 | NA | 167 |  5.8 | 59.1 |  -5.5 |  7.6 | 11477 |\n",
       "| 2010 | Jose Bautista    | TOR | 29 | 161 | 683 | 54 | 109 | 124 |  9 | ⋯ | 0.378 | 0.617 | 0.422 | NA | 165 | -0.9 | 51.6 | -12.8 |  6.5 |  1887 |\n",
       "| 2013 | Chris Davis      | BAL | 27 | 160 | 673 | 53 | 103 | 138 |  4 | ⋯ | 0.370 | 0.634 | 0.421 | NA | 168 |  4.7 | 56.4 | -12.8 |  7.1 |  9272 |\n",
       "| 2021 | Juan Soto        | WSN | 22 | 151 | 654 | 29 | 111 |  95 |  9 | ⋯ | 0.465 | 0.534 | 0.420 | NA | 163 | -3.3 | 49.3 |  -1.1 |  7.0 | 20123 |\n",
       "| 2016 | David Ortiz      | BOS | 40 | 151 | 626 | 38 |  79 | 127 |  2 | ⋯ | 0.401 | 0.620 | 0.419 | NA | 163 | -9.8 | 37.5 | -15.1 |  4.5 |   745 |\n",
       "| ⋮ | ⋮ | ⋮ | ⋮ | ⋮ | ⋮ | ⋮ | ⋮ | ⋮ | ⋮ | ⋱ | ⋮ | ⋮ | ⋮ | ⋮ | ⋮ | ⋮ | ⋮ | ⋮ | ⋮ | ⋮ |\n",
       "| 2017 | Alex Gordon        | KCR   | 33 | 148 | 541 |  9 | 52 | 45 |  7 | ⋯ | 0.293 | 0.315 | 0.269 | NA | 62 |  0.9 | -24.7 |  3.7 | -0.3 |  5209 |\n",
       "| 2014 | Allen Craig        | - - - | 29 | 126 | 505 |  8 | 41 | 46 |  2 | ⋯ | 0.279 | 0.315 | 0.269 | NA | 68 | -6.4 | -24.2 | -6.0 | -1.6 |  3433 |\n",
       "| 2019 | Orlando Arcia      | MIL   | 24 | 152 | 546 | 15 | 51 | 59 |  8 | ⋯ | 0.283 | 0.350 | 0.269 | NA | 61 |  0.9 | -27.3 |  0.8 | -0.9 | 13185 |\n",
       "| 2017 | Alcides Escobar    | KCR   | 30 | 162 | 629 |  6 | 71 | 54 |  4 | ⋯ | 0.272 | 0.357 | 0.269 | NA | 61 |  3.5 | -26.6 | 14.5 |  0.9 |  6310 |\n",
       "| 2015 | Jean Segura        | MIL   | 25 | 142 | 584 |  6 | 57 | 50 | 25 | ⋯ | 0.281 | 0.336 | 0.268 | NA | 64 |  2.9 | -21.8 |  4.3 |  0.1 |  5933 |\n",
       "| 2011 | Alex Rios          | CHW   | 30 | 145 | 570 | 13 | 64 | 44 | 11 | ⋯ | 0.265 | 0.348 | 0.267 | NA | 60 |  0.6 | -25.9 | -6.3 | -1.4 |  2090 |\n",
       "| 2020 | Jonathan Villar    | - - - | 29 |  52 | 207 |  2 | 13 | 15 | 16 | ⋯ | 0.301 | 0.292 | 0.266 | NA | 64 |  0.7 |  -8.7 | -8.1 | -1.1 | 10071 |\n",
       "| 2015 | Wilson Ramos       | WSN   | 27 | 128 | 504 | 15 | 41 | 68 |  0 | ⋯ | 0.258 | 0.358 | 0.265 | NA | 62 | -1.7 | -23.7 |  3.6 | -0.5 |  1433 |\n",
       "| 2016 | Alexei Ramirez     | - - - | 34 | 145 | 506 |  6 | 38 | 48 |  8 | ⋯ | 0.277 | 0.333 | 0.264 | NA | 63 | -2.6 | -25.9 | -5.2 | -1.5 |  5133 |\n",
       "| 2022 | Miguel Rojas       | MIA   | 33 | 114 | 426 |  6 | 32 | 31 |  9 | ⋯ | 0.275 | 0.322 | 0.264 | NA | 70 | -2.8 | -17.9 | 10.4 |  0.7 |  7802 |\n",
       "| 2022 | Nicky Lopez        | KCR   | 27 | 124 | 427 |  0 | 47 | 17 | 12 | ⋯ | 0.294 | 0.287 | 0.263 | NA | 65 |  5.2 | -11.5 | 10.9 |  1.3 | 19339 |\n",
       "| 2020 | Erik Gonzalez      | PIT   | 28 |  50 | 193 |  3 | 14 | 20 |  2 | ⋯ | 0.255 | 0.359 | 0.262 | NA | 60 |  0.2 |  -9.6 |  3.0 |  0.2 | 13369 |\n",
       "| 2020 | Evan White         | SEA   | 24 |  54 | 202 |  8 | 19 | 26 |  1 | ⋯ | 0.252 | 0.346 | 0.261 | NA | 67 |  1.0 |  -7.2 |  0.6 |  0.1 | 20078 |\n",
       "| 2018 | Alcides Escobar    | KCR   | 31 | 140 | 531 |  4 | 54 | 34 |  8 | ⋯ | 0.279 | 0.313 | 0.261 | NA | 59 |  2.5 | -23.6 | -2.9 | -0.9 |  6310 |\n",
       "| 2014 | Matt Dominguez     | HOU   | 24 | 157 | 607 | 16 | 51 | 57 |  0 | ⋯ | 0.256 | 0.330 | 0.260 | NA | 65 | -6.3 | -29.8 | -1.4 | -1.3 |  4903 |\n",
       "| 2020 | Eduardo Escobar    | ARI   | 31 |  54 | 222 |  4 | 22 | 20 |  1 | ⋯ | 0.270 | 0.335 | 0.257 | NA | 55 | -0.9 | -13.7 |  0.7 | -0.5 |  6153 |\n",
       "| 2016 | Adeiny Hechavarria | MIA   | 27 | 155 | 547 |  3 | 52 | 38 |  1 | ⋯ | 0.283 | 0.311 | 0.256 | NA | 59 |  1.8 | -25.6 | 14.5 |  0.6 | 10459 |\n",
       "| 2020 | Javier Baez        | CHC   | 27 |  59 | 235 |  8 | 27 | 24 |  3 | ⋯ | 0.238 | 0.360 | 0.256 | NA | 57 | -0.4 | -13.4 |  8.1 |  0.5 | 12979 |\n",
       "| 2022 | Geraldo Perdomo    | ARI   | 22 | 119 | 413 |  4 | 51 | 34 |  7 | ⋯ | 0.288 | 0.263 | 0.256 | NA | 59 |  3.3 | -16.5 |  5.9 |  0.4 | 22799 |\n",
       "| 2015 | Chris Owings       | ARI   | 23 | 147 | 552 |  4 | 59 | 43 | 16 | ⋯ | 0.264 | 0.322 | 0.255 | NA | 51 |  4.6 | -26.7 | -0.6 | -1.1 | 10030 |\n",
       "| 2020 | Nicky Lopez        | KCR   | 25 |  56 | 192 |  1 | 15 | 13 |  0 | ⋯ | 0.286 | 0.266 | 0.254 | NA | 54 | -2.0 | -13.0 |  6.3 |  0.2 | 19339 |\n",
       "| 2014 | Zack Cozart        | CIN   | 28 | 147 | 543 |  4 | 48 | 38 |  7 | ⋯ | 0.268 | 0.300 | 0.254 | NA | 56 |  3.0 | -23.8 | 19.6 |  1.3 |  2616 |\n",
       "| 2013 | Darwin Barney      | CHC   | 27 | 141 | 555 |  7 | 49 | 41 |  4 | ⋯ | 0.266 | 0.303 | 0.252 | NA | 54 | -0.6 | -29.3 |  9.7 | -0.3 |  2430 |\n",
       "| 2013 | Adeiny Hechavarria | MIA   | 24 | 148 | 578 |  3 | 30 | 42 | 11 | ⋯ | 0.267 | 0.298 | 0.251 | NA | 56 | -5.1 | -34.0 |  4.8 | -1.3 | 10459 |\n",
       "| 2021 | Kevin Newman       | PIT   | 27 | 148 | 554 |  5 | 50 | 39 |  6 | ⋯ | 0.265 | 0.309 | 0.249 | NA | 53 |  5.1 | -28.3 |  8.2 | -0.2 | 17696 |\n",
       "| 2010 | Cesar Izturis      | BAL   | 30 | 150 | 513 |  1 | 42 | 28 | 11 | ⋯ | 0.277 | 0.268 | 0.249 | NA | 46 |  0.0 | -32.8 | 11.8 | -0.3 |   656 |\n",
       "| 2013 | Alcides Escobar    | KCR   | 26 | 158 | 642 |  4 | 57 | 52 | 22 | ⋯ | 0.259 | 0.300 | 0.247 | NA | 49 |  8.1 | -28.8 | 16.8 |  1.0 |  6310 |\n",
       "| 2022 | Jonathan Schoop    | DET   | 30 | 115 | 447 |  9 | 40 | 34 |  5 | ⋯ | 0.235 | 0.318 | 0.241 | NA | 54 |  0.0 | -22.9 | 18.9 |  1.0 | 11265 |\n",
       "| 2022 | Myles Straw        | CLE   | 27 | 122 | 480 |  0 | 57 | 23 | 15 | ⋯ | 0.273 | 0.249 | 0.241 | NA | 52 |  4.8 | -20.9 | 14.1 |  0.9 | 17620 |\n",
       "| 2018 | Chris Davis        | BAL   | 32 | 128 | 522 | 16 | 40 | 49 |  2 | ⋯ | 0.243 | 0.296 | 0.239 | NA | 46 | -1.8 | -35.5 | -7.1 | -2.6 |  9272 |\n",
       "\n"
      ],
      "text/plain": [
       "     Season Name               Team  Age G   PA  HR R   RBI SB ⋯ OBP   SLG  \n",
       "1    2020   Juan Soto          WSN   21   47 196 13  39  37  6 ⋯ 0.490 0.695\n",
       "2    2015   Bryce Harper       WSN   22  153 654 42 118  99  6 ⋯ 0.460 0.649\n",
       "3    2020   Freddie Freeman    ATL   30   60 262 13  51  53  2 ⋯ 0.462 0.640\n",
       "4    2013   Miguel Cabrera     DET   30  148 652 44 103 137  3 ⋯ 0.442 0.636\n",
       "5    2018   Mookie Betts       BOS   25  136 614 32 129  80 30 ⋯ 0.438 0.640\n",
       "6    2018   Mike Trout         LAA   26  140 608 39 101  79 24 ⋯ 0.460 0.628\n",
       "7    2010   Josh Hamilton      TEX   29  133 571 32  95 100  8 ⋯ 0.411 0.633\n",
       "8    2020   Marcell Ozuna      ATL   29   60 267 18  38  56  0 ⋯ 0.431 0.636\n",
       "9    2011   Jose Bautista      TOR   30  149 655 43 105 103  9 ⋯ 0.447 0.608\n",
       "10   2019   Christian Yelich   MIL   27  130 580 44 100  97 30 ⋯ 0.429 0.671\n",
       "11   2022   Aaron Judge        NYY   30  128 564 51 104 113 15 ⋯ 0.398 0.661\n",
       "12   2022   Paul Goldschmidt   STL   34  125 547 33  95 105  5 ⋯ 0.417 0.613\n",
       "13   2010   Joey Votto         CIN   26  150 648 37 106 113 16 ⋯ 0.424 0.600\n",
       "14   2011   Miguel Cabrera     DET   28  161 688 30 111 105  2 ⋯ 0.448 0.586\n",
       "15   2017   Mike Trout         LAA   25  114 507 33  92  72 22 ⋯ 0.442 0.629\n",
       "16   2019   Mike Trout         LAA   27  134 600 45 110 104 11 ⋯ 0.438 0.645\n",
       "17   2010   Miguel Cabrera     DET   27  150 648 38 111 126  3 ⋯ 0.420 0.622\n",
       "18   2021   Bryce Harper       PHI   28  141 599 35 101  84 13 ⋯ 0.429 0.615\n",
       "19   2017   Aaron Judge        NYY   25  155 678 52 128 114  9 ⋯ 0.422 0.627\n",
       "20   2020   DJ LeMahieu        NYY   31   50 216 10  41  27  3 ⋯ 0.421 0.590\n",
       "21   2017   Joey Votto         CIN   33  162 707 36 106 100  5 ⋯ 0.454 0.578\n",
       "22   2018   J.D. Martinez      BOS   30  150 649 43 111 130  6 ⋯ 0.402 0.629\n",
       "23   2015   Joey Votto         CIN   31  158 695 29  95  80 11 ⋯ 0.459 0.541\n",
       "24   2011   Ryan Braun         MIL   27  150 629 33 109 111 33 ⋯ 0.397 0.597\n",
       "25   2013   Mike Trout         LAA   21  157 716 27 109  97 33 ⋯ 0.432 0.557\n",
       "26   2018   Christian Yelich   MIL   26  147 651 36 118 110 22 ⋯ 0.402 0.598\n",
       "27   2010   Jose Bautista      TOR   29  161 683 54 109 124  9 ⋯ 0.378 0.617\n",
       "28   2013   Chris Davis        BAL   27  160 673 53 103 138  4 ⋯ 0.370 0.634\n",
       "29   2021   Juan Soto          WSN   22  151 654 29 111  95  9 ⋯ 0.465 0.534\n",
       "30   2016   David Ortiz        BOS   40  151 626 38  79 127  2 ⋯ 0.401 0.620\n",
       "⋮    ⋮      ⋮                  ⋮     ⋮   ⋮   ⋮   ⋮  ⋮   ⋮   ⋮  ⋱ ⋮     ⋮    \n",
       "1817 2017   Alex Gordon        KCR   33  148 541  9 52  45   7 ⋯ 0.293 0.315\n",
       "1818 2014   Allen Craig        - - - 29  126 505  8 41  46   2 ⋯ 0.279 0.315\n",
       "1819 2019   Orlando Arcia      MIL   24  152 546 15 51  59   8 ⋯ 0.283 0.350\n",
       "1820 2017   Alcides Escobar    KCR   30  162 629  6 71  54   4 ⋯ 0.272 0.357\n",
       "1821 2015   Jean Segura        MIL   25  142 584  6 57  50  25 ⋯ 0.281 0.336\n",
       "1822 2011   Alex Rios          CHW   30  145 570 13 64  44  11 ⋯ 0.265 0.348\n",
       "1823 2020   Jonathan Villar    - - - 29   52 207  2 13  15  16 ⋯ 0.301 0.292\n",
       "1824 2015   Wilson Ramos       WSN   27  128 504 15 41  68   0 ⋯ 0.258 0.358\n",
       "1825 2016   Alexei Ramirez     - - - 34  145 506  6 38  48   8 ⋯ 0.277 0.333\n",
       "1826 2022   Miguel Rojas       MIA   33  114 426  6 32  31   9 ⋯ 0.275 0.322\n",
       "1827 2022   Nicky Lopez        KCR   27  124 427  0 47  17  12 ⋯ 0.294 0.287\n",
       "1828 2020   Erik Gonzalez      PIT   28   50 193  3 14  20   2 ⋯ 0.255 0.359\n",
       "1829 2020   Evan White         SEA   24   54 202  8 19  26   1 ⋯ 0.252 0.346\n",
       "1830 2018   Alcides Escobar    KCR   31  140 531  4 54  34   8 ⋯ 0.279 0.313\n",
       "1831 2014   Matt Dominguez     HOU   24  157 607 16 51  57   0 ⋯ 0.256 0.330\n",
       "1832 2020   Eduardo Escobar    ARI   31   54 222  4 22  20   1 ⋯ 0.270 0.335\n",
       "1833 2016   Adeiny Hechavarria MIA   27  155 547  3 52  38   1 ⋯ 0.283 0.311\n",
       "1834 2020   Javier Baez        CHC   27   59 235  8 27  24   3 ⋯ 0.238 0.360\n",
       "1835 2022   Geraldo Perdomo    ARI   22  119 413  4 51  34   7 ⋯ 0.288 0.263\n",
       "1836 2015   Chris Owings       ARI   23  147 552  4 59  43  16 ⋯ 0.264 0.322\n",
       "1837 2020   Nicky Lopez        KCR   25   56 192  1 15  13   0 ⋯ 0.286 0.266\n",
       "1838 2014   Zack Cozart        CIN   28  147 543  4 48  38   7 ⋯ 0.268 0.300\n",
       "1839 2013   Darwin Barney      CHC   27  141 555  7 49  41   4 ⋯ 0.266 0.303\n",
       "1840 2013   Adeiny Hechavarria MIA   24  148 578  3 30  42  11 ⋯ 0.267 0.298\n",
       "1841 2021   Kevin Newman       PIT   27  148 554  5 50  39   6 ⋯ 0.265 0.309\n",
       "1842 2010   Cesar Izturis      BAL   30  150 513  1 42  28  11 ⋯ 0.277 0.268\n",
       "1843 2013   Alcides Escobar    KCR   26  158 642  4 57  52  22 ⋯ 0.259 0.300\n",
       "1844 2022   Jonathan Schoop    DET   30  115 447  9 40  34   5 ⋯ 0.235 0.318\n",
       "1845 2022   Myles Straw        CLE   27  122 480  0 57  23  15 ⋯ 0.273 0.249\n",
       "1846 2018   Chris Davis        BAL   32  128 522 16 40  49   2 ⋯ 0.243 0.296\n",
       "     wOBA  xwOBA wRC. BsR  Off   Def   WAR  playerid\n",
       "1    0.478 NA    202  -0.5 25.0   -3.9  2.6 20123   \n",
       "2    0.461 NA    197   3.6 77.7  -10.2  9.3 11579   \n",
       "3    0.456 NA    186  -0.3 28.4   -3.0  3.2  5361   \n",
       "4    0.455 NA    193  -6.0 62.6   -4.0  8.6  1744   \n",
       "5    0.449 NA    185   6.9 69.3   12.9 10.6 13611   \n",
       "6    0.447 NA    188   5.0 69.2    2.5  9.5 10155   \n",
       "7    0.445 NA    175   4.9 55.3    5.9  8.4  1875   \n",
       "8    0.444 NA    178  -0.2 26.4   -8.1  2.5 10324   \n",
       "9    0.443 NA    180   4.9 66.3  -11.1  8.1  1887   \n",
       "10   0.442 NA    174   8.5 65.2   -9.6  7.2 11477   \n",
       "11   0.440 NA    195   1.0 61.3    0.2  8.3 15640   \n",
       "12   0.438 NA    189   2.4 59.2  -14.0  6.7  9218   \n",
       "13   0.438 NA    172   1.1 57.0  -10.1  6.9  4314   \n",
       "14   0.437 NA    177  -5.5 56.1  -16.8  6.6  1744   \n",
       "15   0.437 NA    180   4.0 54.4   -7.2  6.4 10155   \n",
       "16   0.436 NA    177   7.1 65.9   -1.5  8.4 10155   \n",
       "17   0.431 NA    171  -1.9 52.0  -16.4  6.1  1744   \n",
       "18   0.431 NA    171  -2.5 51.4   -5.5  6.6 11579   \n",
       "19   0.430 NA    174   0.0 61.8    4.3  8.8 15640   \n",
       "20   0.429 NA    177   0.7 21.3   -2.7  2.4  9874   \n",
       "21   0.428 NA    163  -9.6 47.7  -10.7  6.1  4314   \n",
       "22   0.427 NA    170  -4.1 50.5  -17.7  5.6  6184   \n",
       "23   0.427 NA    174  -1.1 58.7  -11.8  7.3  4314   \n",
       "24   0.426 NA    171   6.3 58.2  -10.5  7.1  3410   \n",
       "25   0.423 NA    176   8.2 70.5    0.5 10.2 10155   \n",
       "26   0.422 NA    167   5.8 59.1   -5.5  7.6 11477   \n",
       "27   0.422 NA    165  -0.9 51.6  -12.8  6.5  1887   \n",
       "28   0.421 NA    168   4.7 56.4  -12.8  7.1  9272   \n",
       "29   0.420 NA    163  -3.3 49.3   -1.1  7.0 20123   \n",
       "30   0.419 NA    163  -9.8 37.5  -15.1  4.5   745   \n",
       "⋮    ⋮     ⋮     ⋮    ⋮    ⋮     ⋮     ⋮    ⋮       \n",
       "1817 0.269 NA    62    0.9 -24.7  3.7  -0.3  5209   \n",
       "1818 0.269 NA    68   -6.4 -24.2 -6.0  -1.6  3433   \n",
       "1819 0.269 NA    61    0.9 -27.3  0.8  -0.9 13185   \n",
       "1820 0.269 NA    61    3.5 -26.6 14.5   0.9  6310   \n",
       "1821 0.268 NA    64    2.9 -21.8  4.3   0.1  5933   \n",
       "1822 0.267 NA    60    0.6 -25.9 -6.3  -1.4  2090   \n",
       "1823 0.266 NA    64    0.7  -8.7 -8.1  -1.1 10071   \n",
       "1824 0.265 NA    62   -1.7 -23.7  3.6  -0.5  1433   \n",
       "1825 0.264 NA    63   -2.6 -25.9 -5.2  -1.5  5133   \n",
       "1826 0.264 NA    70   -2.8 -17.9 10.4   0.7  7802   \n",
       "1827 0.263 NA    65    5.2 -11.5 10.9   1.3 19339   \n",
       "1828 0.262 NA    60    0.2  -9.6  3.0   0.2 13369   \n",
       "1829 0.261 NA    67    1.0  -7.2  0.6   0.1 20078   \n",
       "1830 0.261 NA    59    2.5 -23.6 -2.9  -0.9  6310   \n",
       "1831 0.260 NA    65   -6.3 -29.8 -1.4  -1.3  4903   \n",
       "1832 0.257 NA    55   -0.9 -13.7  0.7  -0.5  6153   \n",
       "1833 0.256 NA    59    1.8 -25.6 14.5   0.6 10459   \n",
       "1834 0.256 NA    57   -0.4 -13.4  8.1   0.5 12979   \n",
       "1835 0.256 NA    59    3.3 -16.5  5.9   0.4 22799   \n",
       "1836 0.255 NA    51    4.6 -26.7 -0.6  -1.1 10030   \n",
       "1837 0.254 NA    54   -2.0 -13.0  6.3   0.2 19339   \n",
       "1838 0.254 NA    56    3.0 -23.8 19.6   1.3  2616   \n",
       "1839 0.252 NA    54   -0.6 -29.3  9.7  -0.3  2430   \n",
       "1840 0.251 NA    56   -5.1 -34.0  4.8  -1.3 10459   \n",
       "1841 0.249 NA    53    5.1 -28.3  8.2  -0.2 17696   \n",
       "1842 0.249 NA    46    0.0 -32.8 11.8  -0.3   656   \n",
       "1843 0.247 NA    49    8.1 -28.8 16.8   1.0  6310   \n",
       "1844 0.241 NA    54    0.0 -22.9 18.9   1.0 11265   \n",
       "1845 0.241 NA    52    4.8 -20.9 14.1   0.9 17620   \n",
       "1846 0.239 NA    46   -1.8 -35.5 -7.1  -2.6  9272   "
      ]
     },
     "metadata": {},
     "output_type": "display_data"
    }
   ],
   "source": [
    "num_rows <- data %>% \n",
    "group_by(Age) \n",
    "num_rows"
   ]
  },
  {
   "cell_type": "code",
   "execution_count": 10,
   "metadata": {},
   "outputs": [
    {
     "data": {
      "text/html": [
       "<table class=\"dataframe\">\n",
       "<caption>A tibble: 23 × 2</caption>\n",
       "<thead>\n",
       "\t<tr><th scope=col>Age</th><th scope=col>avg_WAR</th></tr>\n",
       "\t<tr><th scope=col>&lt;int&gt;</th><th scope=col>&lt;dbl&gt;</th></tr>\n",
       "</thead>\n",
       "<tbody>\n",
       "\t<tr><td>19</td><td> 4.400000</td></tr>\n",
       "\t<tr><td>20</td><td> 4.483333</td></tr>\n",
       "\t<tr><td>21</td><td> 2.994118</td></tr>\n",
       "\t<tr><td>22</td><td> 3.340000</td></tr>\n",
       "\t<tr><td>23</td><td> 2.858108</td></tr>\n",
       "\t<tr><td>24</td><td> 2.881308</td></tr>\n",
       "\t<tr><td>25</td><td> 2.740741</td></tr>\n",
       "\t<tr><td>26</td><td> 2.897326</td></tr>\n",
       "\t<tr><td>27</td><td> 3.090099</td></tr>\n",
       "\t<tr><td>28</td><td> 3.107182</td></tr>\n",
       "\t<tr><td>29</td><td> 2.844865</td></tr>\n",
       "\t<tr><td>30</td><td> 2.777381</td></tr>\n",
       "\t<tr><td>31</td><td> 2.299242</td></tr>\n",
       "\t<tr><td>32</td><td> 2.260360</td></tr>\n",
       "\t<tr><td>33</td><td> 2.246053</td></tr>\n",
       "\t<tr><td>34</td><td> 2.094521</td></tr>\n",
       "\t<tr><td>35</td><td> 2.390244</td></tr>\n",
       "\t<tr><td>36</td><td> 1.745455</td></tr>\n",
       "\t<tr><td>37</td><td> 1.656000</td></tr>\n",
       "\t<tr><td>38</td><td> 1.670000</td></tr>\n",
       "\t<tr><td>39</td><td> 0.930000</td></tr>\n",
       "\t<tr><td>40</td><td> 1.375000</td></tr>\n",
       "\t<tr><td>41</td><td>-0.700000</td></tr>\n",
       "</tbody>\n",
       "</table>\n"
      ],
      "text/latex": [
       "A tibble: 23 × 2\n",
       "\\begin{tabular}{ll}\n",
       " Age & avg\\_WAR\\\\\n",
       " <int> & <dbl>\\\\\n",
       "\\hline\n",
       "\t 19 &  4.400000\\\\\n",
       "\t 20 &  4.483333\\\\\n",
       "\t 21 &  2.994118\\\\\n",
       "\t 22 &  3.340000\\\\\n",
       "\t 23 &  2.858108\\\\\n",
       "\t 24 &  2.881308\\\\\n",
       "\t 25 &  2.740741\\\\\n",
       "\t 26 &  2.897326\\\\\n",
       "\t 27 &  3.090099\\\\\n",
       "\t 28 &  3.107182\\\\\n",
       "\t 29 &  2.844865\\\\\n",
       "\t 30 &  2.777381\\\\\n",
       "\t 31 &  2.299242\\\\\n",
       "\t 32 &  2.260360\\\\\n",
       "\t 33 &  2.246053\\\\\n",
       "\t 34 &  2.094521\\\\\n",
       "\t 35 &  2.390244\\\\\n",
       "\t 36 &  1.745455\\\\\n",
       "\t 37 &  1.656000\\\\\n",
       "\t 38 &  1.670000\\\\\n",
       "\t 39 &  0.930000\\\\\n",
       "\t 40 &  1.375000\\\\\n",
       "\t 41 & -0.700000\\\\\n",
       "\\end{tabular}\n"
      ],
      "text/markdown": [
       "\n",
       "A tibble: 23 × 2\n",
       "\n",
       "| Age &lt;int&gt; | avg_WAR &lt;dbl&gt; |\n",
       "|---|---|\n",
       "| 19 |  4.400000 |\n",
       "| 20 |  4.483333 |\n",
       "| 21 |  2.994118 |\n",
       "| 22 |  3.340000 |\n",
       "| 23 |  2.858108 |\n",
       "| 24 |  2.881308 |\n",
       "| 25 |  2.740741 |\n",
       "| 26 |  2.897326 |\n",
       "| 27 |  3.090099 |\n",
       "| 28 |  3.107182 |\n",
       "| 29 |  2.844865 |\n",
       "| 30 |  2.777381 |\n",
       "| 31 |  2.299242 |\n",
       "| 32 |  2.260360 |\n",
       "| 33 |  2.246053 |\n",
       "| 34 |  2.094521 |\n",
       "| 35 |  2.390244 |\n",
       "| 36 |  1.745455 |\n",
       "| 37 |  1.656000 |\n",
       "| 38 |  1.670000 |\n",
       "| 39 |  0.930000 |\n",
       "| 40 |  1.375000 |\n",
       "| 41 | -0.700000 |\n",
       "\n"
      ],
      "text/plain": [
       "   Age avg_WAR  \n",
       "1  19   4.400000\n",
       "2  20   4.483333\n",
       "3  21   2.994118\n",
       "4  22   3.340000\n",
       "5  23   2.858108\n",
       "6  24   2.881308\n",
       "7  25   2.740741\n",
       "8  26   2.897326\n",
       "9  27   3.090099\n",
       "10 28   3.107182\n",
       "11 29   2.844865\n",
       "12 30   2.777381\n",
       "13 31   2.299242\n",
       "14 32   2.260360\n",
       "15 33   2.246053\n",
       "16 34   2.094521\n",
       "17 35   2.390244\n",
       "18 36   1.745455\n",
       "19 37   1.656000\n",
       "20 38   1.670000\n",
       "21 39   0.930000\n",
       "22 40   1.375000\n",
       "23 41  -0.700000"
      ]
     },
     "metadata": {},
     "output_type": "display_data"
    }
   ],
   "source": [
    "war <- data %>%\n",
    "group_by(Age) %>%\n",
    "summarize(avg_WAR = mean(WAR))\n",
    "war\n",
    "## Prime for WAR is 27-28 disregarding the extreme young ages. \n",
    "## Batters who are called up at a young age are generally very productive. Likely because if they are called up at such a \n",
    "## young age they are generational talents. There is a very small sample size for ages 19-22 that can be skewed\n",
    "## easily by monster season such as Bryce Harper in 2015. \n",
    "## WAR decreases dramatically with age .. likely due to regression on defence and athletic ability. "
   ]
  },
  {
   "cell_type": "code",
   "execution_count": 11,
   "metadata": {},
   "outputs": [
    {
     "data": {
      "text/html": [
       "<table class=\"dataframe\">\n",
       "<caption>A tibble: 23 × 2</caption>\n",
       "<thead>\n",
       "\t<tr><th scope=col>Age</th><th scope=col>avg_ops</th></tr>\n",
       "\t<tr><th scope=col>&lt;int&gt;</th><th scope=col>&lt;dbl&gt;</th></tr>\n",
       "</thead>\n",
       "<tbody>\n",
       "\t<tr><td>19</td><td>0.8170000</td></tr>\n",
       "\t<tr><td>20</td><td>0.8390000</td></tr>\n",
       "\t<tr><td>21</td><td>0.8284118</td></tr>\n",
       "\t<tr><td>22</td><td>0.8000250</td></tr>\n",
       "\t<tr><td>23</td><td>0.7730135</td></tr>\n",
       "\t<tr><td>24</td><td>0.7772150</td></tr>\n",
       "\t<tr><td>25</td><td>0.7807160</td></tr>\n",
       "\t<tr><td>26</td><td>0.7840588</td></tr>\n",
       "\t<tr><td>27</td><td>0.7905594</td></tr>\n",
       "\t<tr><td>28</td><td>0.7916188</td></tr>\n",
       "\t<tr><td>29</td><td>0.7882432</td></tr>\n",
       "\t<tr><td>30</td><td>0.7900179</td></tr>\n",
       "\t<tr><td>31</td><td>0.7798106</td></tr>\n",
       "\t<tr><td>32</td><td>0.7718288</td></tr>\n",
       "\t<tr><td>33</td><td>0.7778421</td></tr>\n",
       "\t<tr><td>34</td><td>0.7808356</td></tr>\n",
       "\t<tr><td>35</td><td>0.7998780</td></tr>\n",
       "\t<tr><td>36</td><td>0.7589697</td></tr>\n",
       "\t<tr><td>37</td><td>0.7674400</td></tr>\n",
       "\t<tr><td>38</td><td>0.7779000</td></tr>\n",
       "\t<tr><td>39</td><td>0.7845000</td></tr>\n",
       "\t<tr><td>40</td><td>0.7837500</td></tr>\n",
       "\t<tr><td>41</td><td>0.6580000</td></tr>\n",
       "</tbody>\n",
       "</table>\n"
      ],
      "text/latex": [
       "A tibble: 23 × 2\n",
       "\\begin{tabular}{ll}\n",
       " Age & avg\\_ops\\\\\n",
       " <int> & <dbl>\\\\\n",
       "\\hline\n",
       "\t 19 & 0.8170000\\\\\n",
       "\t 20 & 0.8390000\\\\\n",
       "\t 21 & 0.8284118\\\\\n",
       "\t 22 & 0.8000250\\\\\n",
       "\t 23 & 0.7730135\\\\\n",
       "\t 24 & 0.7772150\\\\\n",
       "\t 25 & 0.7807160\\\\\n",
       "\t 26 & 0.7840588\\\\\n",
       "\t 27 & 0.7905594\\\\\n",
       "\t 28 & 0.7916188\\\\\n",
       "\t 29 & 0.7882432\\\\\n",
       "\t 30 & 0.7900179\\\\\n",
       "\t 31 & 0.7798106\\\\\n",
       "\t 32 & 0.7718288\\\\\n",
       "\t 33 & 0.7778421\\\\\n",
       "\t 34 & 0.7808356\\\\\n",
       "\t 35 & 0.7998780\\\\\n",
       "\t 36 & 0.7589697\\\\\n",
       "\t 37 & 0.7674400\\\\\n",
       "\t 38 & 0.7779000\\\\\n",
       "\t 39 & 0.7845000\\\\\n",
       "\t 40 & 0.7837500\\\\\n",
       "\t 41 & 0.6580000\\\\\n",
       "\\end{tabular}\n"
      ],
      "text/markdown": [
       "\n",
       "A tibble: 23 × 2\n",
       "\n",
       "| Age &lt;int&gt; | avg_ops &lt;dbl&gt; |\n",
       "|---|---|\n",
       "| 19 | 0.8170000 |\n",
       "| 20 | 0.8390000 |\n",
       "| 21 | 0.8284118 |\n",
       "| 22 | 0.8000250 |\n",
       "| 23 | 0.7730135 |\n",
       "| 24 | 0.7772150 |\n",
       "| 25 | 0.7807160 |\n",
       "| 26 | 0.7840588 |\n",
       "| 27 | 0.7905594 |\n",
       "| 28 | 0.7916188 |\n",
       "| 29 | 0.7882432 |\n",
       "| 30 | 0.7900179 |\n",
       "| 31 | 0.7798106 |\n",
       "| 32 | 0.7718288 |\n",
       "| 33 | 0.7778421 |\n",
       "| 34 | 0.7808356 |\n",
       "| 35 | 0.7998780 |\n",
       "| 36 | 0.7589697 |\n",
       "| 37 | 0.7674400 |\n",
       "| 38 | 0.7779000 |\n",
       "| 39 | 0.7845000 |\n",
       "| 40 | 0.7837500 |\n",
       "| 41 | 0.6580000 |\n",
       "\n"
      ],
      "text/plain": [
       "   Age avg_ops  \n",
       "1  19  0.8170000\n",
       "2  20  0.8390000\n",
       "3  21  0.8284118\n",
       "4  22  0.8000250\n",
       "5  23  0.7730135\n",
       "6  24  0.7772150\n",
       "7  25  0.7807160\n",
       "8  26  0.7840588\n",
       "9  27  0.7905594\n",
       "10 28  0.7916188\n",
       "11 29  0.7882432\n",
       "12 30  0.7900179\n",
       "13 31  0.7798106\n",
       "14 32  0.7718288\n",
       "15 33  0.7778421\n",
       "16 34  0.7808356\n",
       "17 35  0.7998780\n",
       "18 36  0.7589697\n",
       "19 37  0.7674400\n",
       "20 38  0.7779000\n",
       "21 39  0.7845000\n",
       "22 40  0.7837500\n",
       "23 41  0.6580000"
      ]
     },
     "metadata": {},
     "output_type": "display_data"
    }
   ],
   "source": [
    "ops <- data %>%\n",
    "mutate(ops = OBP + SLG) %>%\n",
    "group_by(Age) %>%\n",
    "summarize(avg_ops = mean(ops))\n",
    "ops\n",
    "## However OPS is fairly constant throughout with a minor dip from 30-35. Players over 35 have strong OPS numbers, likely as\n",
    "## players who are playing past 35 are likely very accomplished batters. \n",
    "## Once again the very young ages produce the best OPS, likely following the same reasoning as previously mentioned. "
   ]
  },
  {
   "cell_type": "code",
   "execution_count": 12,
   "metadata": {},
   "outputs": [
    {
     "data": {
      "text/html": [
       "<table class=\"dataframe\">\n",
       "<caption>A tibble: 23 × 2</caption>\n",
       "<thead>\n",
       "\t<tr><th scope=col>Age</th><th scope=col>avg_hr</th></tr>\n",
       "\t<tr><th scope=col>&lt;int&gt;</th><th scope=col>&lt;dbl&gt;</th></tr>\n",
       "</thead>\n",
       "<tbody>\n",
       "\t<tr><td>19</td><td>22.00000</td></tr>\n",
       "\t<tr><td>20</td><td>19.00000</td></tr>\n",
       "\t<tr><td>21</td><td>20.05882</td></tr>\n",
       "\t<tr><td>22</td><td>20.62500</td></tr>\n",
       "\t<tr><td>23</td><td>17.95946</td></tr>\n",
       "\t<tr><td>24</td><td>18.68224</td></tr>\n",
       "\t<tr><td>25</td><td>18.31481</td></tr>\n",
       "\t<tr><td>26</td><td>18.91979</td></tr>\n",
       "\t<tr><td>27</td><td>18.68317</td></tr>\n",
       "\t<tr><td>28</td><td>19.48066</td></tr>\n",
       "\t<tr><td>29</td><td>19.65946</td></tr>\n",
       "\t<tr><td>30</td><td>19.74405</td></tr>\n",
       "\t<tr><td>31</td><td>18.98485</td></tr>\n",
       "\t<tr><td>32</td><td>17.43243</td></tr>\n",
       "\t<tr><td>33</td><td>18.64474</td></tr>\n",
       "\t<tr><td>34</td><td>18.83562</td></tr>\n",
       "\t<tr><td>35</td><td>21.65854</td></tr>\n",
       "\t<tr><td>36</td><td>17.45455</td></tr>\n",
       "\t<tr><td>37</td><td>17.16000</td></tr>\n",
       "\t<tr><td>38</td><td>17.50000</td></tr>\n",
       "\t<tr><td>39</td><td>21.40000</td></tr>\n",
       "\t<tr><td>40</td><td>22.00000</td></tr>\n",
       "\t<tr><td>41</td><td>10.00000</td></tr>\n",
       "</tbody>\n",
       "</table>\n"
      ],
      "text/latex": [
       "A tibble: 23 × 2\n",
       "\\begin{tabular}{ll}\n",
       " Age & avg\\_hr\\\\\n",
       " <int> & <dbl>\\\\\n",
       "\\hline\n",
       "\t 19 & 22.00000\\\\\n",
       "\t 20 & 19.00000\\\\\n",
       "\t 21 & 20.05882\\\\\n",
       "\t 22 & 20.62500\\\\\n",
       "\t 23 & 17.95946\\\\\n",
       "\t 24 & 18.68224\\\\\n",
       "\t 25 & 18.31481\\\\\n",
       "\t 26 & 18.91979\\\\\n",
       "\t 27 & 18.68317\\\\\n",
       "\t 28 & 19.48066\\\\\n",
       "\t 29 & 19.65946\\\\\n",
       "\t 30 & 19.74405\\\\\n",
       "\t 31 & 18.98485\\\\\n",
       "\t 32 & 17.43243\\\\\n",
       "\t 33 & 18.64474\\\\\n",
       "\t 34 & 18.83562\\\\\n",
       "\t 35 & 21.65854\\\\\n",
       "\t 36 & 17.45455\\\\\n",
       "\t 37 & 17.16000\\\\\n",
       "\t 38 & 17.50000\\\\\n",
       "\t 39 & 21.40000\\\\\n",
       "\t 40 & 22.00000\\\\\n",
       "\t 41 & 10.00000\\\\\n",
       "\\end{tabular}\n"
      ],
      "text/markdown": [
       "\n",
       "A tibble: 23 × 2\n",
       "\n",
       "| Age &lt;int&gt; | avg_hr &lt;dbl&gt; |\n",
       "|---|---|\n",
       "| 19 | 22.00000 |\n",
       "| 20 | 19.00000 |\n",
       "| 21 | 20.05882 |\n",
       "| 22 | 20.62500 |\n",
       "| 23 | 17.95946 |\n",
       "| 24 | 18.68224 |\n",
       "| 25 | 18.31481 |\n",
       "| 26 | 18.91979 |\n",
       "| 27 | 18.68317 |\n",
       "| 28 | 19.48066 |\n",
       "| 29 | 19.65946 |\n",
       "| 30 | 19.74405 |\n",
       "| 31 | 18.98485 |\n",
       "| 32 | 17.43243 |\n",
       "| 33 | 18.64474 |\n",
       "| 34 | 18.83562 |\n",
       "| 35 | 21.65854 |\n",
       "| 36 | 17.45455 |\n",
       "| 37 | 17.16000 |\n",
       "| 38 | 17.50000 |\n",
       "| 39 | 21.40000 |\n",
       "| 40 | 22.00000 |\n",
       "| 41 | 10.00000 |\n",
       "\n"
      ],
      "text/plain": [
       "   Age avg_hr  \n",
       "1  19  22.00000\n",
       "2  20  19.00000\n",
       "3  21  20.05882\n",
       "4  22  20.62500\n",
       "5  23  17.95946\n",
       "6  24  18.68224\n",
       "7  25  18.31481\n",
       "8  26  18.91979\n",
       "9  27  18.68317\n",
       "10 28  19.48066\n",
       "11 29  19.65946\n",
       "12 30  19.74405\n",
       "13 31  18.98485\n",
       "14 32  17.43243\n",
       "15 33  18.64474\n",
       "16 34  18.83562\n",
       "17 35  21.65854\n",
       "18 36  17.45455\n",
       "19 37  17.16000\n",
       "20 38  17.50000\n",
       "21 39  21.40000\n",
       "22 40  22.00000\n",
       "23 41  10.00000"
      ]
     },
     "metadata": {},
     "output_type": "display_data"
    }
   ],
   "source": [
    "hr <- data %>%\n",
    "group_by(Age) %>%\n",
    "summarize(avg_hr = mean(HR))\n",
    "hr\n",
    "## Similar to most offensive statistics, home runs seem to generally peak from age 28-30\n",
    "## Once again young ages are positively skewed. "
   ]
  },
  {
   "cell_type": "code",
   "execution_count": 27,
   "metadata": {},
   "outputs": [
    {
     "data": {
      "text/html": [
       "<table class=\"dataframe\">\n",
       "<caption>A tibble: 23 × 2</caption>\n",
       "<thead>\n",
       "\t<tr><th scope=col>Age</th><th scope=col>avg_pa</th></tr>\n",
       "\t<tr><th scope=col>&lt;int&gt;</th><th scope=col>&lt;dbl&gt;</th></tr>\n",
       "</thead>\n",
       "<tbody>\n",
       "\t<tr><td>19</td><td>597.0000</td></tr>\n",
       "\t<tr><td>20</td><td>608.5000</td></tr>\n",
       "\t<tr><td>21</td><td>551.8824</td></tr>\n",
       "\t<tr><td>22</td><td>595.5250</td></tr>\n",
       "\t<tr><td>23</td><td>561.2297</td></tr>\n",
       "\t<tr><td>24</td><td>575.8131</td></tr>\n",
       "\t<tr><td>25</td><td>552.0000</td></tr>\n",
       "\t<tr><td>26</td><td>574.1390</td></tr>\n",
       "\t<tr><td>27</td><td>555.3564</td></tr>\n",
       "\t<tr><td>28</td><td>575.1050</td></tr>\n",
       "\t<tr><td>29</td><td>573.1892</td></tr>\n",
       "\t<tr><td>30</td><td>563.2560</td></tr>\n",
       "\t<tr><td>31</td><td>560.3409</td></tr>\n",
       "\t<tr><td>32</td><td>566.0000</td></tr>\n",
       "\t<tr><td>33</td><td>564.3553</td></tr>\n",
       "\t<tr><td>34</td><td>578.9863</td></tr>\n",
       "\t<tr><td>35</td><td>589.4878</td></tr>\n",
       "\t<tr><td>36</td><td>581.3333</td></tr>\n",
       "\t<tr><td>37</td><td>566.0000</td></tr>\n",
       "\t<tr><td>38</td><td>582.3000</td></tr>\n",
       "\t<tr><td>39</td><td>530.3000</td></tr>\n",
       "\t<tr><td>40</td><td>588.2500</td></tr>\n",
       "\t<tr><td>41</td><td>482.0000</td></tr>\n",
       "</tbody>\n",
       "</table>\n"
      ],
      "text/latex": [
       "A tibble: 23 × 2\n",
       "\\begin{tabular}{ll}\n",
       " Age & avg\\_pa\\\\\n",
       " <int> & <dbl>\\\\\n",
       "\\hline\n",
       "\t 19 & 597.0000\\\\\n",
       "\t 20 & 608.5000\\\\\n",
       "\t 21 & 551.8824\\\\\n",
       "\t 22 & 595.5250\\\\\n",
       "\t 23 & 561.2297\\\\\n",
       "\t 24 & 575.8131\\\\\n",
       "\t 25 & 552.0000\\\\\n",
       "\t 26 & 574.1390\\\\\n",
       "\t 27 & 555.3564\\\\\n",
       "\t 28 & 575.1050\\\\\n",
       "\t 29 & 573.1892\\\\\n",
       "\t 30 & 563.2560\\\\\n",
       "\t 31 & 560.3409\\\\\n",
       "\t 32 & 566.0000\\\\\n",
       "\t 33 & 564.3553\\\\\n",
       "\t 34 & 578.9863\\\\\n",
       "\t 35 & 589.4878\\\\\n",
       "\t 36 & 581.3333\\\\\n",
       "\t 37 & 566.0000\\\\\n",
       "\t 38 & 582.3000\\\\\n",
       "\t 39 & 530.3000\\\\\n",
       "\t 40 & 588.2500\\\\\n",
       "\t 41 & 482.0000\\\\\n",
       "\\end{tabular}\n"
      ],
      "text/markdown": [
       "\n",
       "A tibble: 23 × 2\n",
       "\n",
       "| Age &lt;int&gt; | avg_pa &lt;dbl&gt; |\n",
       "|---|---|\n",
       "| 19 | 597.0000 |\n",
       "| 20 | 608.5000 |\n",
       "| 21 | 551.8824 |\n",
       "| 22 | 595.5250 |\n",
       "| 23 | 561.2297 |\n",
       "| 24 | 575.8131 |\n",
       "| 25 | 552.0000 |\n",
       "| 26 | 574.1390 |\n",
       "| 27 | 555.3564 |\n",
       "| 28 | 575.1050 |\n",
       "| 29 | 573.1892 |\n",
       "| 30 | 563.2560 |\n",
       "| 31 | 560.3409 |\n",
       "| 32 | 566.0000 |\n",
       "| 33 | 564.3553 |\n",
       "| 34 | 578.9863 |\n",
       "| 35 | 589.4878 |\n",
       "| 36 | 581.3333 |\n",
       "| 37 | 566.0000 |\n",
       "| 38 | 582.3000 |\n",
       "| 39 | 530.3000 |\n",
       "| 40 | 588.2500 |\n",
       "| 41 | 482.0000 |\n",
       "\n"
      ],
      "text/plain": [
       "   Age avg_pa  \n",
       "1  19  597.0000\n",
       "2  20  608.5000\n",
       "3  21  551.8824\n",
       "4  22  595.5250\n",
       "5  23  561.2297\n",
       "6  24  575.8131\n",
       "7  25  552.0000\n",
       "8  26  574.1390\n",
       "9  27  555.3564\n",
       "10 28  575.1050\n",
       "11 29  573.1892\n",
       "12 30  563.2560\n",
       "13 31  560.3409\n",
       "14 32  566.0000\n",
       "15 33  564.3553\n",
       "16 34  578.9863\n",
       "17 35  589.4878\n",
       "18 36  581.3333\n",
       "19 37  566.0000\n",
       "20 38  582.3000\n",
       "21 39  530.3000\n",
       "22 40  588.2500\n",
       "23 41  482.0000"
      ]
     },
     "metadata": {},
     "output_type": "display_data"
    }
   ],
   "source": [
    "pa <- data %>%\n",
    "group_by(Age) %>%\n",
    "summarize(avg_pa = mean(PA))\n",
    "pa\n",
    "## Plate Appearances seems to peak around 34-35.. however they vary much more than offensive statistics. "
   ]
  },
  {
   "cell_type": "code",
   "execution_count": 45,
   "metadata": {},
   "outputs": [
    {
     "data": {
      "text/html": [
       "<style>\n",
       ".dl-inline {width: auto; margin:0; padding: 0}\n",
       ".dl-inline>dt, .dl-inline>dd {float: none; width: auto; display: inline-block}\n",
       ".dl-inline>dt::after {content: \":\\0020\"; padding-right: .5ex}\n",
       ".dl-inline>dt:not(:first-of-type) {padding-left: .5ex}\n",
       "</style><dl class=dl-inline><dt>Season</dt><dd>2015.31707317073</dd><dt>Age</dt><dd>35</dd><dt>G</dt><dd>141.073170731707</dd><dt>PA</dt><dd>589.487804878049</dd><dt>HR</dt><dd>21.6585365853659</dd><dt>R</dt><dd>74.4390243902439</dd><dt>RBI</dt><dd>77.2439024390244</dd><dt>SB</dt><dd>5.14634146341463</dd><dt>ISO</dt><dd>0.184341463414634</dd><dt>BABIP</dt><dd>0.293024390243902</dd><dt>AVG</dt><dd>0.271170731707317</dd><dt>OBP</dt><dd>0.344365853658537</dd><dt>SLG</dt><dd>0.455512195121951</dd><dt>wOBA</dt><dd>0.344365853658537</dd><dt>wRC.</dt><dd>115.853658536585</dd><dt>BsR</dt><dd>-2.02439024390244</dd><dt>Off</dt><dd>9.22682926829268</dd><dt>Def</dt><dd>-5.51707317073171</dd><dt>WAR</dt><dd>2.39024390243902</dd><dt>playerid</dt><dd>3402.65853658537</dd></dl>\n"
      ],
      "text/latex": [
       "\\begin{description*}\n",
       "\\item[Season] 2015.31707317073\n",
       "\\item[Age] 35\n",
       "\\item[G] 141.073170731707\n",
       "\\item[PA] 589.487804878049\n",
       "\\item[HR] 21.6585365853659\n",
       "\\item[R] 74.4390243902439\n",
       "\\item[RBI] 77.2439024390244\n",
       "\\item[SB] 5.14634146341463\n",
       "\\item[ISO] 0.184341463414634\n",
       "\\item[BABIP] 0.293024390243902\n",
       "\\item[AVG] 0.271170731707317\n",
       "\\item[OBP] 0.344365853658537\n",
       "\\item[SLG] 0.455512195121951\n",
       "\\item[wOBA] 0.344365853658537\n",
       "\\item[wRC.] 115.853658536585\n",
       "\\item[BsR] -2.02439024390244\n",
       "\\item[Off] 9.22682926829268\n",
       "\\item[Def] -5.51707317073171\n",
       "\\item[WAR] 2.39024390243902\n",
       "\\item[playerid] 3402.65853658537\n",
       "\\end{description*}\n"
      ],
      "text/markdown": [
       "Season\n",
       ":   2015.31707317073Age\n",
       ":   35G\n",
       ":   141.073170731707PA\n",
       ":   589.487804878049HR\n",
       ":   21.6585365853659R\n",
       ":   74.4390243902439RBI\n",
       ":   77.2439024390244SB\n",
       ":   5.14634146341463ISO\n",
       ":   0.184341463414634BABIP\n",
       ":   0.293024390243902AVG\n",
       ":   0.271170731707317OBP\n",
       ":   0.344365853658537SLG\n",
       ":   0.455512195121951wOBA\n",
       ":   0.344365853658537wRC.\n",
       ":   115.853658536585BsR\n",
       ":   -2.02439024390244Off\n",
       ":   9.22682926829268Def\n",
       ":   -5.51707317073171WAR\n",
       ":   2.39024390243902playerid\n",
       ":   3402.65853658537\n",
       "\n"
      ],
      "text/plain": [
       "      Season          Age            G           PA           HR            R \n",
       "2015.3170732   35.0000000  141.0731707  589.4878049   21.6585366   74.4390244 \n",
       "         RBI           SB          ISO        BABIP          AVG          OBP \n",
       "  77.2439024    5.1463415    0.1843415    0.2930244    0.2711707    0.3443659 \n",
       "         SLG         wOBA         wRC.          BsR          Off          Def \n",
       "   0.4555122    0.3443659  115.8536585   -2.0243902    9.2268293   -5.5170732 \n",
       "         WAR     playerid \n",
       "   2.3902439 3402.6585366 "
      ]
     },
     "metadata": {},
     "output_type": "display_data"
    },
    {
     "data": {
      "text/html": [
       "<style>\n",
       ".dl-inline {width: auto; margin:0; padding: 0}\n",
       ".dl-inline>dt, .dl-inline>dd {float: none; width: auto; display: inline-block}\n",
       ".dl-inline>dt::after {content: \":\\0020\"; padding-right: .5ex}\n",
       ".dl-inline>dt:not(:first-of-type) {padding-left: .5ex}\n",
       "</style><dl class=dl-inline><dt>Season</dt><dd>2015.9301191766</dd><dt>Age</dt><dd>28.5146262188516</dd><dt>G</dt><dd>136.958288190683</dd><dt>PA</dt><dd>567.57150595883</dd><dt>HR</dt><dd>18.9609967497291</dd><dt>R</dt><dd>72.2226435536295</dd><dt>RBI</dt><dd>69.2502708559047</dd><dt>SB</dt><dd>9.30227518959913</dd><dt>ISO</dt><dd>0.177304442036836</dd><dt>BABIP</dt><dd>0.304860238353196</dd><dt>AVG</dt><dd>0.268826110509209</dd><dt>OBP</dt><dd>0.338310400866739</dd><dt>SLG</dt><dd>0.446135969664139</dd><dt>wOBA</dt><dd>0.338069880823402</dd><dt>wRC.</dt><dd>112.155471289274</dd><dt>BsR</dt><dd>0.255254604550379</dd><dt>Off</dt><dd>8.90075839653304</dd><dt>Def</dt><dd>-1.18125677139762</dd><dt>WAR</dt><dd>2.71218851570964</dd><dt>playerid</dt><dd>8330.86944745396</dd></dl>\n"
      ],
      "text/latex": [
       "\\begin{description*}\n",
       "\\item[Season] 2015.9301191766\n",
       "\\item[Age] 28.5146262188516\n",
       "\\item[G] 136.958288190683\n",
       "\\item[PA] 567.57150595883\n",
       "\\item[HR] 18.9609967497291\n",
       "\\item[R] 72.2226435536295\n",
       "\\item[RBI] 69.2502708559047\n",
       "\\item[SB] 9.30227518959913\n",
       "\\item[ISO] 0.177304442036836\n",
       "\\item[BABIP] 0.304860238353196\n",
       "\\item[AVG] 0.268826110509209\n",
       "\\item[OBP] 0.338310400866739\n",
       "\\item[SLG] 0.446135969664139\n",
       "\\item[wOBA] 0.338069880823402\n",
       "\\item[wRC.] 112.155471289274\n",
       "\\item[BsR] 0.255254604550379\n",
       "\\item[Off] 8.90075839653304\n",
       "\\item[Def] -1.18125677139762\n",
       "\\item[WAR] 2.71218851570964\n",
       "\\item[playerid] 8330.86944745396\n",
       "\\end{description*}\n"
      ],
      "text/markdown": [
       "Season\n",
       ":   2015.9301191766Age\n",
       ":   28.5146262188516G\n",
       ":   136.958288190683PA\n",
       ":   567.57150595883HR\n",
       ":   18.9609967497291R\n",
       ":   72.2226435536295RBI\n",
       ":   69.2502708559047SB\n",
       ":   9.30227518959913ISO\n",
       ":   0.177304442036836BABIP\n",
       ":   0.304860238353196AVG\n",
       ":   0.268826110509209OBP\n",
       ":   0.338310400866739SLG\n",
       ":   0.446135969664139wOBA\n",
       ":   0.338069880823402wRC.\n",
       ":   112.155471289274BsR\n",
       ":   0.255254604550379Off\n",
       ":   8.90075839653304Def\n",
       ":   -1.18125677139762WAR\n",
       ":   2.71218851570964playerid\n",
       ":   8330.86944745396\n",
       "\n"
      ],
      "text/plain": [
       "      Season          Age            G           PA           HR            R \n",
       "2015.9301192   28.5146262  136.9582882  567.5715060   18.9609967   72.2226436 \n",
       "         RBI           SB          ISO        BABIP          AVG          OBP \n",
       "  69.2502709    9.3022752    0.1773044    0.3048602    0.2688261    0.3383104 \n",
       "         SLG         wOBA         wRC.          BsR          Off          Def \n",
       "   0.4461360    0.3380699  112.1554713    0.2552546    8.9007584   -1.1812568 \n",
       "         WAR     playerid \n",
       "   2.7121885 8330.8694475 "
      ]
     },
     "metadata": {},
     "output_type": "display_data"
    }
   ],
   "source": [
    "## There seems to be a spike at age 35 for most statistics. Time to analyze the individual data rows comparative to the\n",
    "## general data. \n",
    "\n",
    "thfive <- data %>%\n",
    "filter(Age == 35)\n",
    "num_thfive <- thfive %>% select(where(is.numeric))\n",
    "num_data <- data %>% select(where(is.numeric))\n",
    "colMeans(num_thfive)\n",
    "colMeans(num_data)\n",
    "\n",
    "## It appears that 35 year old batters are generally more effective in all aspects of hitting, but most prominently in terms\n",
    "## of power production. The difference between slugging percentage and home runs is the most significant difference between\n",
    "## 35 year old and the entire field. However the defence of 35 year old is far below the average, explaining the negative\n",
    "## difference in WAR. "
   ]
  },
  {
   "cell_type": "code",
   "execution_count": null,
   "metadata": {},
   "outputs": [],
   "source": []
  },
  {
   "cell_type": "code",
   "execution_count": null,
   "metadata": {},
   "outputs": [],
   "source": []
  },
  {
   "cell_type": "code",
   "execution_count": null,
   "metadata": {},
   "outputs": [],
   "source": []
  }
 ],
 "metadata": {
  "kernelspec": {
   "display_name": "R",
   "language": "R",
   "name": "ir"
  },
  "language_info": {
   "codemirror_mode": "r",
   "file_extension": ".r",
   "mimetype": "text/x-r-source",
   "name": "R",
   "pygments_lexer": "r",
   "version": "4.1.1"
  }
 },
 "nbformat": 4,
 "nbformat_minor": 4
}
