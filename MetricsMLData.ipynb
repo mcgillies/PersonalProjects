{
 "cells": [
  {
   "cell_type": "code",
   "execution_count": 2,
   "id": "0a455b41-9a00-4626-a228-e54e32124dc0",
   "metadata": {},
   "outputs": [
    {
     "name": "stderr",
     "output_type": "stream",
     "text": [
      "── \u001b[1mAttaching packages\u001b[22m ─────────────────────────────────────── tidyverse 1.3.1 ──\n",
      "\n",
      "\u001b[32m✔\u001b[39m \u001b[34mggplot2\u001b[39m 3.3.5     \u001b[32m✔\u001b[39m \u001b[34mpurrr  \u001b[39m 0.3.4\n",
      "\u001b[32m✔\u001b[39m \u001b[34mtibble \u001b[39m 3.1.6     \u001b[32m✔\u001b[39m \u001b[34mdplyr  \u001b[39m 1.0.9\n",
      "\u001b[32m✔\u001b[39m \u001b[34mtidyr  \u001b[39m 1.2.0     \u001b[32m✔\u001b[39m \u001b[34mstringr\u001b[39m 1.4.0\n",
      "\u001b[32m✔\u001b[39m \u001b[34mreadr  \u001b[39m 2.0.2     \u001b[32m✔\u001b[39m \u001b[34mforcats\u001b[39m 0.5.1\n",
      "\n",
      "Warning message:\n",
      "“package ‘tidyr’ was built under R version 4.1.2”\n",
      "Warning message:\n",
      "“package ‘dplyr’ was built under R version 4.1.2”\n",
      "── \u001b[1mConflicts\u001b[22m ────────────────────────────────────────── tidyverse_conflicts() ──\n",
      "\u001b[31m✖\u001b[39m \u001b[34mdplyr\u001b[39m::\u001b[32mfilter()\u001b[39m masks \u001b[34mstats\u001b[39m::filter()\n",
      "\u001b[31m✖\u001b[39m \u001b[34mdplyr\u001b[39m::\u001b[32mlag()\u001b[39m    masks \u001b[34mstats\u001b[39m::lag()\n",
      "\n",
      "Warning message:\n",
      "“package ‘repr’ was built under R version 4.1.2”\n",
      "\n",
      "Attaching package: ‘gridExtra’\n",
      "\n",
      "\n",
      "The following object is masked from ‘package:dplyr’:\n",
      "\n",
      "    combine\n",
      "\n",
      "\n",
      "Warning message:\n",
      "“package ‘tidymodels’ was built under R version 4.1.2”\n",
      "── \u001b[1mAttaching packages\u001b[22m ────────────────────────────────────── tidymodels 0.2.0 ──\n",
      "\n",
      "\u001b[32m✔\u001b[39m \u001b[34mbroom       \u001b[39m 0.7.12     \u001b[32m✔\u001b[39m \u001b[34mrsample     \u001b[39m 0.1.1 \n",
      "\u001b[32m✔\u001b[39m \u001b[34mdials       \u001b[39m 0.1.0      \u001b[32m✔\u001b[39m \u001b[34mtune        \u001b[39m 0.2.0 \n",
      "\u001b[32m✔\u001b[39m \u001b[34minfer       \u001b[39m 1.0.0      \u001b[32m✔\u001b[39m \u001b[34mworkflows   \u001b[39m 0.2.6 \n",
      "\u001b[32m✔\u001b[39m \u001b[34mmodeldata   \u001b[39m 0.1.1      \u001b[32m✔\u001b[39m \u001b[34mworkflowsets\u001b[39m 0.2.1 \n",
      "\u001b[32m✔\u001b[39m \u001b[34mparsnip     \u001b[39m 0.2.1      \u001b[32m✔\u001b[39m \u001b[34myardstick   \u001b[39m 0.0.9 \n",
      "\u001b[32m✔\u001b[39m \u001b[34mrecipes     \u001b[39m 0.2.0      \n",
      "\n",
      "Warning message:\n",
      "“package ‘broom’ was built under R version 4.1.2”\n",
      "Warning message:\n",
      "“package ‘dials’ was built under R version 4.1.2”\n",
      "Warning message:\n",
      "“package ‘parsnip’ was built under R version 4.1.2”\n",
      "Warning message:\n",
      "“package ‘recipes’ was built under R version 4.1.2”\n",
      "Warning message:\n",
      "“package ‘tune’ was built under R version 4.1.2”\n",
      "Warning message:\n",
      "“package ‘workflows’ was built under R version 4.1.2”\n",
      "Warning message:\n",
      "“package ‘workflowsets’ was built under R version 4.1.2”\n",
      "── \u001b[1mConflicts\u001b[22m ───────────────────────────────────────── tidymodels_conflicts() ──\n",
      "\u001b[31m✖\u001b[39m \u001b[34mgridExtra\u001b[39m::\u001b[32mcombine()\u001b[39m masks \u001b[34mdplyr\u001b[39m::combine()\n",
      "\u001b[31m✖\u001b[39m \u001b[34mscales\u001b[39m::\u001b[32mdiscard()\u001b[39m    masks \u001b[34mpurrr\u001b[39m::discard()\n",
      "\u001b[31m✖\u001b[39m \u001b[34mdplyr\u001b[39m::\u001b[32mfilter()\u001b[39m      masks \u001b[34mstats\u001b[39m::filter()\n",
      "\u001b[31m✖\u001b[39m \u001b[34mrecipes\u001b[39m::\u001b[32mfixed()\u001b[39m     masks \u001b[34mstringr\u001b[39m::fixed()\n",
      "\u001b[31m✖\u001b[39m \u001b[34mdplyr\u001b[39m::\u001b[32mlag()\u001b[39m         masks \u001b[34mstats\u001b[39m::lag()\n",
      "\u001b[31m✖\u001b[39m \u001b[34myardstick\u001b[39m::\u001b[32mspec()\u001b[39m    masks \u001b[34mreadr\u001b[39m::spec()\n",
      "\u001b[31m✖\u001b[39m \u001b[34mrecipes\u001b[39m::\u001b[32mstep()\u001b[39m      masks \u001b[34mstats\u001b[39m::step()\n",
      "\u001b[34m•\u001b[39m Dig deeper into tidy modeling with R at \u001b[32mhttps://www.tmwr.org\u001b[39m\n",
      "\n",
      "Registered S3 method overwritten by 'GGally':\n",
      "  method from   \n",
      "  +.gg   ggplot2\n",
      "\n"
     ]
    }
   ],
   "source": [
    "library(tidyverse)\n",
    "library(repr)\n",
    "library(digest)\n",
    "library(gridExtra)\n",
    "library(cowplot)\n",
    "library(dplyr)\n",
    "library(tidymodels)\n",
    "library(GGally)\n",
    "library(splines)"
   ]
  },
  {
   "cell_type": "code",
   "execution_count": 9,
   "id": "d1845b02-3e5e-484e-9a2b-cc320e0f0085",
   "metadata": {},
   "outputs": [
    {
     "name": "stderr",
     "output_type": "stream",
     "text": [
      "\u001b[1mRows: \u001b[22m\u001b[34m1983\u001b[39m \u001b[1mColumns: \u001b[22m\u001b[34m20\u001b[39m\n",
      "\u001b[36m──\u001b[39m \u001b[1mColumn specification\u001b[22m \u001b[36m────────────────────────────────────────────────────────\u001b[39m\n",
      "\u001b[1mDelimiter:\u001b[22m \",\"\n",
      "\u001b[31mchr\u001b[39m  (1): player\n",
      "\u001b[32mdbl\u001b[39m (19): id, rank, year, batted_ball_events, launch_angle, sweet_spot_perce...\n",
      "\n",
      "\u001b[36mℹ\u001b[39m Use `spec()` to retrieve the full column specification for this data.\n",
      "\u001b[36mℹ\u001b[39m Specify the column types or set `show_col_types = FALSE` to quiet this message.\n"
     ]
    },
    {
     "data": {
      "text/html": [
       "<table class=\"dataframe\">\n",
       "<caption>A tibble: 6 × 18</caption>\n",
       "<thead>\n",
       "\t<tr><th scope=col>year</th><th scope=col>player</th><th scope=col>batted_ball_events</th><th scope=col>launch_angle</th><th scope=col>sweet_spot_percentage</th><th scope=col>max_ev</th><th scope=col>average_ev</th><th scope=col>fly_ball_line_drive_ev</th><th scope=col>ground_ball_ev</th><th scope=col>max_distance</th><th scope=col>average_distance</th><th scope=col>average_homerun</th><th scope=col>hard_hit_95mph+</th><th scope=col>hard_hit_percentage</th><th scope=col>hard_hit_swing_percentage</th><th scope=col>total_barrels</th><th scope=col>barrels_batted_balls_percentage</th><th scope=col>barrels_plate_appearance_percentage</th></tr>\n",
       "\t<tr><th scope=col>&lt;dbl&gt;</th><th scope=col>&lt;chr&gt;</th><th scope=col>&lt;dbl&gt;</th><th scope=col>&lt;dbl&gt;</th><th scope=col>&lt;dbl&gt;</th><th scope=col>&lt;dbl&gt;</th><th scope=col>&lt;dbl&gt;</th><th scope=col>&lt;dbl&gt;</th><th scope=col>&lt;dbl&gt;</th><th scope=col>&lt;dbl&gt;</th><th scope=col>&lt;dbl&gt;</th><th scope=col>&lt;dbl&gt;</th><th scope=col>&lt;dbl&gt;</th><th scope=col>&lt;dbl&gt;</th><th scope=col>&lt;dbl&gt;</th><th scope=col>&lt;dbl&gt;</th><th scope=col>&lt;dbl&gt;</th><th scope=col>&lt;dbl&gt;</th></tr>\n",
       "</thead>\n",
       "<tbody>\n",
       "\t<tr><td>2022</td><td>Judge, Aaron      </td><td>341</td><td>14.6</td><td>37.8</td><td>118.4</td><td>95.8</td><td>100.2</td><td>89.1</td><td>465</td><td>205</td><td>413</td><td>210</td><td>61.6</td><td>20.3</td><td>91</td><td>26.7</td><td>15.8</td></tr>\n",
       "\t<tr><td>2022</td><td>Alvarez, Yordan   </td><td>304</td><td>12.1</td><td>40.1</td><td>117.4</td><td>95.5</td><td> 98.2</td><td>92.7</td><td>469</td><td>193</td><td>403</td><td>186</td><td>61.2</td><td>23.7</td><td>59</td><td>19.4</td><td>12.7</td></tr>\n",
       "\t<tr><td>2022</td><td>Trout, Mike       </td><td>234</td><td>24.7</td><td>37.2</td><td>114.4</td><td>91.7</td><td> 94.9</td><td>87.7</td><td>472</td><td>218</td><td>407</td><td>120</td><td>51.3</td><td>16.5</td><td>46</td><td>19.7</td><td>11.6</td></tr>\n",
       "\t<tr><td>2022</td><td>Schwarber, Kyle   </td><td>312</td><td>18.9</td><td>34.6</td><td>114.8</td><td>93.3</td><td> 99.7</td><td>87.2</td><td>468</td><td>197</td><td>415</td><td>170</td><td>54.5</td><td>17.6</td><td>64</td><td>20.5</td><td>11.5</td></tr>\n",
       "\t<tr><td>2022</td><td>Stanton, Giancarlo</td><td>228</td><td>10.2</td><td>26.3</td><td>119.8</td><td>94.6</td><td> 98.2</td><td>94.1</td><td>445</td><td>160</td><td>400</td><td>117</td><td>51.3</td><td>17.8</td><td>42</td><td>18.4</td><td>11.3</td></tr>\n",
       "\t<tr><td>2022</td><td>Ohtani, Shohei    </td><td>354</td><td>12.6</td><td>34.7</td><td>119.1</td><td>92.6</td><td> 97.2</td><td>87.7</td><td>462</td><td>180</td><td>408</td><td>168</td><td>47.5</td><td>16.2</td><td>62</td><td>17.5</td><td>11.1</td></tr>\n",
       "</tbody>\n",
       "</table>\n"
      ],
      "text/latex": [
       "A tibble: 6 × 18\n",
       "\\begin{tabular}{llllllllllllllllll}\n",
       " year & player & batted\\_ball\\_events & launch\\_angle & sweet\\_spot\\_percentage & max\\_ev & average\\_ev & fly\\_ball\\_line\\_drive\\_ev & ground\\_ball\\_ev & max\\_distance & average\\_distance & average\\_homerun & hard\\_hit\\_95mph+ & hard\\_hit\\_percentage & hard\\_hit\\_swing\\_percentage & total\\_barrels & barrels\\_batted\\_balls\\_percentage & barrels\\_plate\\_appearance\\_percentage\\\\\n",
       " <dbl> & <chr> & <dbl> & <dbl> & <dbl> & <dbl> & <dbl> & <dbl> & <dbl> & <dbl> & <dbl> & <dbl> & <dbl> & <dbl> & <dbl> & <dbl> & <dbl> & <dbl>\\\\\n",
       "\\hline\n",
       "\t 2022 & Judge, Aaron       & 341 & 14.6 & 37.8 & 118.4 & 95.8 & 100.2 & 89.1 & 465 & 205 & 413 & 210 & 61.6 & 20.3 & 91 & 26.7 & 15.8\\\\\n",
       "\t 2022 & Alvarez, Yordan    & 304 & 12.1 & 40.1 & 117.4 & 95.5 &  98.2 & 92.7 & 469 & 193 & 403 & 186 & 61.2 & 23.7 & 59 & 19.4 & 12.7\\\\\n",
       "\t 2022 & Trout, Mike        & 234 & 24.7 & 37.2 & 114.4 & 91.7 &  94.9 & 87.7 & 472 & 218 & 407 & 120 & 51.3 & 16.5 & 46 & 19.7 & 11.6\\\\\n",
       "\t 2022 & Schwarber, Kyle    & 312 & 18.9 & 34.6 & 114.8 & 93.3 &  99.7 & 87.2 & 468 & 197 & 415 & 170 & 54.5 & 17.6 & 64 & 20.5 & 11.5\\\\\n",
       "\t 2022 & Stanton, Giancarlo & 228 & 10.2 & 26.3 & 119.8 & 94.6 &  98.2 & 94.1 & 445 & 160 & 400 & 117 & 51.3 & 17.8 & 42 & 18.4 & 11.3\\\\\n",
       "\t 2022 & Ohtani, Shohei     & 354 & 12.6 & 34.7 & 119.1 & 92.6 &  97.2 & 87.7 & 462 & 180 & 408 & 168 & 47.5 & 16.2 & 62 & 17.5 & 11.1\\\\\n",
       "\\end{tabular}\n"
      ],
      "text/markdown": [
       "\n",
       "A tibble: 6 × 18\n",
       "\n",
       "| year &lt;dbl&gt; | player &lt;chr&gt; | batted_ball_events &lt;dbl&gt; | launch_angle &lt;dbl&gt; | sweet_spot_percentage &lt;dbl&gt; | max_ev &lt;dbl&gt; | average_ev &lt;dbl&gt; | fly_ball_line_drive_ev &lt;dbl&gt; | ground_ball_ev &lt;dbl&gt; | max_distance &lt;dbl&gt; | average_distance &lt;dbl&gt; | average_homerun &lt;dbl&gt; | hard_hit_95mph+ &lt;dbl&gt; | hard_hit_percentage &lt;dbl&gt; | hard_hit_swing_percentage &lt;dbl&gt; | total_barrels &lt;dbl&gt; | barrels_batted_balls_percentage &lt;dbl&gt; | barrels_plate_appearance_percentage &lt;dbl&gt; |\n",
       "|---|---|---|---|---|---|---|---|---|---|---|---|---|---|---|---|---|---|\n",
       "| 2022 | Judge, Aaron       | 341 | 14.6 | 37.8 | 118.4 | 95.8 | 100.2 | 89.1 | 465 | 205 | 413 | 210 | 61.6 | 20.3 | 91 | 26.7 | 15.8 |\n",
       "| 2022 | Alvarez, Yordan    | 304 | 12.1 | 40.1 | 117.4 | 95.5 |  98.2 | 92.7 | 469 | 193 | 403 | 186 | 61.2 | 23.7 | 59 | 19.4 | 12.7 |\n",
       "| 2022 | Trout, Mike        | 234 | 24.7 | 37.2 | 114.4 | 91.7 |  94.9 | 87.7 | 472 | 218 | 407 | 120 | 51.3 | 16.5 | 46 | 19.7 | 11.6 |\n",
       "| 2022 | Schwarber, Kyle    | 312 | 18.9 | 34.6 | 114.8 | 93.3 |  99.7 | 87.2 | 468 | 197 | 415 | 170 | 54.5 | 17.6 | 64 | 20.5 | 11.5 |\n",
       "| 2022 | Stanton, Giancarlo | 228 | 10.2 | 26.3 | 119.8 | 94.6 |  98.2 | 94.1 | 445 | 160 | 400 | 117 | 51.3 | 17.8 | 42 | 18.4 | 11.3 |\n",
       "| 2022 | Ohtani, Shohei     | 354 | 12.6 | 34.7 | 119.1 | 92.6 |  97.2 | 87.7 | 462 | 180 | 408 | 168 | 47.5 | 16.2 | 62 | 17.5 | 11.1 |\n",
       "\n"
      ],
      "text/plain": [
       "  year player             batted_ball_events launch_angle sweet_spot_percentage\n",
       "1 2022 Judge, Aaron       341                14.6         37.8                 \n",
       "2 2022 Alvarez, Yordan    304                12.1         40.1                 \n",
       "3 2022 Trout, Mike        234                24.7         37.2                 \n",
       "4 2022 Schwarber, Kyle    312                18.9         34.6                 \n",
       "5 2022 Stanton, Giancarlo 228                10.2         26.3                 \n",
       "6 2022 Ohtani, Shohei     354                12.6         34.7                 \n",
       "  max_ev average_ev fly_ball_line_drive_ev ground_ball_ev max_distance\n",
       "1 118.4  95.8       100.2                  89.1           465         \n",
       "2 117.4  95.5        98.2                  92.7           469         \n",
       "3 114.4  91.7        94.9                  87.7           472         \n",
       "4 114.8  93.3        99.7                  87.2           468         \n",
       "5 119.8  94.6        98.2                  94.1           445         \n",
       "6 119.1  92.6        97.2                  87.7           462         \n",
       "  average_distance average_homerun hard_hit_95mph+ hard_hit_percentage\n",
       "1 205              413             210             61.6               \n",
       "2 193              403             186             61.2               \n",
       "3 218              407             120             51.3               \n",
       "4 197              415             170             54.5               \n",
       "5 160              400             117             51.3               \n",
       "6 180              408             168             47.5               \n",
       "  hard_hit_swing_percentage total_barrels barrels_batted_balls_percentage\n",
       "1 20.3                      91            26.7                           \n",
       "2 23.7                      59            19.4                           \n",
       "3 16.5                      46            19.7                           \n",
       "4 17.6                      64            20.5                           \n",
       "5 17.8                      42            18.4                           \n",
       "6 16.2                      62            17.5                           \n",
       "  barrels_plate_appearance_percentage\n",
       "1 15.8                               \n",
       "2 12.7                               \n",
       "3 11.6                               \n",
       "4 11.5                               \n",
       "5 11.3                               \n",
       "6 11.1                               "
      ]
     },
     "metadata": {},
     "output_type": "display_data"
    }
   ],
   "source": [
    "setwd(\"/Users/matthewgillies\")\n",
    "metricdata <- read_csv(\"downloads/mlb-batter-exit-velocity.csv\") %>% select(-id, -rank)\n",
    "head(metricdata)"
   ]
  },
  {
   "cell_type": "code",
   "execution_count": 33,
   "id": "59487641-1f93-44b7-9d73-507ca5e1526d",
   "metadata": {},
   "outputs": [
    {
     "name": "stderr",
     "output_type": "stream",
     "text": [
      "\u001b[1m\u001b[22mNew names:\n",
      "\u001b[36m•\u001b[39m `` -> `...7`\n",
      "\u001b[1mRows: \u001b[22m\u001b[34m1112\u001b[39m \u001b[1mColumns: \u001b[22m\u001b[34m7\u001b[39m\n",
      "\u001b[36m──\u001b[39m \u001b[1mColumn specification\u001b[22m \u001b[36m────────────────────────────────────────────────────────\u001b[39m\n",
      "\u001b[1mDelimiter:\u001b[22m \",\"\n",
      "\u001b[31mchr\u001b[39m (2): last_name, first_name\n",
      "\u001b[32mdbl\u001b[39m (4): player_id, year, b_ab, b_home_run\n",
      "\u001b[33mlgl\u001b[39m (1): ...7\n",
      "\n",
      "\u001b[36mℹ\u001b[39m Use `spec()` to retrieve the full column specification for this data.\n",
      "\u001b[36mℹ\u001b[39m Specify the column types or set `show_col_types = FALSE` to quiet this message.\n"
     ]
    },
    {
     "data": {
      "text/html": [
       "<table class=\"dataframe\">\n",
       "<caption>A tibble: 6 × 4</caption>\n",
       "<thead>\n",
       "\t<tr><th scope=col>player</th><th scope=col>player_id</th><th scope=col>year</th><th scope=col>HR/AB</th></tr>\n",
       "\t<tr><th scope=col>&lt;chr&gt;</th><th scope=col>&lt;dbl&gt;</th><th scope=col>&lt;dbl&gt;</th><th scope=col>&lt;dbl&gt;</th></tr>\n",
       "</thead>\n",
       "<tbody>\n",
       "\t<tr><td>Cruz Jr., Nelson </td><td>443558</td><td>2022</td><td>0.02232143</td></tr>\n",
       "\t<tr><td>Blackmon, Charlie</td><td>453568</td><td>2022</td><td>0.03018868</td></tr>\n",
       "\t<tr><td>McCutchen, Andrew</td><td>457705</td><td>2022</td><td>0.03300971</td></tr>\n",
       "\t<tr><td>Turner, Justin   </td><td>457759</td><td>2022</td><td>0.02777778</td></tr>\n",
       "\t<tr><td>Andrus, Elvis    </td><td>462101</td><td>2022</td><td>0.03177570</td></tr>\n",
       "\t<tr><td>Santana, Carlos  </td><td>467793</td><td>2022</td><td>0.04408353</td></tr>\n",
       "</tbody>\n",
       "</table>\n"
      ],
      "text/latex": [
       "A tibble: 6 × 4\n",
       "\\begin{tabular}{llll}\n",
       " player & player\\_id & year & HR/AB\\\\\n",
       " <chr> & <dbl> & <dbl> & <dbl>\\\\\n",
       "\\hline\n",
       "\t Cruz Jr., Nelson  & 443558 & 2022 & 0.02232143\\\\\n",
       "\t Blackmon, Charlie & 453568 & 2022 & 0.03018868\\\\\n",
       "\t McCutchen, Andrew & 457705 & 2022 & 0.03300971\\\\\n",
       "\t Turner, Justin    & 457759 & 2022 & 0.02777778\\\\\n",
       "\t Andrus, Elvis     & 462101 & 2022 & 0.03177570\\\\\n",
       "\t Santana, Carlos   & 467793 & 2022 & 0.04408353\\\\\n",
       "\\end{tabular}\n"
      ],
      "text/markdown": [
       "\n",
       "A tibble: 6 × 4\n",
       "\n",
       "| player &lt;chr&gt; | player_id &lt;dbl&gt; | year &lt;dbl&gt; | HR/AB &lt;dbl&gt; |\n",
       "|---|---|---|---|\n",
       "| Cruz Jr., Nelson  | 443558 | 2022 | 0.02232143 |\n",
       "| Blackmon, Charlie | 453568 | 2022 | 0.03018868 |\n",
       "| McCutchen, Andrew | 457705 | 2022 | 0.03300971 |\n",
       "| Turner, Justin    | 457759 | 2022 | 0.02777778 |\n",
       "| Andrus, Elvis     | 462101 | 2022 | 0.03177570 |\n",
       "| Santana, Carlos   | 467793 | 2022 | 0.04408353 |\n",
       "\n"
      ],
      "text/plain": [
       "  player            player_id year HR/AB     \n",
       "1 Cruz Jr., Nelson  443558    2022 0.02232143\n",
       "2 Blackmon, Charlie 453568    2022 0.03018868\n",
       "3 McCutchen, Andrew 457705    2022 0.03300971\n",
       "4 Turner, Justin    457759    2022 0.02777778\n",
       "5 Andrus, Elvis     462101    2022 0.03177570\n",
       "6 Santana, Carlos   467793    2022 0.04408353"
      ]
     },
     "metadata": {},
     "output_type": "display_data"
    }
   ],
   "source": [
    "hr <- read_csv(\"downloads/stats (14).csv\") %>% unite(\"player\", last_name:first_name, sep = \", \", remove = T) %>%\n",
    "select(-\"...7\") %>% rename(\"HR\" = \"b_home_run\") %>% mutate(\"HR/AB\" = HR/b_ab) %>% select(-HR, -b_ab)\n",
    "head(hr)"
   ]
  },
  {
   "cell_type": "code",
   "execution_count": 34,
   "id": "a793c73a-6fb7-4d31-9ceb-da58061e5f4c",
   "metadata": {},
   "outputs": [
    {
     "data": {
      "text/html": [
       "<table class=\"dataframe\">\n",
       "<caption>A tibble: 6 × 19</caption>\n",
       "<thead>\n",
       "\t<tr><th scope=col>player</th><th scope=col>year</th><th scope=col>HR/AB</th><th scope=col>batted_ball_events</th><th scope=col>launch_angle</th><th scope=col>sweet_spot_percentage</th><th scope=col>max_ev</th><th scope=col>average_ev</th><th scope=col>fly_ball_line_drive_ev</th><th scope=col>ground_ball_ev</th><th scope=col>max_distance</th><th scope=col>average_distance</th><th scope=col>average_homerun</th><th scope=col>hard_hit_95mph+</th><th scope=col>hard_hit_percentage</th><th scope=col>hard_hit_swing_percentage</th><th scope=col>total_barrels</th><th scope=col>barrels_batted_balls_percentage</th><th scope=col>barrels_plate_appearance_percentage</th></tr>\n",
       "\t<tr><th scope=col>&lt;chr&gt;</th><th scope=col>&lt;dbl&gt;</th><th scope=col>&lt;dbl&gt;</th><th scope=col>&lt;dbl&gt;</th><th scope=col>&lt;dbl&gt;</th><th scope=col>&lt;dbl&gt;</th><th scope=col>&lt;dbl&gt;</th><th scope=col>&lt;dbl&gt;</th><th scope=col>&lt;dbl&gt;</th><th scope=col>&lt;dbl&gt;</th><th scope=col>&lt;dbl&gt;</th><th scope=col>&lt;dbl&gt;</th><th scope=col>&lt;dbl&gt;</th><th scope=col>&lt;dbl&gt;</th><th scope=col>&lt;dbl&gt;</th><th scope=col>&lt;dbl&gt;</th><th scope=col>&lt;dbl&gt;</th><th scope=col>&lt;dbl&gt;</th><th scope=col>&lt;dbl&gt;</th></tr>\n",
       "</thead>\n",
       "<tbody>\n",
       "\t<tr><td>Blackmon, Charlie</td><td>2022</td><td>0.03018868</td><td>388</td><td>12.0</td><td>36.6</td><td>109.5</td><td>86.1</td><td>90.1</td><td>82.5</td><td>453</td><td>160</td><td>409</td><td>119</td><td>30.7</td><td>12.5</td><td>19</td><td>4.9</td><td>3.7</td></tr>\n",
       "\t<tr><td>McCutchen, Andrew</td><td>2022</td><td>0.03300971</td><td>353</td><td>13.6</td><td>34.6</td><td>110.6</td><td>89.2</td><td>93.1</td><td>85.7</td><td>428</td><td>168</td><td>390</td><td>141</td><td>39.9</td><td>15.6</td><td>27</td><td>7.6</td><td>5.5</td></tr>\n",
       "\t<tr><td>Turner, Justin   </td><td>2022</td><td>0.02777778</td><td>331</td><td>19.0</td><td>40.2</td><td>108.9</td><td>89.4</td><td>91.8</td><td>86.6</td><td>414</td><td>191</td><td>392</td><td>133</td><td>40.2</td><td>15.7</td><td>27</td><td>8.2</td><td>6.0</td></tr>\n",
       "\t<tr><td>Andrus, Elvis    </td><td>2022</td><td>0.03177570</td><td>351</td><td>12.7</td><td>28.8</td><td>109.9</td><td>87.9</td><td>90.7</td><td>88.0</td><td>430</td><td>153</td><td>383</td><td>117</td><td>33.3</td><td>14.4</td><td>13</td><td>3.7</td><td>2.8</td></tr>\n",
       "\t<tr><td>Santana, Carlos  </td><td>2022</td><td>0.04408353</td><td>284</td><td>15.5</td><td>31.0</td><td>111.3</td><td>90.5</td><td>93.3</td><td>89.5</td><td>434</td><td>169</td><td>400</td><td>124</td><td>43.7</td><td>17.4</td><td>23</td><td>8.1</td><td>5.6</td></tr>\n",
       "\t<tr><td>Gurriel, Yuli    </td><td>2022</td><td>0.01467890</td><td>400</td><td>14.6</td><td>30.8</td><td>107.1</td><td>88.2</td><td>90.6</td><td>89.1</td><td>401</td><td>161</td><td>377</td><td>141</td><td>35.3</td><td>16.2</td><td> 8</td><td>2.0</td><td>1.6</td></tr>\n",
       "</tbody>\n",
       "</table>\n"
      ],
      "text/latex": [
       "A tibble: 6 × 19\n",
       "\\begin{tabular}{lllllllllllllllllll}\n",
       " player & year & HR/AB & batted\\_ball\\_events & launch\\_angle & sweet\\_spot\\_percentage & max\\_ev & average\\_ev & fly\\_ball\\_line\\_drive\\_ev & ground\\_ball\\_ev & max\\_distance & average\\_distance & average\\_homerun & hard\\_hit\\_95mph+ & hard\\_hit\\_percentage & hard\\_hit\\_swing\\_percentage & total\\_barrels & barrels\\_batted\\_balls\\_percentage & barrels\\_plate\\_appearance\\_percentage\\\\\n",
       " <chr> & <dbl> & <dbl> & <dbl> & <dbl> & <dbl> & <dbl> & <dbl> & <dbl> & <dbl> & <dbl> & <dbl> & <dbl> & <dbl> & <dbl> & <dbl> & <dbl> & <dbl> & <dbl>\\\\\n",
       "\\hline\n",
       "\t Blackmon, Charlie & 2022 & 0.03018868 & 388 & 12.0 & 36.6 & 109.5 & 86.1 & 90.1 & 82.5 & 453 & 160 & 409 & 119 & 30.7 & 12.5 & 19 & 4.9 & 3.7\\\\\n",
       "\t McCutchen, Andrew & 2022 & 0.03300971 & 353 & 13.6 & 34.6 & 110.6 & 89.2 & 93.1 & 85.7 & 428 & 168 & 390 & 141 & 39.9 & 15.6 & 27 & 7.6 & 5.5\\\\\n",
       "\t Turner, Justin    & 2022 & 0.02777778 & 331 & 19.0 & 40.2 & 108.9 & 89.4 & 91.8 & 86.6 & 414 & 191 & 392 & 133 & 40.2 & 15.7 & 27 & 8.2 & 6.0\\\\\n",
       "\t Andrus, Elvis     & 2022 & 0.03177570 & 351 & 12.7 & 28.8 & 109.9 & 87.9 & 90.7 & 88.0 & 430 & 153 & 383 & 117 & 33.3 & 14.4 & 13 & 3.7 & 2.8\\\\\n",
       "\t Santana, Carlos   & 2022 & 0.04408353 & 284 & 15.5 & 31.0 & 111.3 & 90.5 & 93.3 & 89.5 & 434 & 169 & 400 & 124 & 43.7 & 17.4 & 23 & 8.1 & 5.6\\\\\n",
       "\t Gurriel, Yuli     & 2022 & 0.01467890 & 400 & 14.6 & 30.8 & 107.1 & 88.2 & 90.6 & 89.1 & 401 & 161 & 377 & 141 & 35.3 & 16.2 &  8 & 2.0 & 1.6\\\\\n",
       "\\end{tabular}\n"
      ],
      "text/markdown": [
       "\n",
       "A tibble: 6 × 19\n",
       "\n",
       "| player &lt;chr&gt; | year &lt;dbl&gt; | HR/AB &lt;dbl&gt; | batted_ball_events &lt;dbl&gt; | launch_angle &lt;dbl&gt; | sweet_spot_percentage &lt;dbl&gt; | max_ev &lt;dbl&gt; | average_ev &lt;dbl&gt; | fly_ball_line_drive_ev &lt;dbl&gt; | ground_ball_ev &lt;dbl&gt; | max_distance &lt;dbl&gt; | average_distance &lt;dbl&gt; | average_homerun &lt;dbl&gt; | hard_hit_95mph+ &lt;dbl&gt; | hard_hit_percentage &lt;dbl&gt; | hard_hit_swing_percentage &lt;dbl&gt; | total_barrels &lt;dbl&gt; | barrels_batted_balls_percentage &lt;dbl&gt; | barrels_plate_appearance_percentage &lt;dbl&gt; |\n",
       "|---|---|---|---|---|---|---|---|---|---|---|---|---|---|---|---|---|---|---|\n",
       "| Blackmon, Charlie | 2022 | 0.03018868 | 388 | 12.0 | 36.6 | 109.5 | 86.1 | 90.1 | 82.5 | 453 | 160 | 409 | 119 | 30.7 | 12.5 | 19 | 4.9 | 3.7 |\n",
       "| McCutchen, Andrew | 2022 | 0.03300971 | 353 | 13.6 | 34.6 | 110.6 | 89.2 | 93.1 | 85.7 | 428 | 168 | 390 | 141 | 39.9 | 15.6 | 27 | 7.6 | 5.5 |\n",
       "| Turner, Justin    | 2022 | 0.02777778 | 331 | 19.0 | 40.2 | 108.9 | 89.4 | 91.8 | 86.6 | 414 | 191 | 392 | 133 | 40.2 | 15.7 | 27 | 8.2 | 6.0 |\n",
       "| Andrus, Elvis     | 2022 | 0.03177570 | 351 | 12.7 | 28.8 | 109.9 | 87.9 | 90.7 | 88.0 | 430 | 153 | 383 | 117 | 33.3 | 14.4 | 13 | 3.7 | 2.8 |\n",
       "| Santana, Carlos   | 2022 | 0.04408353 | 284 | 15.5 | 31.0 | 111.3 | 90.5 | 93.3 | 89.5 | 434 | 169 | 400 | 124 | 43.7 | 17.4 | 23 | 8.1 | 5.6 |\n",
       "| Gurriel, Yuli     | 2022 | 0.01467890 | 400 | 14.6 | 30.8 | 107.1 | 88.2 | 90.6 | 89.1 | 401 | 161 | 377 | 141 | 35.3 | 16.2 |  8 | 2.0 | 1.6 |\n",
       "\n"
      ],
      "text/plain": [
       "  player            year HR/AB      batted_ball_events launch_angle\n",
       "1 Blackmon, Charlie 2022 0.03018868 388                12.0        \n",
       "2 McCutchen, Andrew 2022 0.03300971 353                13.6        \n",
       "3 Turner, Justin    2022 0.02777778 331                19.0        \n",
       "4 Andrus, Elvis     2022 0.03177570 351                12.7        \n",
       "5 Santana, Carlos   2022 0.04408353 284                15.5        \n",
       "6 Gurriel, Yuli     2022 0.01467890 400                14.6        \n",
       "  sweet_spot_percentage max_ev average_ev fly_ball_line_drive_ev ground_ball_ev\n",
       "1 36.6                  109.5  86.1       90.1                   82.5          \n",
       "2 34.6                  110.6  89.2       93.1                   85.7          \n",
       "3 40.2                  108.9  89.4       91.8                   86.6          \n",
       "4 28.8                  109.9  87.9       90.7                   88.0          \n",
       "5 31.0                  111.3  90.5       93.3                   89.5          \n",
       "6 30.8                  107.1  88.2       90.6                   89.1          \n",
       "  max_distance average_distance average_homerun hard_hit_95mph+\n",
       "1 453          160              409             119            \n",
       "2 428          168              390             141            \n",
       "3 414          191              392             133            \n",
       "4 430          153              383             117            \n",
       "5 434          169              400             124            \n",
       "6 401          161              377             141            \n",
       "  hard_hit_percentage hard_hit_swing_percentage total_barrels\n",
       "1 30.7                12.5                      19           \n",
       "2 39.9                15.6                      27           \n",
       "3 40.2                15.7                      27           \n",
       "4 33.3                14.4                      13           \n",
       "5 43.7                17.4                      23           \n",
       "6 35.3                16.2                       8           \n",
       "  barrels_batted_balls_percentage barrels_plate_appearance_percentage\n",
       "1 4.9                             3.7                                \n",
       "2 7.6                             5.5                                \n",
       "3 8.2                             6.0                                \n",
       "4 3.7                             2.8                                \n",
       "5 8.1                             5.6                                \n",
       "6 2.0                             1.6                                "
      ]
     },
     "metadata": {},
     "output_type": "display_data"
    }
   ],
   "source": [
    "alldata <- right_join(hr, metricdata, by = c(\"player\", \"year\")) %>% select(-\"player_id\")\n",
    "head(alldata)"
   ]
  },
  {
   "cell_type": "code",
   "execution_count": 35,
   "id": "c37e539c-8a01-4bbd-8480-bf01763aff01",
   "metadata": {},
   "outputs": [],
   "source": [
    "write_csv(alldata, \"/Users/matthewgillies/EVDATA\")"
   ]
  },
  {
   "cell_type": "code",
   "execution_count": null,
   "id": "c72558fc-0774-457b-83b8-a0d756b8004e",
   "metadata": {},
   "outputs": [],
   "source": []
  }
 ],
 "metadata": {
  "kernelspec": {
   "display_name": "R",
   "language": "R",
   "name": "ir"
  },
  "language_info": {
   "codemirror_mode": "r",
   "file_extension": ".r",
   "mimetype": "text/x-r-source",
   "name": "R",
   "pygments_lexer": "r",
   "version": "4.1.1"
  }
 },
 "nbformat": 4,
 "nbformat_minor": 5
}
